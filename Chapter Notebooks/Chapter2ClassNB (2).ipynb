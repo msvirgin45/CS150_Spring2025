{
 "cells": [
  {
   "cell_type": "markdown",
   "id": "81b2bbc8",
   "metadata": {
    "slideshow": {
     "slide_type": "slide"
    }
   },
   "source": [
    "# Chapter 2: Variables and and Simple Data Types\n",
    "* A variable name is an **identifier**. \n",
    "* May consist of letters, digits and underscores (`_`) but **may not begin with a digit**. \n",
    "* Python is _case sensitive_. \n",
    "* Each value in Python has a type that indicates the kind of data the value represents. "
   ]
  },
  {
   "cell_type": "markdown",
   "id": "9f73fa21",
   "metadata": {
    "slideshow": {
     "slide_type": "slide"
    }
   },
   "source": [
    "#### Write a statement to create variable `myBirthYear` and use the **assignment symbol (`=`)** to give `myBirthYear` a numeric value. "
   ]
  },
  {
   "cell_type": "code",
   "execution_count": 16,
   "id": "6f0937a0-a542-4867-96e4-73261ed6a9f3",
   "metadata": {},
   "outputs": [],
   "source": [
    "myBirthYear=2006"
   ]
  },
  {
   "cell_type": "code",
   "execution_count": 17,
   "id": "4c4a646c-ef55-4a26-b14e-857aa0d161b6",
   "metadata": {},
   "outputs": [],
   "source": [
    "n6n=6"
   ]
  },
  {
   "cell_type": "markdown",
   "id": "0db7aea8-f0b7-4f37-9442-7c828bd6521c",
   "metadata": {},
   "source": [
    "#### This is a markdown cell"
   ]
  },
  {
   "cell_type": "markdown",
   "id": "87338e34",
   "metadata": {},
   "source": [
    "### Print a message consisting of a quoted sequence of characters"
   ]
  },
  {
   "cell_type": "code",
   "execution_count": 20,
   "id": "4a234bad-5f9e-448f-8a54-329e3c0cdb8a",
   "metadata": {},
   "outputs": [
    {
     "name": "stdout",
     "output_type": "stream",
     "text": [
      "Hello World\n"
     ]
    }
   ],
   "source": [
    "print(\"Hello World\")"
   ]
  },
  {
   "cell_type": "code",
   "execution_count": 21,
   "id": "331cdb5a-4407-4cd3-95f3-2f4194dbdab9",
   "metadata": {},
   "outputs": [
    {
     "name": "stdout",
     "output_type": "stream",
     "text": [
      "Hello World\n"
     ]
    }
   ],
   "source": [
    "print('Hello World')"
   ]
  },
  {
   "cell_type": "markdown",
   "id": "89fec02b",
   "metadata": {},
   "source": [
    "### Combine our knowledge about variables and printing to output a variable entered in a prior cell."
   ]
  },
  {
   "cell_type": "code",
   "execution_count": 25,
   "id": "4bf85453",
   "metadata": {},
   "outputs": [],
   "source": [
    "x = 5 * 6"
   ]
  },
  {
   "cell_type": "code",
   "execution_count": 26,
   "id": "55bdd6b2",
   "metadata": {},
   "outputs": [
    {
     "name": "stdout",
     "output_type": "stream",
     "text": [
      "30\n"
     ]
    }
   ],
   "source": [
    "print(x)"
   ]
  },
  {
   "cell_type": "code",
   "execution_count": 27,
   "id": "5698773f",
   "metadata": {},
   "outputs": [
    {
     "name": "stdout",
     "output_type": "stream",
     "text": [
      "2006\n"
     ]
    }
   ],
   "source": [
    "print(myBirthYear)"
   ]
  },
  {
   "cell_type": "markdown",
   "id": "5f8394d9",
   "metadata": {},
   "source": [
    "# Strings"
   ]
  },
  {
   "cell_type": "markdown",
   "id": "be203204",
   "metadata": {},
   "source": [
    "## A string is simply a series of characters. Anything inside quotes is considered a string in Python, and you can use `single` or `double quotes` around your strings\n",
    "### \"This is a string.\"\n",
    "### 'This is also a string.'"
   ]
  },
  {
   "cell_type": "markdown",
   "id": "adae7f7c",
   "metadata": {},
   "source": [
    "###  Build in String methods\n",
    "Use `dir('  ')` to display all possible methods (ways we can manipulate) strings (sequences of characters)."
   ]
  },
  {
   "cell_type": "code",
   "execution_count": 28,
   "id": "972ece85",
   "metadata": {},
   "outputs": [
    {
     "data": {
      "text/plain": [
       "['__add__',\n",
       " '__class__',\n",
       " '__contains__',\n",
       " '__delattr__',\n",
       " '__dir__',\n",
       " '__doc__',\n",
       " '__eq__',\n",
       " '__format__',\n",
       " '__ge__',\n",
       " '__getattribute__',\n",
       " '__getitem__',\n",
       " '__getnewargs__',\n",
       " '__getstate__',\n",
       " '__gt__',\n",
       " '__hash__',\n",
       " '__init__',\n",
       " '__init_subclass__',\n",
       " '__iter__',\n",
       " '__le__',\n",
       " '__len__',\n",
       " '__lt__',\n",
       " '__mod__',\n",
       " '__mul__',\n",
       " '__ne__',\n",
       " '__new__',\n",
       " '__reduce__',\n",
       " '__reduce_ex__',\n",
       " '__repr__',\n",
       " '__rmod__',\n",
       " '__rmul__',\n",
       " '__setattr__',\n",
       " '__sizeof__',\n",
       " '__str__',\n",
       " '__subclasshook__',\n",
       " 'capitalize',\n",
       " 'casefold',\n",
       " 'center',\n",
       " 'count',\n",
       " 'encode',\n",
       " 'endswith',\n",
       " 'expandtabs',\n",
       " 'find',\n",
       " 'format',\n",
       " 'format_map',\n",
       " 'index',\n",
       " 'isalnum',\n",
       " 'isalpha',\n",
       " 'isascii',\n",
       " 'isdecimal',\n",
       " 'isdigit',\n",
       " 'isidentifier',\n",
       " 'islower',\n",
       " 'isnumeric',\n",
       " 'isprintable',\n",
       " 'isspace',\n",
       " 'istitle',\n",
       " 'isupper',\n",
       " 'join',\n",
       " 'ljust',\n",
       " 'lower',\n",
       " 'lstrip',\n",
       " 'maketrans',\n",
       " 'partition',\n",
       " 'removeprefix',\n",
       " 'removesuffix',\n",
       " 'replace',\n",
       " 'rfind',\n",
       " 'rindex',\n",
       " 'rjust',\n",
       " 'rpartition',\n",
       " 'rsplit',\n",
       " 'rstrip',\n",
       " 'split',\n",
       " 'splitlines',\n",
       " 'startswith',\n",
       " 'strip',\n",
       " 'swapcase',\n",
       " 'title',\n",
       " 'translate',\n",
       " 'upper',\n",
       " 'zfill']"
      ]
     },
     "execution_count": 28,
     "metadata": {},
     "output_type": "execute_result"
    }
   ],
   "source": [
    "dir(\" \")"
   ]
  },
  {
   "cell_type": "markdown",
   "id": "f0cc290c",
   "metadata": {},
   "source": [
    "### Note: you don't need to worry about most of the methods defined above.  We are interested in a very small subset."
   ]
  },
  {
   "cell_type": "code",
   "execution_count": 31,
   "id": "55273abb-478f-4814-98c3-df114e6cf45d",
   "metadata": {},
   "outputs": [
    {
     "name": "stdout",
     "output_type": "stream",
     "text": [
      "Matthew\n"
     ]
    }
   ],
   "source": [
    "Myname = 'Matthew'\n",
    "print(Myname)"
   ]
  },
  {
   "cell_type": "code",
   "execution_count": 32,
   "id": "691e6b3a",
   "metadata": {},
   "outputs": [
    {
     "name": "stdout",
     "output_type": "stream",
     "text": [
      "MATTHEW\n"
     ]
    }
   ],
   "source": [
    "# print uppercase version of a string\n",
    "print(Myname.upper())"
   ]
  },
  {
   "cell_type": "code",
   "execution_count": 33,
   "id": "be0d6351",
   "metadata": {},
   "outputs": [
    {
     "name": "stdout",
     "output_type": "stream",
     "text": [
      "matthew\n"
     ]
    }
   ],
   "source": [
    "# print lowercase version of a string\n",
    "print(Myname.lower())"
   ]
  },
  {
   "cell_type": "code",
   "execution_count": 34,
   "id": "bdcfb17f",
   "metadata": {},
   "outputs": [
    {
     "name": "stdout",
     "output_type": "stream",
     "text": [
      "Matthew\n"
     ]
    }
   ],
   "source": [
    "# capitalize only the first letter in a string\n",
    "print(Myname.capitalize())"
   ]
  },
  {
   "cell_type": "code",
   "execution_count": 35,
   "id": "39359e69",
   "metadata": {},
   "outputs": [
    {
     "name": "stdout",
     "output_type": "stream",
     "text": [
      "Matthew\n"
     ]
    }
   ],
   "source": [
    "# provide title-case for a string (Notice how this is distinct from capitalizing)\n",
    "print(Myname.title())"
   ]
  },
  {
   "cell_type": "code",
   "execution_count": 36,
   "id": "30175e49-7563-4c9b-a0a1-b36a49613bdc",
   "metadata": {},
   "outputs": [],
   "source": [
    "myGreetings = \"hello. today is wednesday.\""
   ]
  },
  {
   "cell_type": "code",
   "execution_count": 37,
   "id": "870deff7-3aa2-43aa-a923-4f4f895190cf",
   "metadata": {},
   "outputs": [
    {
     "name": "stdout",
     "output_type": "stream",
     "text": [
      "Hello. Today Is Wednesday.\n"
     ]
    }
   ],
   "source": [
    "print(myGreetings.title())"
   ]
  },
  {
   "cell_type": "code",
   "execution_count": 38,
   "id": "ca530568-75d4-4212-b85c-2d5f657ef287",
   "metadata": {},
   "outputs": [
    {
     "name": "stdout",
     "output_type": "stream",
     "text": [
      "Hello. today is wednesday.\n"
     ]
    }
   ],
   "source": [
    "print(myGreetings.capitalize())"
   ]
  },
  {
   "cell_type": "code",
   "execution_count": 39,
   "id": "98ccee67",
   "metadata": {},
   "outputs": [
    {
     "name": "stdout",
     "output_type": "stream",
     "text": [
      "Hello students. \n",
      "This is CS150.\n"
     ]
    }
   ],
   "source": [
    "# Concatenate two strings (be careful -- this is done in a slightly different fashion!)\n",
    "mystr1 = \"Hello students. \"\n",
    "mystr2 = \"This is CS150.\"\n",
    "print(mystr1)\n",
    "print(mystr2)"
   ]
  },
  {
   "cell_type": "code",
   "execution_count": 40,
   "id": "9a9893d6",
   "metadata": {},
   "outputs": [
    {
     "name": "stdout",
     "output_type": "stream",
     "text": [
      "Hello students. This is CS150.\n"
     ]
    }
   ],
   "source": [
    "print(mystr1 + mystr2)"
   ]
  },
  {
   "cell_type": "code",
   "execution_count": 41,
   "id": "f94d7ae1-6572-49ae-bcbf-7b3ba538cddf",
   "metadata": {},
   "outputs": [
    {
     "name": "stdout",
     "output_type": "stream",
     "text": [
      "This is CS150.Hello students. \n"
     ]
    }
   ],
   "source": [
    "print(mystr2 + mystr1)"
   ]
  },
  {
   "cell_type": "code",
   "execution_count": null,
   "id": "c157d46f",
   "metadata": {},
   "outputs": [],
   "source": [
    "# Find the number of characters in a string (again, this may vary)"
   ]
  },
  {
   "cell_type": "code",
   "execution_count": 42,
   "id": "4579678b",
   "metadata": {},
   "outputs": [
    {
     "name": "stdout",
     "output_type": "stream",
     "text": [
      "16\n"
     ]
    }
   ],
   "source": [
    "print(len(mystr1))"
   ]
  },
  {
   "cell_type": "code",
   "execution_count": 43,
   "id": "637724c2-e0f7-46e1-9acb-4d2f57d8c3b0",
   "metadata": {},
   "outputs": [
    {
     "name": "stdout",
     "output_type": "stream",
     "text": [
      "26\n"
     ]
    }
   ],
   "source": [
    "print(len(myGreetings))"
   ]
  },
  {
   "cell_type": "markdown",
   "id": "9bdf8bca",
   "metadata": {},
   "source": [
    "## Practice 1:\n",
    "Personal Message: Store a person’s name in a variable, and print a message\n",
    "to that person. Your message should be simple, such as, “Hello Eric,\n",
    "would you like to learn some Python today?”\n"
   ]
  },
  {
   "cell_type": "code",
   "execution_count": 48,
   "id": "69ddf2f9",
   "metadata": {},
   "outputs": [
    {
     "name": "stdout",
     "output_type": "stream",
     "text": [
      "Mark \n",
      "Hello \n",
      "would you like to learn some Phython today?\n"
     ]
    }
   ],
   "source": [
    "Pname = 'Mark '\n",
    "Hi = 'Hello '\n",
    "Question = \"would you like to learn some Phython today?\"\n",
    "print(Pname)\n",
    "print(Hi)\n",
    "print(Question)\n"
   ]
  },
  {
   "cell_type": "code",
   "execution_count": 49,
   "id": "3cb958d4-d537-4a36-b380-267316b34e48",
   "metadata": {},
   "outputs": [
    {
     "name": "stdout",
     "output_type": "stream",
     "text": [
      "Hello Mark would you like to learn some Phython today?\n"
     ]
    }
   ],
   "source": [
    "print(Hi + Pname + Question)"
   ]
  },
  {
   "cell_type": "markdown",
   "id": "720b2630",
   "metadata": {},
   "source": [
    "## Practice 2:\n",
    "Name Cases: Store a person’s name in a variable, and then print that person’s\n",
    "name in lowercase, uppercase, and titlecase."
   ]
  },
  {
   "cell_type": "code",
   "execution_count": 1,
   "id": "7d370a88",
   "metadata": {},
   "outputs": [
    {
     "name": "stdout",
     "output_type": "stream",
     "text": [
      "Cole virgin\n"
     ]
    }
   ],
   "source": [
    "myFamilyMember = \"Cole virgin\"\n",
    "print(myFamilyMember)"
   ]
  },
  {
   "cell_type": "code",
   "execution_count": 3,
   "id": "a2d89d05",
   "metadata": {},
   "outputs": [
    {
     "name": "stdout",
     "output_type": "stream",
     "text": [
      "cole virgin\n"
     ]
    }
   ],
   "source": [
    "print(myFamilyMember.lower())"
   ]
  },
  {
   "cell_type": "code",
   "execution_count": 4,
   "id": "95524d82",
   "metadata": {},
   "outputs": [
    {
     "name": "stdout",
     "output_type": "stream",
     "text": [
      "COLE VIRGIN\n"
     ]
    }
   ],
   "source": [
    "print(myFamilyMember.upper())"
   ]
  },
  {
   "cell_type": "code",
   "execution_count": 5,
   "id": "a43e1d7d",
   "metadata": {},
   "outputs": [
    {
     "name": "stdout",
     "output_type": "stream",
     "text": [
      "Cole Virgin\n"
     ]
    }
   ],
   "source": [
    "print(myFamilyMember.title())"
   ]
  },
  {
   "cell_type": "markdown",
   "id": "1f7191b0",
   "metadata": {},
   "source": [
    "## Adding Whitespace to Strings with Tabs or Newlines or  quotation\n",
    "* A backslash (`\\`) in a string is the **escape character**. \n",
    "* The backslash and the character immediately following it form an **escape sequence**. \n",
    "\n",
    "#### 2.4.2 Other Escape Sequences\n",
    "| Escape sequence | Description\n",
    "| :------- | :------------\n",
    "| `\\n` | Insert a newline character in a string. When the string is displayed, for each newline, move the screen cursor to the beginning of the next line. \n",
    "| `\\t` | Insert a horizontal tab. When the string is displayed, for each tab, move the screen cursor to the next tab stop. \n",
    "| `\\\\` | Insert a backslash character in a string.\n",
    "| `\\\"` | Insert a double quote character in a string.\n",
    "| `\\'` | Insert a single quote character in a string."
   ]
  },
  {
   "cell_type": "code",
   "execution_count": 6,
   "id": "ed57b62f",
   "metadata": {},
   "outputs": [
    {
     "name": "stdout",
     "output_type": "stream",
     "text": [
      "Hello\n",
      " world\n"
     ]
    }
   ],
   "source": [
    "print(\"Hello\\n world\")"
   ]
  },
  {
   "cell_type": "code",
   "execution_count": 7,
   "id": "161cc541",
   "metadata": {},
   "outputs": [
    {
     "name": "stdout",
     "output_type": "stream",
     "text": [
      "Hello\t world\n"
     ]
    }
   ],
   "source": [
    "print(\"Hello\\t world\")"
   ]
  },
  {
   "cell_type": "code",
   "execution_count": 13,
   "id": "b3221e99-fe18-47b0-94a6-c244d3065c13",
   "metadata": {},
   "outputs": [
    {
     "name": "stdout",
     "output_type": "stream",
     "text": [
      "Hello\n",
      " \t world\n"
     ]
    }
   ],
   "source": [
    "print(\"Hello\\n \\t world\")"
   ]
  },
  {
   "cell_type": "code",
   "execution_count": 14,
   "id": "0f6f4862",
   "metadata": {},
   "outputs": [
    {
     "name": "stdout",
     "output_type": "stream",
     "text": [
      "Hello\\ world\n"
     ]
    }
   ],
   "source": [
    "print(\"Hello\\\\ world\")"
   ]
  },
  {
   "cell_type": "code",
   "execution_count": 17,
   "id": "13159314",
   "metadata": {},
   "outputs": [
    {
     "name": "stdout",
     "output_type": "stream",
     "text": [
      "The butler said, \"Hello\" to the guests.\n"
     ]
    }
   ],
   "source": [
    "print(\"The butler said, \\\"Hello\\\" to the guests.\")"
   ]
  },
  {
   "cell_type": "markdown",
   "id": "59e57742",
   "metadata": {},
   "source": [
    "## Useful methods for splitting a string\n",
    "- split\n",
    "- rsplit (we'll talk about the difference between this and split later)\n",
    "- splitlines"
   ]
  },
  {
   "cell_type": "code",
   "execution_count": 18,
   "id": "972a849e",
   "metadata": {},
   "outputs": [
    {
     "name": "stdout",
     "output_type": "stream",
     "text": [
      "Hello. Today is Friday the 17th of January.\n"
     ]
    }
   ],
   "source": [
    "greetings = \"Hello. Today is Friday the 17th of January.\"\n",
    "print(greetings)"
   ]
  },
  {
   "cell_type": "code",
   "execution_count": 19,
   "id": "a30d3f33",
   "metadata": {},
   "outputs": [
    {
     "name": "stdout",
     "output_type": "stream",
     "text": [
      "['Hello.', 'Today', 'is', 'Friday', 'the', '17th', 'of', 'January.']\n"
     ]
    }
   ],
   "source": [
    "print(greetings.split())"
   ]
  },
  {
   "cell_type": "code",
   "execution_count": 22,
   "id": "64d6d026",
   "metadata": {},
   "outputs": [
    {
     "name": "stdout",
     "output_type": "stream",
     "text": [
      "Hello. \n",
      "Today is Friday. \n",
      "How are You?\n"
     ]
    }
   ],
   "source": [
    "multilinegreetings = \"Hello. \\nToday is Friday. \\nHow are You?\"\n",
    "print(multilinegreetings)"
   ]
  },
  {
   "cell_type": "code",
   "execution_count": 23,
   "id": "89c692f2-f264-44d4-9813-cd1bc3e27730",
   "metadata": {},
   "outputs": [
    {
     "name": "stdout",
     "output_type": "stream",
     "text": [
      "['Hello. ', 'Today is Friday. ', 'How are You?']\n"
     ]
    }
   ],
   "source": [
    "print(multilinegreetings.splitlines())"
   ]
  },
  {
   "cell_type": "markdown",
   "id": "767a741a",
   "metadata": {},
   "source": [
    "## Useful methods for stripping a string of whitespace characters (\" \", \"\\t\", \"\\n\")\n",
    "- lstrip\n",
    "- rstrip\n",
    "- strip"
   ]
  },
  {
   "cell_type": "code",
   "execution_count": 24,
   "id": "a98d7290",
   "metadata": {},
   "outputs": [
    {
     "name": "stdout",
     "output_type": "stream",
     "text": [
      "\n",
      "\tHello. This example has whitespace at the front.\n"
     ]
    }
   ],
   "source": [
    "leadstring = \"\\n\\tHello. This example has whitespace at the front.\"\n",
    "print(leadstring)"
   ]
  },
  {
   "cell_type": "code",
   "execution_count": 25,
   "id": "33fcdb4a",
   "metadata": {},
   "outputs": [
    {
     "name": "stdout",
     "output_type": "stream",
     "text": [
      "Hello. This example has whitespace at the front.\n"
     ]
    }
   ],
   "source": [
    "print(leadstring.lstrip())"
   ]
  },
  {
   "cell_type": "code",
   "execution_count": 28,
   "id": "878aea11",
   "metadata": {},
   "outputs": [
    {
     "name": "stdout",
     "output_type": "stream",
     "text": [
      "Hello. \n",
      "\t\n"
     ]
    }
   ],
   "source": [
    "trailstring= \"Hello. \\n\\t\"\n",
    "print(trailstring)"
   ]
  },
  {
   "cell_type": "code",
   "execution_count": 29,
   "id": "172ecf84",
   "metadata": {},
   "outputs": [
    {
     "name": "stdout",
     "output_type": "stream",
     "text": [
      "Hello.\n"
     ]
    }
   ],
   "source": [
    "print(trailstring.rstrip())"
   ]
  },
  {
   "cell_type": "markdown",
   "id": "59666fd1",
   "metadata": {},
   "source": [
    "## Practice 3\n",
    "1. Stripping Sentences: Create a sentence consisting of multiple words, and include some whitespace characters at the beginning and end of the name. Make sure you use \" \", \"\\t\" and \"\\n\", at least once at the beginning and/or end.\n",
    "Print the sentence once, so the whitespace around the sentence is displayed.\n",
    "Then print the sentence using each of the three stripping functions, lstrip(),\n",
    "rstrip(), and strip()."
   ]
  },
  {
   "cell_type": "code",
   "execution_count": 30,
   "id": "a0fa9df3",
   "metadata": {},
   "outputs": [
    {
     "name": "stdout",
     "output_type": "stream",
     "text": [
      "\n",
      "\tMilk, Bread, Oranges \n",
      "\t\n"
     ]
    }
   ],
   "source": [
    "mygroceries = \"\\n\\tMilk, Bread, Oranges \\n\\t\"\n",
    "print(mygroceries)"
   ]
  },
  {
   "cell_type": "code",
   "execution_count": 31,
   "id": "26377f7e",
   "metadata": {},
   "outputs": [
    {
     "name": "stdout",
     "output_type": "stream",
     "text": [
      "Milk, Bread, Oranges \n",
      "\t\n"
     ]
    }
   ],
   "source": [
    "print(mygroceries.lstrip())"
   ]
  },
  {
   "cell_type": "code",
   "execution_count": 32,
   "id": "a1969e86-be3f-45a1-87fa-9b1f526542fb",
   "metadata": {},
   "outputs": [
    {
     "name": "stdout",
     "output_type": "stream",
     "text": [
      "\n",
      "\tMilk, Bread, Oranges\n"
     ]
    }
   ],
   "source": [
    "print(mygroceries.rstrip())"
   ]
  },
  {
   "cell_type": "code",
   "execution_count": 33,
   "id": "3f87482d-a88e-4509-92d6-27bc3446c7ac",
   "metadata": {},
   "outputs": [
    {
     "name": "stdout",
     "output_type": "stream",
     "text": [
      "Milk, Bread, Oranges\n"
     ]
    }
   ],
   "source": [
    "print(mygroceries.strip())"
   ]
  },
  {
   "cell_type": "markdown",
   "id": "7cb5c2e0",
   "metadata": {},
   "source": [
    "#### Replacing words or characters of a string (Note: we're only brushing the surface of what Python can do here!)"
   ]
  },
  {
   "cell_type": "code",
   "execution_count": 34,
   "id": "22032818",
   "metadata": {},
   "outputs": [
    {
     "data": {
      "text/plain": [
       "['__add__',\n",
       " '__class__',\n",
       " '__contains__',\n",
       " '__delattr__',\n",
       " '__dir__',\n",
       " '__doc__',\n",
       " '__eq__',\n",
       " '__format__',\n",
       " '__ge__',\n",
       " '__getattribute__',\n",
       " '__getitem__',\n",
       " '__getnewargs__',\n",
       " '__getstate__',\n",
       " '__gt__',\n",
       " '__hash__',\n",
       " '__init__',\n",
       " '__init_subclass__',\n",
       " '__iter__',\n",
       " '__le__',\n",
       " '__len__',\n",
       " '__lt__',\n",
       " '__mod__',\n",
       " '__mul__',\n",
       " '__ne__',\n",
       " '__new__',\n",
       " '__reduce__',\n",
       " '__reduce_ex__',\n",
       " '__repr__',\n",
       " '__rmod__',\n",
       " '__rmul__',\n",
       " '__setattr__',\n",
       " '__sizeof__',\n",
       " '__str__',\n",
       " '__subclasshook__',\n",
       " 'capitalize',\n",
       " 'casefold',\n",
       " 'center',\n",
       " 'count',\n",
       " 'encode',\n",
       " 'endswith',\n",
       " 'expandtabs',\n",
       " 'find',\n",
       " 'format',\n",
       " 'format_map',\n",
       " 'index',\n",
       " 'isalnum',\n",
       " 'isalpha',\n",
       " 'isascii',\n",
       " 'isdecimal',\n",
       " 'isdigit',\n",
       " 'isidentifier',\n",
       " 'islower',\n",
       " 'isnumeric',\n",
       " 'isprintable',\n",
       " 'isspace',\n",
       " 'istitle',\n",
       " 'isupper',\n",
       " 'join',\n",
       " 'ljust',\n",
       " 'lower',\n",
       " 'lstrip',\n",
       " 'maketrans',\n",
       " 'partition',\n",
       " 'removeprefix',\n",
       " 'removesuffix',\n",
       " 'replace',\n",
       " 'rfind',\n",
       " 'rindex',\n",
       " 'rjust',\n",
       " 'rpartition',\n",
       " 'rsplit',\n",
       " 'rstrip',\n",
       " 'split',\n",
       " 'splitlines',\n",
       " 'startswith',\n",
       " 'strip',\n",
       " 'swapcase',\n",
       " 'title',\n",
       " 'translate',\n",
       " 'upper',\n",
       " 'zfill']"
      ]
     },
     "execution_count": 34,
     "metadata": {},
     "output_type": "execute_result"
    }
   ],
   "source": [
    "dir(\" \")"
   ]
  },
  {
   "cell_type": "code",
   "execution_count": 35,
   "id": "1631042e",
   "metadata": {},
   "outputs": [
    {
     "name": "stdout",
     "output_type": "stream",
     "text": [
      "Helo. This is the second Friday of the semester. Helo to you.\n"
     ]
    }
   ],
   "source": [
    "badgreet = \"Helo. This is the second Friday of the semester. Helo to you.\"\n",
    "print(badgreet)"
   ]
  },
  {
   "cell_type": "code",
   "execution_count": 41,
   "id": "5a4c8414-74bf-4769-b7d0-e009032c14b0",
   "metadata": {},
   "outputs": [
    {
     "name": "stdout",
     "output_type": "stream",
     "text": [
      "Hello. This is the second Friday of the semester. Helo to you.\n"
     ]
    }
   ],
   "source": [
    "print(badgreet.replace(\"Helo.\", \"Hello.\"))"
   ]
  },
  {
   "cell_type": "code",
   "execution_count": 40,
   "id": "5b3de060",
   "metadata": {},
   "outputs": [
    {
     "name": "stdout",
     "output_type": "stream",
     "text": [
      "Hello. This is the second Friday of the semester. Hello to you.\n"
     ]
    }
   ],
   "source": [
    "print(badgreet.replace(\"Helo\", \"Hello\"))"
   ]
  },
  {
   "cell_type": "markdown",
   "id": "7a2ff52e",
   "metadata": {},
   "source": [
    "# Number"
   ]
  },
  {
   "cell_type": "markdown",
   "id": "7ed88df4",
   "metadata": {},
   "source": [
    "# Data Types\n",
    "* `float` (floating point) - used for real numbers.\n",
    "* `int` (integer) - used for integers."
   ]
  },
  {
   "cell_type": "markdown",
   "id": "c37ef37a",
   "metadata": {},
   "source": [
    "## Arithmetic Operator\n",
    "| Python operation | Arithmetic operator | Python expression\n",
    "| :-------- | :-------- | :-------- \n",
    "| Addition | `+`  | `f + 7` \n",
    "| Subtraction | `–` | `p - c` \n",
    "| Multiplication | `*` | `b * m` \n",
    "| Exponentiation | `**` |  `x ** y` \n",
    "| True division | `/` | `x / y` \n",
    "| Floor division | `//` | `x // y` \n",
    "| Remainder (modulo) | `%` | `r % s` \n",
    "\n",
    "`Floor division` is an operation in Python that divides two numbers and rounds the result down to the nearest integer."
   ]
  },
  {
   "cell_type": "code",
   "execution_count": 43,
   "id": "ddee7b60",
   "metadata": {},
   "outputs": [],
   "source": [
    "num1 = 21\n",
    "num2 = 5"
   ]
  },
  {
   "cell_type": "code",
   "execution_count": 44,
   "id": "89065958",
   "metadata": {},
   "outputs": [
    {
     "name": "stdout",
     "output_type": "stream",
     "text": [
      "26\n",
      "16\n",
      "105\n",
      "4.2\n"
     ]
    }
   ],
   "source": [
    "print(num1+num2)\n",
    "print(num1-num2)\n",
    "print(num1*num2)\n",
    "print(num1/num2)"
   ]
  },
  {
   "cell_type": "code",
   "execution_count": 45,
   "id": "0a916868",
   "metadata": {},
   "outputs": [
    {
     "name": "stdout",
     "output_type": "stream",
     "text": [
      "4084101\n",
      "4\n",
      "1\n"
     ]
    }
   ],
   "source": [
    "print(num1**num2)\n",
    "print(num1//num2)\n",
    "print(num1%num2)"
   ]
  },
  {
   "cell_type": "markdown",
   "id": "290d4afb",
   "metadata": {},
   "source": [
    "## Avoiding Type Errors with the str() Function"
   ]
  },
  {
   "cell_type": "code",
   "execution_count": 46,
   "id": "d853bd0b",
   "metadata": {},
   "outputs": [
    {
     "name": "stdout",
     "output_type": "stream",
     "text": [
      "21\n",
      "5\n"
     ]
    }
   ],
   "source": [
    "print(num1)\n",
    "print(num2)"
   ]
  },
  {
   "cell_type": "code",
   "execution_count": 47,
   "id": "9da718ed",
   "metadata": {},
   "outputs": [
    {
     "ename": "TypeError",
     "evalue": "can only concatenate str (not \"int\") to str",
     "output_type": "error",
     "traceback": [
      "\u001b[0;31m---------------------------------------------------------------------------\u001b[0m",
      "\u001b[0;31mTypeError\u001b[0m                                 Traceback (most recent call last)",
      "Cell \u001b[0;32mIn[47], line 1\u001b[0m\n\u001b[0;32m----> 1\u001b[0m \u001b[38;5;28mprint\u001b[39m(\u001b[38;5;124m\"\u001b[39m\u001b[38;5;124mThe first number that I typed was \u001b[39m\u001b[38;5;124m\"\u001b[39m \u001b[38;5;241m+\u001b[39m num1)\n",
      "\u001b[0;31mTypeError\u001b[0m: can only concatenate str (not \"int\") to str"
     ]
    }
   ],
   "source": [
    "print(\"The first number that I typed was \" + num1)"
   ]
  },
  {
   "cell_type": "code",
   "execution_count": 48,
   "id": "d3d77d88",
   "metadata": {},
   "outputs": [
    {
     "name": "stdout",
     "output_type": "stream",
     "text": [
      "The first number that I typed was 21\n"
     ]
    }
   ],
   "source": [
    "print(\"The first number that I typed was \" + str(num1))"
   ]
  },
  {
   "cell_type": "code",
   "execution_count": 50,
   "id": "5936f26c",
   "metadata": {},
   "outputs": [
    {
     "name": "stdout",
     "output_type": "stream",
     "text": [
      "<class 'int'>\n",
      "<class 'str'>\n"
     ]
    }
   ],
   "source": [
    "print(type(num1))\n",
    "print(type(str(num1)))"
   ]
  },
  {
   "cell_type": "code",
   "execution_count": 58,
   "id": "09a5a62a-1faf-4d7a-a31c-794b01d5decf",
   "metadata": {},
   "outputs": [
    {
     "name": "stdout",
     "output_type": "stream",
     "text": [
      "My first number was 21 and my second number was 5\n"
     ]
    }
   ],
   "source": [
    "print(\"My first number was \" + str(num1) + \" and my second number was \" + str(num2))"
   ]
  },
  {
   "cell_type": "markdown",
   "id": "165bd5f8",
   "metadata": {},
   "source": [
    "## Practice 4\n",
    "Basic Arithmetic: Write addition, subtraction, multiplication, and division\n",
    "operations that each result in the number 91. <br>Be sure to enclose your operations\n",
    "in print statements to see the results. You should create four lines that look\n",
    "like this:\n",
    "print([num1] + [num2]), where num1 and num2 are appropriate numbers for the operation.<br>\n",
    "Your output should simply be four lines with the number 91 appearing once\n",
    "on each line.\n"
   ]
  },
  {
   "cell_type": "code",
   "execution_count": 62,
   "id": "0deea5b4",
   "metadata": {},
   "outputs": [
    {
     "name": "stdout",
     "output_type": "stream",
     "text": [
      "91\n",
      "91\n",
      "91.0\n",
      "91.0\n"
     ]
    }
   ],
   "source": [
    "print(50+41)\n",
    "print(92-1)\n",
    "print(9.1*10)\n",
    "print(910/10)"
   ]
  },
  {
   "cell_type": "markdown",
   "id": "e05b5c26",
   "metadata": {},
   "source": [
    "## Getting Input from the User\n",
    "* Built-in **`input` function** requests and obtains user input."
   ]
  },
  {
   "cell_type": "code",
   "execution_count": 1,
   "id": "4fec3462",
   "metadata": {},
   "outputs": [
    {
     "name": "stdin",
     "output_type": "stream",
     "text": [
      "Please input a value Hi there\n"
     ]
    },
    {
     "data": {
      "text/plain": [
       "'Hi there'"
      ]
     },
     "execution_count": 1,
     "metadata": {},
     "output_type": "execute_result"
    }
   ],
   "source": [
    "input(\"Please input a value\")"
   ]
  },
  {
   "cell_type": "code",
   "execution_count": 4,
   "id": "d5a698c2",
   "metadata": {},
   "outputs": [
    {
     "name": "stdin",
     "output_type": "stream",
     "text": [
      "Please input a string:  Hello \n"
     ]
    }
   ],
   "source": [
    "str1 = input(\"Please input a string: \")"
   ]
  },
  {
   "cell_type": "code",
   "execution_count": 3,
   "id": "93f54fc5",
   "metadata": {},
   "outputs": [
    {
     "name": "stdin",
     "output_type": "stream",
     "text": [
      "Please input another string:  world\n"
     ]
    }
   ],
   "source": [
    "str2 = input(\"Please input another string: \")"
   ]
  },
  {
   "cell_type": "code",
   "execution_count": 5,
   "id": "a129e504-4b83-407b-b4ce-03aa69b538f4",
   "metadata": {},
   "outputs": [
    {
     "name": "stdout",
     "output_type": "stream",
     "text": [
      "Hello world\n"
     ]
    }
   ],
   "source": [
    "print(str1 + str2)"
   ]
  },
  {
   "cell_type": "markdown",
   "id": "476c6426",
   "metadata": {},
   "source": [
    "## Getting an Integer/ Float from the User\n",
    "* If you need an integer, convert the string to an integer using the built-in **`int` / `float` function**. "
   ]
  },
  {
   "cell_type": "code",
   "execution_count": 12,
   "id": "1905f791",
   "metadata": {},
   "outputs": [
    {
     "name": "stdin",
     "output_type": "stream",
     "text": [
      "Please input gallons of gas you are buying:  10\n"
     ]
    }
   ],
   "source": [
    "num_gallons = int(input(\"Please input gallons of gas you are buying: \"))"
   ]
  },
  {
   "cell_type": "code",
   "execution_count": 13,
   "id": "a8b6814e",
   "metadata": {},
   "outputs": [
    {
     "name": "stdin",
     "output_type": "stream",
     "text": [
      "Please input the cost of gas per gallon in $:  3.79\n"
     ]
    }
   ],
   "source": [
    "cost_pg = float(input(\"Please input the cost of gas per gallon in $: \"))"
   ]
  },
  {
   "cell_type": "code",
   "execution_count": 15,
   "id": "bea207f9-486c-4a97-9d91-3a83d6d1ee25",
   "metadata": {},
   "outputs": [
    {
     "name": "stdout",
     "output_type": "stream",
     "text": [
      "The total cost is 37.9\n"
     ]
    }
   ],
   "source": [
    "print(\"The total cost is \" + str(num_gallons * cost_pg))"
   ]
  },
  {
   "cell_type": "markdown",
   "id": "12c87d2e",
   "metadata": {},
   "source": [
    "## Practice 5\n",
    "Favorite Number: Select your own favorite number, and store it in a variable.  Ask a user for their favorite number, and store it in a second variable. Then, using those two variables, create a print message indicating the sum of the two numbers."
   ]
  },
  {
   "cell_type": "code",
   "execution_count": 34,
   "id": "ac65d7d0",
   "metadata": {},
   "outputs": [
    {
     "name": "stdin",
     "output_type": "stream",
     "text": [
      "Please enter my favorite number:  7\n"
     ]
    }
   ],
   "source": [
    "fnum = input(\"Please enter my favorite number: \")"
   ]
  },
  {
   "cell_type": "code",
   "execution_count": 19,
   "id": "87cf6c96",
   "metadata": {},
   "outputs": [
    {
     "name": "stdin",
     "output_type": "stream",
     "text": [
      "Please enter your favorite number:  9\n"
     ]
    }
   ],
   "source": [
    "unum = input(\"Please enter your favorite number: \")"
   ]
  },
  {
   "cell_type": "code",
   "execution_count": 22,
   "id": "b817cf3e",
   "metadata": {},
   "outputs": [
    {
     "data": {
      "text/plain": [
       "str"
      ]
     },
     "execution_count": 22,
     "metadata": {},
     "output_type": "execute_result"
    }
   ],
   "source": [
    "type(fnum)\n",
    "type(unum)"
   ]
  },
  {
   "cell_type": "code",
   "execution_count": 35,
   "id": "bb17c7d6-ddb8-4578-8689-11462c5e84ac",
   "metadata": {},
   "outputs": [
    {
     "name": "stdin",
     "output_type": "stream",
     "text": [
      "Please enter my favorite number:  7\n"
     ]
    }
   ],
   "source": [
    "fnum = int(input(\"Please enter my favorite number: \"))"
   ]
  },
  {
   "cell_type": "code",
   "execution_count": 28,
   "id": "6fd89f14-6258-4885-a747-efb2ec646e97",
   "metadata": {},
   "outputs": [
    {
     "name": "stdin",
     "output_type": "stream",
     "text": [
      "Please enter your favorite number:  9\n"
     ]
    }
   ],
   "source": [
    "unum = float(input(\"Please enter your favorite number: \"))"
   ]
  },
  {
   "cell_type": "code",
   "execution_count": 32,
   "id": "3887642e-9a72-494b-915b-bd4d454b66f0",
   "metadata": {},
   "outputs": [
    {
     "data": {
      "text/plain": [
       "int"
      ]
     },
     "execution_count": 32,
     "metadata": {},
     "output_type": "execute_result"
    }
   ],
   "source": [
    "type(fnum)"
   ]
  },
  {
   "cell_type": "code",
   "execution_count": 33,
   "id": "6a4657cd-880e-4813-9e2a-fcb9a927b5c4",
   "metadata": {},
   "outputs": [
    {
     "data": {
      "text/plain": [
       "float"
      ]
     },
     "execution_count": 33,
     "metadata": {},
     "output_type": "execute_result"
    }
   ],
   "source": [
    "type(unum)"
   ]
  },
  {
   "cell_type": "code",
   "execution_count": 36,
   "id": "1ea57414-2fdd-47f0-9af5-ed519f6a9cce",
   "metadata": {},
   "outputs": [
    {
     "name": "stdout",
     "output_type": "stream",
     "text": [
      "16.0\n"
     ]
    }
   ],
   "source": [
    "print(fnum + unum)"
   ]
  },
  {
   "cell_type": "markdown",
   "id": "6ff42bfa",
   "metadata": {},
   "source": [
    "## Checking the data type using `type` function"
   ]
  },
  {
   "cell_type": "code",
   "execution_count": 37,
   "id": "e1b73434",
   "metadata": {},
   "outputs": [
    {
     "name": "stdout",
     "output_type": "stream",
     "text": [
      "<class 'int'>\n"
     ]
    }
   ],
   "source": [
    "print(type(10))"
   ]
  },
  {
   "cell_type": "code",
   "execution_count": 39,
   "id": "5c848906",
   "metadata": {},
   "outputs": [
    {
     "name": "stdout",
     "output_type": "stream",
     "text": [
      "<class 'float'>\n"
     ]
    }
   ],
   "source": [
    "print(type(3.14159))"
   ]
  },
  {
   "cell_type": "code",
   "execution_count": 41,
   "id": "c23baabf-4cf7-4105-be38-8db9a6729488",
   "metadata": {},
   "outputs": [
    {
     "name": "stdout",
     "output_type": "stream",
     "text": [
      "<class 'str'>\n"
     ]
    }
   ],
   "source": [
    "print(type(\"Hello world\"))"
   ]
  },
  {
   "cell_type": "code",
   "execution_count": 42,
   "id": "f6e7ea64-14da-46d8-878c-da10bec86965",
   "metadata": {},
   "outputs": [
    {
     "name": "stdout",
     "output_type": "stream",
     "text": [
      "<class 'list'>\n"
     ]
    }
   ],
   "source": [
    "print(type([1,2,3,4,5,]))"
   ]
  },
  {
   "cell_type": "markdown",
   "id": "fc6e7e28",
   "metadata": {},
   "source": [
    "## Errors in Python\n",
    "When an error occurs in your program, the Python interpreter does its\n",
    "best to help you figure out where the problem is. The interpreter provides\n",
    "a traceback when a program cannot run successfully. A traceback is a record\n",
    "of where the interpreter ran into trouble when trying to execute your code.\n",
    "Errors can be classified into three major groups:\n",
    "- Syntax errors\n",
    "- Runtime errors\n",
    "- Logical errors"
   ]
  },
  {
   "cell_type": "markdown",
   "id": "7fe3220f",
   "metadata": {},
   "source": [
    "### Syntax error.\n",
    "- Python will find these kinds of errors when it tries to parse your program, and exit with an error message without running anything. \n",
    "- Syntax errors are mistakes in the use of the Python language, and are analogous to spelling or grammar mistakes in a language like English: for example, the sentence Would you some tea? does not make sense – it is missing a verb.\n"
   ]
  },
  {
   "cell_type": "markdown",
   "id": "88840cff",
   "metadata": {},
   "source": [
    "### Example:\n",
    "- leaving out a keyword\n",
    "- putting a keyword in the wrong place\n",
    "- leaving out a symbol, such as a colon, comma or brackets\n",
    "- misspelling a keyword\n",
    "- incorrect indentation\n",
    "- empty block"
   ]
  },
  {
   "cell_type": "code",
   "execution_count": 43,
   "id": "1b4b64c3",
   "metadata": {},
   "outputs": [
    {
     "ename": "NameError",
     "evalue": "name 'pint' is not defined",
     "output_type": "error",
     "traceback": [
      "\u001b[0;31m---------------------------------------------------------------------------\u001b[0m",
      "\u001b[0;31mNameError\u001b[0m                                 Traceback (most recent call last)",
      "Cell \u001b[0;32mIn[43], line 1\u001b[0m\n\u001b[0;32m----> 1\u001b[0m pint(\u001b[38;5;124m\"\u001b[39m\u001b[38;5;124mHello world\u001b[39m\u001b[38;5;124m\"\u001b[39m)\n",
      "\u001b[0;31mNameError\u001b[0m: name 'pint' is not defined"
     ]
    }
   ],
   "source": [
    "pint(\"Hello world\")"
   ]
  },
  {
   "cell_type": "code",
   "execution_count": 44,
   "id": "92353ef9",
   "metadata": {},
   "outputs": [
    {
     "name": "stderr",
     "output_type": "stream",
     "text": [
      "<>:1: SyntaxWarning: 'str' object is not callable; perhaps you missed a comma?\n",
      "<>:1: SyntaxWarning: 'str' object is not callable; perhaps you missed a comma?\n",
      "/var/folders/57/mngn39h91_q0qn2xbg1pcvth0000gp/T/ipykernel_34211/3737273558.py:1: SyntaxWarning: 'str' object is not callable; perhaps you missed a comma?\n",
      "  \"Hello world\"(print)\n"
     ]
    },
    {
     "ename": "TypeError",
     "evalue": "'str' object is not callable",
     "output_type": "error",
     "traceback": [
      "\u001b[0;31m---------------------------------------------------------------------------\u001b[0m",
      "\u001b[0;31mTypeError\u001b[0m                                 Traceback (most recent call last)",
      "Cell \u001b[0;32mIn[44], line 1\u001b[0m\n\u001b[0;32m----> 1\u001b[0m \u001b[38;5;124m\"\u001b[39m\u001b[38;5;124mHello world\u001b[39m\u001b[38;5;124m\"\u001b[39m(\u001b[38;5;28mprint\u001b[39m)\n",
      "\u001b[0;31mTypeError\u001b[0m: 'str' object is not callable"
     ]
    }
   ],
   "source": [
    "\"Hello world\"(print)"
   ]
  },
  {
   "cell_type": "code",
   "execution_count": 45,
   "id": "c241756e",
   "metadata": {},
   "outputs": [
    {
     "name": "stdout",
     "output_type": "stream",
     "text": [
      "Hello world\n"
     ]
    }
   ],
   "source": [
    "print(\"Hello world\")"
   ]
  },
  {
   "cell_type": "code",
   "execution_count": 46,
   "id": "edf5e895-8fbf-4fc9-8db1-cee4f798da8d",
   "metadata": {},
   "outputs": [
    {
     "ename": "SyntaxError",
     "evalue": "invalid syntax (1906682707.py, line 1)",
     "output_type": "error",
     "traceback": [
      "\u001b[0;36m  Cell \u001b[0;32mIn[46], line 1\u001b[0;36m\u001b[0m\n\u001b[0;31m    print(\"Hello world\" +)\u001b[0m\n\u001b[0m                         ^\u001b[0m\n\u001b[0;31mSyntaxError\u001b[0m\u001b[0;31m:\u001b[0m invalid syntax\n"
     ]
    }
   ],
   "source": [
    "print(\"Hello world\" +)"
   ]
  },
  {
   "cell_type": "code",
   "execution_count": 49,
   "id": "7d609e42-8820-46b7-a6ca-ded56c24337a",
   "metadata": {},
   "outputs": [],
   "source": [
    "myname = \"Matthew\""
   ]
  },
  {
   "cell_type": "code",
   "execution_count": 50,
   "id": "2a75e937-15d6-4ca5-ad63-55eedbcd504b",
   "metadata": {},
   "outputs": [
    {
     "ename": "SyntaxError",
     "evalue": "invalid syntax. Perhaps you forgot a comma? (3335095871.py, line 1)",
     "output_type": "error",
     "traceback": [
      "\u001b[0;36m  Cell \u001b[0;32mIn[50], line 1\u001b[0;36m\u001b[0m\n\u001b[0;31m    print(\"Hello. My name is \" myname)\u001b[0m\n\u001b[0m          ^\u001b[0m\n\u001b[0;31mSyntaxError\u001b[0m\u001b[0;31m:\u001b[0m invalid syntax. Perhaps you forgot a comma?\n"
     ]
    }
   ],
   "source": [
    "print(\"Hello. My name is \" myname)"
   ]
  },
  {
   "cell_type": "code",
   "execution_count": 51,
   "id": "7d2be0ce-d4ab-4539-8cb1-1c5711a4c83f",
   "metadata": {},
   "outputs": [
    {
     "name": "stdout",
     "output_type": "stream",
     "text": [
      "Hello. My name is Matthew\n"
     ]
    }
   ],
   "source": [
    "print(\"Hello. My name is \" + myname)"
   ]
  },
  {
   "cell_type": "markdown",
   "id": "f10a50b1",
   "metadata": {},
   "source": [
    "## Runtime error\n",
    "- A program with a runtime error is one that passed the interpreter’s syntax checks, and started to execute. \n",
    "- However, during the execution of one of the statements in the program, an error occurred that caused the interpreter to stop executing the program and display an error message. \n",
    "- Runtime errors are also called `exceptions` because they usually indicate that something exceptional (and bad) has happened."
   ]
  },
  {
   "cell_type": "markdown",
   "id": "b5ce828a",
   "metadata": {},
   "source": [
    "### Examples: \n",
    "- division by zero.\n",
    "- performing an operation on incompatible types.\n",
    "- using an identifier which has not been defined.\n",
    "- accessing a list element, dictionary value or object attribute which doesn't exist.\n",
    "- trying to access a file which doesn't exist."
   ]
  },
  {
   "cell_type": "code",
   "execution_count": 52,
   "id": "7176f581",
   "metadata": {},
   "outputs": [
    {
     "ename": "ZeroDivisionError",
     "evalue": "division by zero",
     "output_type": "error",
     "traceback": [
      "\u001b[0;31m---------------------------------------------------------------------------\u001b[0m",
      "\u001b[0;31mZeroDivisionError\u001b[0m                         Traceback (most recent call last)",
      "Cell \u001b[0;32mIn[52], line 1\u001b[0m\n\u001b[0;32m----> 1\u001b[0m \u001b[38;5;28mprint\u001b[39m(\u001b[38;5;241m10\u001b[39m\u001b[38;5;241m/\u001b[39m\u001b[38;5;241m0\u001b[39m)\n",
      "\u001b[0;31mZeroDivisionError\u001b[0m: division by zero"
     ]
    }
   ],
   "source": [
    "print(10/0)"
   ]
  },
  {
   "cell_type": "code",
   "execution_count": 54,
   "id": "15f63562",
   "metadata": {},
   "outputs": [
    {
     "name": "stdin",
     "output_type": "stream",
     "text": [
      "Please input a number:  10\n"
     ]
    },
    {
     "ename": "TypeError",
     "evalue": "unsupported operand type(s) for +: 'int' and 'str'",
     "output_type": "error",
     "traceback": [
      "\u001b[0;31m---------------------------------------------------------------------------\u001b[0m",
      "\u001b[0;31mTypeError\u001b[0m                                 Traceback (most recent call last)",
      "Cell \u001b[0;32mIn[54], line 2\u001b[0m\n\u001b[1;32m      1\u001b[0m mynum \u001b[38;5;241m=\u001b[39m \u001b[38;5;28minput\u001b[39m(\u001b[38;5;124m\"\u001b[39m\u001b[38;5;124mPlease input a number: \u001b[39m\u001b[38;5;124m\"\u001b[39m)\n\u001b[0;32m----> 2\u001b[0m \u001b[38;5;28mprint\u001b[39m(\u001b[38;5;241m5\u001b[39m\u001b[38;5;241m+\u001b[39mmynum)\n",
      "\u001b[0;31mTypeError\u001b[0m: unsupported operand type(s) for +: 'int' and 'str'"
     ]
    }
   ],
   "source": [
    "mynum = input(\"Please input a number: \")\n",
    "print(5+mynum)"
   ]
  },
  {
   "cell_type": "code",
   "execution_count": 55,
   "id": "d1402fc5",
   "metadata": {},
   "outputs": [
    {
     "name": "stdin",
     "output_type": "stream",
     "text": [
      "Please input a number:  10\n"
     ]
    },
    {
     "ename": "NameError",
     "evalue": "name 'num' is not defined",
     "output_type": "error",
     "traceback": [
      "\u001b[0;31m---------------------------------------------------------------------------\u001b[0m",
      "\u001b[0;31mNameError\u001b[0m                                 Traceback (most recent call last)",
      "Cell \u001b[0;32mIn[55], line 2\u001b[0m\n\u001b[1;32m      1\u001b[0m mynum \u001b[38;5;241m=\u001b[39m \u001b[38;5;28minput\u001b[39m(\u001b[38;5;124m\"\u001b[39m\u001b[38;5;124mPlease input a number: \u001b[39m\u001b[38;5;124m\"\u001b[39m)\n\u001b[0;32m----> 2\u001b[0m \u001b[38;5;28mprint\u001b[39m(\u001b[38;5;241m5\u001b[39m\u001b[38;5;241m+\u001b[39mnum)\n",
      "\u001b[0;31mNameError\u001b[0m: name 'num' is not defined"
     ]
    }
   ],
   "source": [
    "mynum = input(\"Please input a number: \")\n",
    "print(5+num)"
   ]
  },
  {
   "cell_type": "markdown",
   "id": "6dec365d",
   "metadata": {},
   "source": [
    "### Logical error\n",
    "- Logical errors are the most difficult to fix. They occur when the program runs without crashing, but produces an incorrect result. \n",
    "- The error is caused by a mistake in the program’s logic. \n",
    "- You won’t get an error message, because no syntax or runtime error has occurred. \n",
    "- You will have to find the problem on your own by reviewing all the relevant parts of your code "
   ]
  },
  {
   "cell_type": "code",
   "execution_count": 62,
   "id": "49aba111",
   "metadata": {},
   "outputs": [
    {
     "name": "stdin",
     "output_type": "stream",
     "text": [
      "Please input a circle's radius:  10\n"
     ]
    },
    {
     "name": "stdout",
     "output_type": "stream",
     "text": [
      "The circle's area is 314.0\n"
     ]
    }
   ],
   "source": [
    "myradius = float(input(\"Please input a circle\\'s radius: \"))\n",
    "print(\"The circle\\'s area is \" + str(3.14 * myradius**2))"
   ]
  },
  {
   "cell_type": "markdown",
   "id": "fa211472",
   "metadata": {},
   "source": [
    "## Flow of Control\n",
    "* A crucial aspect to programming is the order in which operations are executed (flow of control).\n",
    "* The vast majority of languages (Python included) dictate that statements are to be executed one by one in sequential order.\n",
    "    * The Python standard is that statements are separated by line-breaks in top-to-bottom order.\n",
    "    * Python also allows semicolons (;) to break apart multiple statements on a single line.\n",
    "* Various Python statements enable you to subvert standard flow of control. We will look at these in a later chapter. \n",
    "    "
   ]
  },
  {
   "cell_type": "code",
   "execution_count": 63,
   "id": "19328b37",
   "metadata": {},
   "outputs": [
    {
     "name": "stdout",
     "output_type": "stream",
     "text": [
      "60\n"
     ]
    }
   ],
   "source": [
    "myval1 = 10; myval2 = 20; myval3 = 30;\n",
    "print(myval1+myval2+myval3)"
   ]
  },
  {
   "cell_type": "markdown",
   "id": "5b67536f",
   "metadata": {},
   "source": [
    "## Practice 6\n",
    "Diagnosing the errors: The code in the first cell below consists of multiple errors.\n",
    "1. Using Markdown in the second cell below, identify each error and its category (logical, run-time, syntax) using a numbered list\n",
    "2. In the third cell below, post a fixed version of the code."
   ]
  },
  {
   "cell_type": "code",
   "execution_count": 66,
   "id": "03cd2f63",
   "metadata": {},
   "outputs": [
    {
     "name": "stdin",
     "output_type": "stream",
     "text": [
      " 10\n"
     ]
    },
    {
     "name": "stdout",
     "output_type": "stream",
     "text": [
      "The total cost of your purchase is $120.96\n"
     ]
    }
   ],
   "source": [
    "product_price = 11.99; taxed_rate = 1.06 \n",
    "product_qty = (input()\n",
    "subtotal = product_price * product_qty\n",
    "taxed_total = subtotal + taxed_rate\n",
    "print('The total cost of your purchase is $' str(round(taxed_total,2)))"
   ]
  },
  {
   "cell_type": "markdown",
   "id": "6990910b-7424-494d-aa77-532dcf70b8c6",
   "metadata": {},
   "source": [
    "1. Syntax error, didnt add a plus to conjugate both strings.\n",
    "2. Syntax error, tried to multiply a string and int\n",
    "3. Logical error, input needs a line of what you want the user to enter."
   ]
  },
  {
   "cell_type": "code",
   "execution_count": 71,
   "id": "dcd7a81f",
   "metadata": {},
   "outputs": [
    {
     "name": "stdin",
     "output_type": "stream",
     "text": [
      "Please input the quantity of product you are purchasing:  10\n"
     ]
    },
    {
     "name": "stdout",
     "output_type": "stream",
     "text": [
      "The total cost of your purchase is: $120.96\n"
     ]
    }
   ],
   "source": [
    "product_price = 11.99; taxed_rate = 1.06 \n",
    "product_qty = float(input(\"Please input the quantity of product you are purchasing: \"))\n",
    "subtotal = product_price * product_qty\n",
    "taxed_total = subtotal + taxed_rate\n",
    "print('The total cost of your purchase is: $' + str(round(taxed_total,2)))"
   ]
  },
  {
   "cell_type": "code",
   "execution_count": null,
   "id": "f68c6e1e-7231-406a-bc3b-dfb225b54b25",
   "metadata": {},
   "outputs": [],
   "source": []
  }
 ],
 "metadata": {
  "kernelspec": {
   "display_name": "Python 3 (ipykernel)",
   "language": "python",
   "name": "python3"
  },
  "language_info": {
   "codemirror_mode": {
    "name": "ipython",
    "version": 3
   },
   "file_extension": ".py",
   "mimetype": "text/x-python",
   "name": "python",
   "nbconvert_exporter": "python",
   "pygments_lexer": "ipython3",
   "version": "3.12.7"
  }
 },
 "nbformat": 4,
 "nbformat_minor": 5
}
