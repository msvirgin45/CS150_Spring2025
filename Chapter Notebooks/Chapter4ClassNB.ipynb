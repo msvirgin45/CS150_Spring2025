{
 "cells": [
  {
   "cell_type": "markdown",
   "id": "54f8051d",
   "metadata": {
    "slideshow": {
     "slide_type": "slide"
    }
   },
   "source": [
    "## What We Looked At Recently\n",
    "* We looked at **list** fundamentals in Python.\n",
    "* We explained the principal differences between **functions** and **methods** in Python.\n",
    "* We looked at ways to compute some basic statistics (minimum, maximum, etc.) "
   ]
  },
  {
   "cell_type": "markdown",
   "id": "06d31007",
   "metadata": {
    "slideshow": {
     "slide_type": "subslide"
    }
   },
   "source": [
    "## What We'll Look At In This Module\n",
    "* We first introduce the concept of **list slicing** which offers an alternative means of manipulating lists.\n",
    "* This module reintroduces **for loops** in the context of **list comprehensions**, which are a tricky but efficient means of constructing useful lists.\n",
    "* We will look at **tuples** which serve as an _immutable_ substitute for lists.\n"
   ]
  },
  {
   "cell_type": "markdown",
   "id": "d94ffdd6",
   "metadata": {
    "slideshow": {
     "slide_type": "slide"
    }
   },
   "source": [
    "# Sequence Slicing\n",
    "* A commonplace Python operation is to **slice** sequences to create new sequences of the same type containing _subsets_ of the original sequence. \n",
    "* Important note: Slice operations that simply access elements can be used in identical fashion for lists, tuples (which discuss later in this module), and strings."
   ]
  },
  {
   "cell_type": "markdown",
   "id": "3efbb9c0",
   "metadata": {
    "slideshow": {
     "slide_type": "subslide"
    }
   },
   "source": [
    "### Specifying a Slice with Starting and Ending Indices\n",
    "* A sequence slice is specified using subscription (**[]**) notation with _one_ or _two_ colons (**:**) indicating separation between starting and ending indices.\n",
    "* Use of a single colon indicates a simple range, with the left operand indicating a starting index (inclusive) and the right indicating an ending index (exclusive)."
   ]
  },
  {
   "cell_type": "code",
   "execution_count": null,
   "id": "8d3a71c1",
   "metadata": {},
   "outputs": [],
   "source": [
    "numbers = [2, 3, 5, 7, 11, 13, 17, 19]\n",
    "print(numbers[2:7])"
   ]
  },
  {
   "cell_type": "markdown",
   "id": "e678467f",
   "metadata": {
    "slideshow": {
     "slide_type": "subslide"
    }
   },
   "source": [
    "### Specifying a Slice with Only One Index\n",
    "* If no starting index is included, `0` is assumed.\n",
    "* If no ending index is included, the last index _(length)_ is assumed."
   ]
  },
  {
   "cell_type": "code",
   "execution_count": null,
   "id": "1cace75b",
   "metadata": {},
   "outputs": [],
   "source": [
    "print(numbers[:6]) #Same effect as print(numbers[0:6])"
   ]
  },
  {
   "cell_type": "code",
   "execution_count": null,
   "id": "6be4e3ec",
   "metadata": {},
   "outputs": [],
   "source": [
    "#All three of these will print the same thing!\n",
    "print(numbers[2:len(numbers)])\n",
    "print(numbers[2:])\n",
    "print(numbers[2:-1])"
   ]
  },
  {
   "cell_type": "markdown",
   "id": "18750c08",
   "metadata": {
    "slideshow": {
     "slide_type": "subslide"
    }
   },
   "source": [
    "### Specifying a Slice with No Indices\n",
    "* Recall that assigning one list to another simply produces a second reference to the same object.\n",
    "* By contrast, referencing a list's elements (**[:]**) will instead produce a shallow copy, which can be useful in some circumstances."
   ]
  },
  {
   "cell_type": "code",
   "execution_count": null,
   "id": "c379cd11",
   "metadata": {},
   "outputs": [],
   "source": [
    "numbers = [2, 3, 5, 7, 11, 13, 17, 19]\n",
    "numassign = numbers #references THE SAME OBJECT\n",
    "numcopy = numbers[:] #effectivly creates a copy of the object\n",
    "\n",
    "\n"
   ]
  },
  {
   "cell_type": "code",
   "execution_count": null,
   "id": "a19c664f",
   "metadata": {},
   "outputs": [],
   "source": [
    "numbers[4]=100\n",
    "print(numbers)\n",
    "print(numassign)\n",
    "print(numcopy)\n",
    "#Make certain you understand the output provided by the above statements!"
   ]
  },
  {
   "cell_type": "markdown",
   "id": "d87b37a1",
   "metadata": {
    "slideshow": {
     "slide_type": "subslide"
    }
   },
   "source": [
    "### Slicing with _Steps_\n",
    "* A value after a _second colon_ specifies the step-size when slicing (i.e. 1 = every element, 2 = every other element, etc.)\n",
    "* The step component can be used in conjunction with a starting index, stopping index, both, or neither."
   ]
  },
  {
   "cell_type": "code",
   "execution_count": null,
   "id": "ea85d034",
   "metadata": {},
   "outputs": [],
   "source": [
    "morenumbers=[0, 10, 20, 30, 40, 50, 60, 70, 80, 90, 100]\n",
    "print(morenumbers[2:7:2]) #print every other element in morenumbers, starting with \"20\" and ending with \"60\"\n",
    "print(morenumbers[1::3]) #print every third element in morenumbers, starting with \"10\"\n",
    "print(morenumbers[::4]) #print every fourth element in morenumbers\n"
   ]
  },
  {
   "cell_type": "markdown",
   "id": "15a409a4",
   "metadata": {
    "slideshow": {
     "slide_type": "subslide"
    }
   },
   "source": [
    "### Slicing with Negative Steps\n",
    "* Using a negative step component indicates elements are selected in reverse order (starting with the first index and going BACK to the second). \n",
    "* Positive or negative indices can be used in conjunction with negative steps."
   ]
  },
  {
   "cell_type": "code",
   "execution_count": null,
   "id": "44022f47",
   "metadata": {},
   "outputs": [],
   "source": [
    "print(morenumbers[::-1]) #All elements in reverse"
   ]
  },
  {
   "cell_type": "code",
   "execution_count": null,
   "id": "1a25b6c0",
   "metadata": {},
   "outputs": [],
   "source": [
    "print(morenumbers[5:0:-1]) #Elements from the fifth (inclusive) down to the second (not inclusive)."
   ]
  },
  {
   "cell_type": "code",
   "execution_count": null,
   "id": "c2e9687f",
   "metadata": {},
   "outputs": [],
   "source": [
    "print(morenumbers[-1:-9:-2]) #Every other element starting at the last and going back to the ninth-to-last (exclusive)."
   ]
  },
  {
   "cell_type": "markdown",
   "id": "3aabf853",
   "metadata": {},
   "source": [
    "### The `index()` method for the list takes an input argument and returns the _first_ index in the list that has a matching value.  A _ValueError_ is generated if no match exists."
   ]
  },
  {
   "cell_type": "code",
   "execution_count": null,
   "id": "6b026568",
   "metadata": {},
   "outputs": [],
   "source": [
    "print(morenumbers.index(70))"
   ]
  },
  {
   "cell_type": "code",
   "execution_count": null,
   "id": "67b48c61",
   "metadata": {},
   "outputs": [],
   "source": [
    "print(morenumbers.index(75))"
   ]
  },
  {
   "cell_type": "markdown",
   "id": "254d5aaa",
   "metadata": {},
   "source": [
    "## Practice 1: Manipulating Numbers in the Fibonacci Sequence\n",
    "The first 20 numbers in the Fibonacci sequence are defined by the following list: [0, 1, 1, 2, 3, 5, 8, 13, 21, 34, 55, 89, 144, 233, 377, 610, 987, 1597, 2584, 4181] <br>\n",
    "You are to use list slicing to accomplish the following five tasks:\n",
    "* Print out _every fourth_ number in the sequence, beginning with 0\n",
    "* Print out _every fourth_ number in the sequence, beginning with 3 and ending with 987\n",
    "* Print out _every other_ number larger than one within the sequence\n",
    "* Print out the numbers in the given sequence in _reverse order_, starting with 4181 and ending with 144\n",
    "* Print out _every other_ two-digit number in the given sequence in _reverse order_ starting with 89.\n"
   ]
  },
  {
   "cell_type": "code",
   "execution_count": null,
   "id": "29e369f3",
   "metadata": {},
   "outputs": [],
   "source": []
  },
  {
   "cell_type": "markdown",
   "id": "822e2b75",
   "metadata": {
    "slideshow": {
     "slide_type": "subslide"
    }
   },
   "source": [
    "### Modifying Lists Via Slices\n",
    "* Can modify a list by assigning to a slice.\n",
    "* The dimensions don't have to match (we can replace smaller sub-lists with larger or vice-versa.)\n",
    "* Since this approach can modify existing lists, and can be tricky, it should be used **carefully**."
   ]
  },
  {
   "cell_type": "code",
   "execution_count": null,
   "id": "22545ee1",
   "metadata": {},
   "outputs": [],
   "source": [
    "numbers = [1, 3, 5, 7, 9, 11, 13, 15]\n",
    "numbers[0:3] = ['one', 'three', 'five']\n",
    "print(numbers)"
   ]
  },
  {
   "cell_type": "code",
   "execution_count": null,
   "id": "886fdfce",
   "metadata": {},
   "outputs": [],
   "source": [
    "numbers[3:8]=['hi','there']\n",
    "print(numbers)"
   ]
  },
  {
   "cell_type": "code",
   "execution_count": null,
   "id": "dc06c5b3",
   "metadata": {
    "slideshow": {
     "slide_type": "subslide"
    }
   },
   "outputs": [],
   "source": [
    "numbers[0:1]=['a','b','c']\n",
    "print(numbers)"
   ]
  },
  {
   "cell_type": "code",
   "execution_count": null,
   "id": "698a3042",
   "metadata": {},
   "outputs": [],
   "source": [
    "numbers[:] = []\n",
    "print(numbers)"
   ]
  },
  {
   "cell_type": "markdown",
   "id": "4e4d3982",
   "metadata": {},
   "source": [
    "### The range function\n",
    " Recall that the range function returns a sequence of numbers, which can be helpful in constructing lists or performing actions related to sequential elements.  and increments by 1 (by default), and stops before a specified number.  **Reminder: It may take up to three arguments!**\n",
    "- range (stop) takes one argument, and will generate all numbers from 0 up to **stop**, incrementing by 1.\n",
    "- range (start, stop) takes two arguments, and will generate all numbers from **start** up to **stop**, incrementing by 1.\n",
    "- range (start, stop, step) takes three arguments and will generate all numbers from **start** up to **stop**, incrementing by **step**. \n"
   ]
  },
  {
   "cell_type": "code",
   "execution_count": null,
   "id": "adbb7b4c",
   "metadata": {},
   "outputs": [],
   "source": [
    "#range is often used in making lists.\n",
    "countto10 = list(range(11))\n",
    "print(countto10) #note where the list starts and stops!"
   ]
  },
  {
   "cell_type": "code",
   "execution_count": null,
   "id": "59aeeb52",
   "metadata": {},
   "outputs": [],
   "source": [
    "count_1sthalf = countto10[:5]\n",
    "print(count_1sthalf)"
   ]
  },
  {
   "cell_type": "code",
   "execution_count": null,
   "id": "5ace7b7d",
   "metadata": {},
   "outputs": [],
   "source": [
    "count_2ndhalf = countto10[5:]\n",
    "print(count_2ndhalf)"
   ]
  },
  {
   "cell_type": "markdown",
   "id": "e8b3a645",
   "metadata": {},
   "source": [
    "## Practice 2: Manipulating A List of Numbers\n",
    "* Generate a list of **all positive, three-digit odd numbers.**\n",
    "* **Without creating a new list**, use slicing and the `index` method to remove all numbers from your initial list that begin with an even number (ex: 201, 203, etc. should all be removed).\n",
    "\n",
    "### Note that this may require a little bit of thought/planning!"
   ]
  },
  {
   "cell_type": "code",
   "execution_count": null,
   "id": "4f79e07c",
   "metadata": {},
   "outputs": [],
   "source": []
  },
  {
   "cell_type": "markdown",
   "id": "2739a2d3",
   "metadata": {},
   "source": [
    "### Enhancing List Utility Using `for` Loops\n",
    "* `for` loops, which are _required_ in order to fully explore what lists can do.\n",
    "* We first provide a brief reminder of how the for loop operates in general.\n",
    "* We then examine the tricky but useful concept of **list comprehensions**."
   ]
  },
  {
   "cell_type": "code",
   "execution_count": null,
   "id": "e5874c35",
   "metadata": {},
   "outputs": [],
   "source": [
    "daysoftheweek = ['Sunday', 'Monday', 'Tuesday', 'Wednesday', 'Thursday', 'Friday', 'Saturday']"
   ]
  },
  {
   "cell_type": "code",
   "execution_count": null,
   "id": "95baa1a7",
   "metadata": {},
   "outputs": [],
   "source": [
    "for day in daysoftheweek: #print each day one-by-one\n",
    "    print(day)"
   ]
  },
  {
   "cell_type": "code",
   "execution_count": null,
   "id": "5117e337",
   "metadata": {},
   "outputs": [],
   "source": [
    "for day in daysoftheweek: #print an abbreviated form of each day\n",
    "    print(day[:2])"
   ]
  },
  {
   "cell_type": "markdown",
   "id": "1e96871e",
   "metadata": {},
   "source": [
    "## Practice 3: Connecting Days of the Week and their Numeric Order\n",
    "Using a single for loop and the list containing days of the week (daysoftheweek), display a sequence of messages that state \"Day \\<num\\> of the week is \\<day\\>.\"  For example, the first output should be \"Day 1 of the week is Sunday\" and the last output should be \"Day 7 of the week of Saturday.\""
   ]
  },
  {
   "cell_type": "code",
   "execution_count": null,
   "id": "2d9a6ff6",
   "metadata": {},
   "outputs": [],
   "source": []
  },
  {
   "cell_type": "markdown",
   "id": "6b1823b3",
   "metadata": {
    "slideshow": {
     "slide_type": "slide"
    }
   },
   "source": [
    "# Creating a List Using List Comprehensions\n",
    "* We previously saw the use of a `for` loop and use of iteration over a sequence of numbers, etc. to create a list from scratch \n",
    "* In general, this is not considered the most _Pythonic_ way of doing things, because it's not concise (3+ statements to accomplish one task) and there is a preferred alternative.\n",
    "* A **List Comprehension** is a concise means of applying a function or operation(s) to a list (or creating one from scratch).\n",
    "* In constructing a new list, the simplest list comprehension format we can use is \\<list_name\\>=\\[item `for` item in \\<iterable expression\\>\\]"
   ]
  },
  {
   "cell_type": "code",
   "execution_count": null,
   "id": "2bbb2962",
   "metadata": {},
   "outputs": [],
   "source": [
    "list1 = [] #3 Standard loop requires 3 lines to put every number from 1 to 10 in a list.\n",
    "for item in range(1, 11):\n",
    "    list1.append(item)\n",
    "print(list1)"
   ]
  },
  {
   "cell_type": "code",
   "execution_count": null,
   "id": "0ba2ec0a",
   "metadata": {},
   "outputs": [],
   "source": [
    "list2 = [item for item in range(1,11)] #1 line to perform the same task using comprehension\n",
    "print(list2)"
   ]
  },
  {
   "cell_type": "markdown",
   "id": "710954de",
   "metadata": {
    "slideshow": {
     "slide_type": "subslide"
    }
   },
   "source": [
    "### More Details on List Comprehension\n",
    "* In the above, the `for` clause iterates over the sequence of numbers produced by `range(1, 11)`. \n",
    "* For each `item`, the list comprehension evaluates the expression to the left of the `for` clause and places the expression’s value in the new list. \n",
    "* Note that any iterable expression can be used (e.g. lists, strings, etc.)\n",
    "* In addition, we can use _mapping_ with list comprehension to produce a list with the same number elements in the original data but with modified values.\n"
   ]
  },
  {
   "cell_type": "code",
   "execution_count": null,
   "id": "0e46db12",
   "metadata": {
    "slideshow": {
     "slide_type": "subslide"
    }
   },
   "outputs": [],
   "source": [
    "#mapping elements of original range using a simple linear equation (3x-1)\n",
    "list3 = [3 * item -1 for item in range(0, 10)] \n",
    "print(list3)"
   ]
  },
  {
   "cell_type": "code",
   "execution_count": null,
   "id": "2319b3fa",
   "metadata": {},
   "outputs": [],
   "source": [
    "print(list1)\n",
    "list4 =[item**2 for item in list1] #Using an existing list with comprehension instead of range\n",
    "print(list4)"
   ]
  },
  {
   "cell_type": "code",
   "execution_count": null,
   "id": "448d3ebb",
   "metadata": {},
   "outputs": [],
   "source": [
    "list5 = [item.upper() for item in 'of mice and men'] #Using a string with comprehension\n",
    "print(list5)"
   ]
  },
  {
   "cell_type": "markdown",
   "id": "27149d91",
   "metadata": {},
   "source": [
    "### Practice 4: Use list comprehensions to produce all of the following lists, and use print statements to verify they are functioning correctly.\n",
    "* A list of all powers of 2 (1, 2, 4, etc.) starting at 1 and ending at 2^20\n",
    "* Title-case variations (only the first character capitalized) of all strings in the following ['apple', 'orange', 'banana', kiwi']\n",
    "* The first ten entries in Zeno's infinite sum sequence $\\frac{1}{2}, \\frac{3}{4}, \\frac{7}{8}, \\frac{15}{16}, etc.$"
   ]
  },
  {
   "cell_type": "code",
   "execution_count": null,
   "id": "65390f7f",
   "metadata": {},
   "outputs": [],
   "source": []
  },
  {
   "cell_type": "markdown",
   "id": "efb59920",
   "metadata": {
    "slideshow": {
     "slide_type": "slide"
    }
   },
   "source": [
    "## Tuples\n",
    "* Tuples are, in effect **immutable** equivalents to lists.\n",
    "* The standard syntax for constructing tuples is to use `(` and `)` in lieu of `[` and `]`\n",
    "* To create an empty tuple, use empty parentheses.\n",
    "* A single-element tuple requires a comma after the element (this syntax can take some getting used to in practice)"
   ]
  },
  {
   "cell_type": "code",
   "execution_count": null,
   "id": "f337b8c1",
   "metadata": {},
   "outputs": [],
   "source": [
    "mytuple = (1, 'a', 'platypus')\n",
    "yourtuple = 1, 'a', 'platypus' #Note that tuples technically DO NOT require parentheses!\n",
    "print(len(mytuple))\n",
    "print(mytuple == yourtuple)"
   ]
  },
  {
   "cell_type": "code",
   "execution_count": null,
   "id": "54c5e0da",
   "metadata": {
    "slideshow": {
     "slide_type": "subslide"
    }
   },
   "outputs": [],
   "source": [
    "anothertuple = ('red',5,'yellow')\n",
    "print(anothertuple)"
   ]
  },
  {
   "cell_type": "code",
   "execution_count": null,
   "id": "d0ce6fc9",
   "metadata": {},
   "outputs": [],
   "source": [
    "empty_tuple = ()\n",
    "print(type(empty_tuple)) #We can confirm that what we have is, in fact, a tuple"
   ]
  },
  {
   "cell_type": "code",
   "execution_count": null,
   "id": "95b85049",
   "metadata": {},
   "outputs": [],
   "source": [
    "not_a_tuple = ('red')\n",
    "print(not_a_tuple)"
   ]
  },
  {
   "cell_type": "code",
   "execution_count": null,
   "id": "c1a8910f",
   "metadata": {},
   "outputs": [],
   "source": [
    "tuple_1value = ('red',)  # note the comma\n",
    "print(tuple_1value)"
   ]
  },
  {
   "cell_type": "markdown",
   "id": "e91789e4",
   "metadata": {
    "slideshow": {
     "slide_type": "subslide"
    }
   },
   "source": [
    "### Accessing Tuple Elements\n",
    "* It is common to access tuple elements directly rather than iterating over them.\n",
    "* However, there is nothing preventing us from treating tuples as iterable collections (i.e. letting us walk through their elements one-by-one) when accessing elements if required."
   ]
  },
  {
   "cell_type": "code",
   "execution_count": null,
   "id": "bf962672",
   "metadata": {},
   "outputs": [],
   "source": [
    "time_tuple = (9, 16, 1)\n",
    "print(time_tuple[0] * 3600 + time_tuple[1] * 60 + time_tuple[2]) #convert hours, minutes, and seconds to pure seconds"
   ]
  },
  {
   "cell_type": "code",
   "execution_count": null,
   "id": "30e26efd",
   "metadata": {},
   "outputs": [],
   "source": [
    "#But remember, tuples are immutable -- they cannot be changed!\n",
    "for pos in range(0,3):\n",
    "    time_tuple[pos] = time_tuple[pos]*2"
   ]
  },
  {
   "cell_type": "markdown",
   "id": "dcecb342",
   "metadata": {
    "slideshow": {
     "slide_type": "subslide"
    }
   },
   "source": [
    "### Tuples And Mutable Objects\n",
    "* Just because a tuple itself is immutable, does not mean it cannot _contain_ mutable objects. \n",
    "* It's easiest to think of the objects in a tuple as immutable _references_ -- while these references cannot be added or removed, any data they reference _can_ be changed. "
   ]
  },
  {
   "cell_type": "code",
   "execution_count": null,
   "id": "c21a6b62",
   "metadata": {},
   "outputs": [],
   "source": [
    "student_tuple = ('Allison', 'Bryll', [98, 75, 87])\n",
    "student_tuple[2][1] = 85\n",
    "print(student_tuple)"
   ]
  },
  {
   "cell_type": "code",
   "execution_count": null,
   "id": "eebec749",
   "metadata": {},
   "outputs": [],
   "source": [
    "#Neither of the below are valid -- make sure you understand why!\n",
    "student_tuple[0]='Amanda'\n",
    "student_tuple[1][3]='i'\n"
   ]
  },
  {
   "cell_type": "markdown",
   "id": "03f32cb4",
   "metadata": {
    "slideshow": {
     "slide_type": "subslide"
    }
   },
   "source": [
    "## Unpacking Sequences\n",
    "* Tuples are considered to be **packed** collections of data.\n",
    "* We can **unpack** any sequence’s elements by assigning the sequence to a comma-separated list of variables of the same length.\n",
    "* The Underscore character (\\_) is commonly used in place of tuple elements ignored in unpacking (indicating we don't need those elements)."
   ]
  },
  {
   "cell_type": "code",
   "execution_count": null,
   "id": "d37ca47d",
   "metadata": {
    "slideshow": {
     "slide_type": "subslide"
    }
   },
   "outputs": [],
   "source": [
    "student_tuple = ('Allison','Bryll',[98, 85, 87])\n",
    "first_name, lastname, test_grades = student_tuple\n",
    "print('The student\\'s last name is ' + lastname + ', and their first test grade is ' + str(test_grades[0]) + '.')"
   ]
  },
  {
   "cell_type": "code",
   "execution_count": null,
   "id": "bbca2405",
   "metadata": {},
   "outputs": [],
   "source": [
    "_, _, test_grades = student_tuple #if we only want the student's test scores\n",
    "print(sum(test_grades)/len(test_grades))"
   ]
  },
  {
   "cell_type": "code",
   "execution_count": null,
   "id": "44b2f468",
   "metadata": {
    "slideshow": {
     "slide_type": "subslide"
    }
   },
   "outputs": [],
   "source": [
    "c1, c2, c3, c4, c5  = 'Hello' #Technically, we can unpack any standard collection\n",
    "print(c2)"
   ]
  },
  {
   "cell_type": "markdown",
   "id": "d578958a",
   "metadata": {
    "slideshow": {
     "slide_type": "subslide"
    }
   },
   "source": [
    "### Using the enumerate function\n",
    "* The preferred way to access an element’s index _and_ value is the built-in function **`enumerate`**. \n",
    "* Receives an iterable and creates an iterator that, for each element, returns a tuple containing the element’s index and value.\n",
    "* `for` loops can then iterate over index and value simultaneously using unpack notation.\n",
    "* Note: Built-in function **`list`** creates a list from any compatible sequence, while **`tuple`** creates a tuple from any compatible sequence."
   ]
  },
  {
   "cell_type": "code",
   "execution_count": null,
   "id": "b00ef0a1",
   "metadata": {
    "slideshow": {
     "slide_type": "subslide"
    }
   },
   "outputs": [],
   "source": [
    "colors = ['red', 'orange', 'yellow', 'blue']\n",
    "print(list(enumerate(colors)))\n",
    "print(tuple(enumerate(colors)))"
   ]
  },
  {
   "cell_type": "code",
   "execution_count": null,
   "id": "04e516fc",
   "metadata": {},
   "outputs": [],
   "source": [
    "for index, value in enumerate(colors):\n",
    "    print('Color ' + str(index) + ' in the list is ' + value + '.')"
   ]
  },
  {
   "cell_type": "markdown",
   "id": "5b67bffe",
   "metadata": {},
   "source": [
    "### Formatted Strings\n",
    "* Thus far, we have relied on the use of standard strings for output and stitching together literals and variables.\n",
    "* Python offers the use of **formatted strings** to simplify and/or improve our capabilities in constructing strings.\n",
    "* Formatting strings are of the form `f'<string_expression>'` where <string_expression> is a string that can contain variables enclosed in `{` and `}`, which will _automatically_ be replaced with suitable values."
   ]
  },
  {
   "cell_type": "code",
   "execution_count": null,
   "id": "c4e1446a",
   "metadata": {},
   "outputs": [],
   "source": [
    "fave = 'dog'\n",
    "print(f'My favorite animal is a {fave}.')"
   ]
  },
  {
   "cell_type": "code",
   "execution_count": null,
   "id": "5da264e1",
   "metadata": {},
   "outputs": [],
   "source": [
    "import math\n",
    "pi_a = round(math.pi,3)\n",
    "print(f'The value of pi is approximately {pi_a}.')"
   ]
  },
  {
   "cell_type": "code",
   "execution_count": null,
   "id": "ad5a0f7f",
   "metadata": {},
   "outputs": [],
   "source": [
    "#Formatted strings really shine when multiple variables are in the mix.\n",
    "fname = 'Andrew'; lname = 'Karem'; birthyear = 1979; teachyears = 5 "
   ]
  },
  {
   "cell_type": "code",
   "execution_count": null,
   "id": "1ac1a73e",
   "metadata": {},
   "outputs": [],
   "source": [
    "#Without formatted strings, stitching together the information above is quite messy!\n",
    "print('My name is ' + fname + ' ' + lname + '.  I was born in ' + str(birthyear) + ' and I have been teaching for ' + str(teachyears) + ' years.')"
   ]
  },
  {
   "cell_type": "code",
   "execution_count": null,
   "id": "f907bc13",
   "metadata": {},
   "outputs": [],
   "source": [
    "#Formatted strings make this MUCH cleaner\n",
    "print(f'My name is {fname} {lname}.  I was born in {birthyear} and I have been teaching for {teachyears} years.')"
   ]
  },
  {
   "cell_type": "markdown",
   "id": "03598bed",
   "metadata": {},
   "source": [
    "## Practice 5: For loops, Enumerate, and Formatted Strings\n",
    "The following is a list of the five major schools/divisions within Bellarmine University, in the order in which they were founded.\n",
    "1. College of Arts and Sciences\n",
    "2. College of Health Professions \n",
    "3. W. Fielding Rubel School of Business\n",
    "4. Annsley Frazier Thornton School of Education\n",
    "5. Center for Community & Professional Education\n",
    "\n",
    "You are to use this list ['College of Arts and Sciences', 'College of Health Professions', 'W. Fielding Rubel School of Business', 'Annsley Frazier Thornton School of Education', 'Center for Community & Professional Education'], enumeration, a for loop, and formatted strings to produce the numbered list about using Python."
   ]
  },
  {
   "cell_type": "code",
   "execution_count": null,
   "id": "7431f232",
   "metadata": {},
   "outputs": [],
   "source": []
  }
 ],
 "metadata": {
  "kernelspec": {
   "display_name": "Python 3 (ipykernel)",
   "language": "python",
   "name": "python3"
  },
  "language_info": {
   "codemirror_mode": {
    "name": "ipython",
    "version": 3
   },
   "file_extension": ".py",
   "mimetype": "text/x-python",
   "name": "python",
   "nbconvert_exporter": "python",
   "pygments_lexer": "ipython3",
   "version": "3.9.16"
  }
 },
 "nbformat": 4,
 "nbformat_minor": 5
}
