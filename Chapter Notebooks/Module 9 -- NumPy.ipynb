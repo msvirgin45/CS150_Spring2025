{
 "cells": [
  {
   "cell_type": "markdown",
   "metadata": {
    "slideshow": {
     "slide_type": "slide"
    }
   },
   "source": [
    "## What We Looked At Last Time\n",
    "* Our last module address **Object-Oriented Programming** in the context of Python programming.\n",
    "* Along the way, we addressed the creation of **classes** and _methods_ for those classes.\n",
    "* Lastly, we briefly addressed the concept of **inheritance** in Python."
   ]
  },
  {
   "cell_type": "markdown",
   "metadata": {
    "slideshow": {
     "slide_type": "subslide"
    }
   },
   "source": [
    "## What We'll Look At In This Module\n",
    "* We'll introduce **NumPy arrays**, which are pivotal to _efficient computation_ in Python.\n",
    "* We'll look at ways to measure time (including the _elapsing of time_) in Python."
   ]
  },
  {
   "cell_type": "markdown",
   "metadata": {
    "slideshow": {
     "slide_type": "slide"
    }
   },
   "source": [
    "# Arrays-Oriented Programming "
   ]
  },
  {
   "cell_type": "markdown",
   "metadata": {
    "slideshow": {
     "slide_type": "subslide"
    }
   },
   "source": [
    "### **NumPy** (**Numerical Python**) Library\n",
    "* First appeared in 2006 and is the **preferred Python array implementation**.\n",
    "* High-performance, richly functional **_n_-dimensional array** type called **`ndarray`**. \n",
    "* **Written in C** and **up to 100 times faster than lists**.\n",
    "* Critical in big-data processing, AI applications and much more. \n",
    "* According to `libraries.io`, **over 450 Python libraries depend on NumPy**. \n",
    "* Many popular data science libraries such as Pandas, SciPy (Scientific Python) and Keras (for deep learning) are built on or depend on NumPy. "
   ]
  },
  {
   "cell_type": "markdown",
   "metadata": {
    "slideshow": {
     "slide_type": "subslide"
    }
   },
   "source": [
    "## Creating `array`s from Existing Data \n",
    "* NumPy arrays are often generated from existing data structures using the **`array`** function.  \n",
    "* The argument must be an `array` or other iterable.\n",
    "* The result is a **new** `array` containing the argument’s elements"
   ]
  },
  {
   "cell_type": "code",
   "execution_count": 1,
   "metadata": {
    "slideshow": {
     "slide_type": "subslide"
    }
   },
   "outputs": [],
   "source": [
    "import numpy as np"
   ]
  },
  {
   "cell_type": "code",
   "execution_count": 2,
   "metadata": {},
   "outputs": [
    {
     "name": "stdout",
     "output_type": "stream",
     "text": [
      "<class 'list'>\n",
      "<class 'numpy.ndarray'>\n",
      "[2, 3, 5, 7, 11]\n",
      "[ 2  3  5  7 11]\n"
     ]
    }
   ],
   "source": [
    "myList = [2, 3, 5, 7, 11] \n",
    "myArray = np.array([2, 3, 5, 7, 11])\n",
    "print(type(myList))\n",
    "print(type(myArray))\n",
    "print(myList)\n",
    "print(myArray) #Note the print representation lacks commas."
   ]
  },
  {
   "cell_type": "markdown",
   "metadata": {
    "slideshow": {
     "slide_type": "slide"
    }
   },
   "source": [
    "## Array Basics\n",
    "* 2+ dimensional lists can also converted quickly to array-format using the `array` function.\n",
    "* For performance reasons, NumPy is written in the C programming language and uses C-based data types\n",
    "    * This means that matching data-types will appear differently (ex: different significant digits for decimals) when stored in a NumPy array. \n",
    "    * [Other NumPy types can be found here.](https://docs.scipy.org/doc/numpy/user/basics.types.html)\n",
    "    * Structured arrays permit more flexible array representations, but are not dealt with in this session.\n"
   ]
  },
  {
   "cell_type": "code",
   "execution_count": 5,
   "metadata": {
    "slideshow": {
     "slide_type": "subslide"
    }
   },
   "outputs": [
    {
     "name": "stdout",
     "output_type": "stream",
     "text": [
      "[[1 2 3]\n",
      " [4 5 6]]\n",
      "[0.  0.1 0.2 0.3 0.4]\n"
     ]
    }
   ],
   "source": [
    "integers = np.array([[1, 2, 3], [4, 5, 6]])\n",
    "floats = np.array([0.0, 0.1, 0.2, 0.3, 0.4])\n",
    "print(integers)\n",
    "print(floats)"
   ]
  },
  {
   "cell_type": "code",
   "execution_count": 6,
   "metadata": {},
   "outputs": [
    {
     "ename": "ValueError",
     "evalue": "could not convert string to float: 'Hello'",
     "output_type": "error",
     "traceback": [
      "\u001b[0;31m---------------------------------------------------------------------------\u001b[0m",
      "\u001b[0;31mValueError\u001b[0m                                Traceback (most recent call last)",
      "Cell \u001b[0;32mIn[6], line 1\u001b[0m\n\u001b[0;32m----> 1\u001b[0m floats[\u001b[38;5;241m0\u001b[39m] \u001b[38;5;241m=\u001b[39m \u001b[38;5;124m'\u001b[39m\u001b[38;5;124mHello\u001b[39m\u001b[38;5;124m'\u001b[39m\n",
      "\u001b[0;31mValueError\u001b[0m: could not convert string to float: 'Hello'"
     ]
    }
   ],
   "source": [
    "floats[0] = 'Hello'"
   ]
  },
  {
   "cell_type": "markdown",
   "metadata": {
    "slideshow": {
     "slide_type": "slide"
    }
   },
   "source": [
    "### Determining `array` Properties\n",
    "* Using the Python function `type` will not display the data type stored in an array -- instead, the `.dtype` method must be called on the array. \n",
    "* `ndim` contains an `array`’s number of dimensions \n",
    "* `shape` contains a _tuple_ specifying an `array`’s dimensions"
   ]
  },
  {
   "cell_type": "code",
   "execution_count": 7,
   "metadata": {},
   "outputs": [
    {
     "name": "stdout",
     "output_type": "stream",
     "text": [
      "<class 'numpy.ndarray'>\n",
      "int64\n",
      "float64\n"
     ]
    }
   ],
   "source": [
    "integers = np.array([[1, 2, 3], [4, 5, 6]])\n",
    "floats = np.array([0.0, 0.1, 0.2, 0.3, 0.4])\n",
    "print(type(integers))\n",
    "print(integers.dtype)\n",
    "print(floats.dtype)"
   ]
  },
  {
   "cell_type": "code",
   "execution_count": 9,
   "metadata": {},
   "outputs": [
    {
     "name": "stdout",
     "output_type": "stream",
     "text": [
      "[[1 2 3]\n",
      " [4 5 6]]\n",
      "[0.  0.1 0.2 0.3 0.4]\n"
     ]
    }
   ],
   "source": [
    "print(integers)\n",
    "print(floats)"
   ]
  },
  {
   "cell_type": "code",
   "execution_count": 8,
   "metadata": {
    "slideshow": {
     "slide_type": "-"
    }
   },
   "outputs": [
    {
     "name": "stdout",
     "output_type": "stream",
     "text": [
      "2\n",
      "1\n",
      "(2, 3)\n",
      "(5,)\n"
     ]
    }
   ],
   "source": [
    "print(integers.ndim)\n",
    "print(floats.ndim)\n",
    "print(integers.shape)\n",
    "print(floats.shape) #Remember that 1d tuples always include a comma for distinction!"
   ]
  },
  {
   "cell_type": "markdown",
   "metadata": {
    "slideshow": {
     "slide_type": "slide"
    }
   },
   "source": [
    "### Iterating through a Multidimensional `array`’s Elements\n",
    "* Arrays are generally iterated through using `for` or `while` loops.\n",
    "* `.flat` will provide a flattened representation of an array.\n",
    "    * For a 2-d array, the 2nd \"row\" will be appended to the first, followed by the 3rd, etc.\n",
    "    * For larger arrays, concatenation takes place using a \"right-to-left\" priority by dimension.\n",
    "    "
   ]
  },
  {
   "cell_type": "code",
   "execution_count": 12,
   "metadata": {},
   "outputs": [],
   "source": [
    "integers = np.array([[1, 2, 3], [4, 5, 6],[7,8,9],[10,11,12]])"
   ]
  },
  {
   "cell_type": "code",
   "execution_count": 13,
   "metadata": {
    "slideshow": {
     "slide_type": "subslide"
    }
   },
   "outputs": [
    {
     "name": "stdout",
     "output_type": "stream",
     "text": [
      "1  2  3  \n",
      "4  5  6  \n",
      "7  8  9  \n",
      "10  11  12  \n"
     ]
    }
   ],
   "source": [
    "for row in integers:\n",
    "    for column in row:\n",
    "        print(column, end='  ')\n",
    "    print() "
   ]
  },
  {
   "cell_type": "code",
   "execution_count": 14,
   "metadata": {},
   "outputs": [
    {
     "name": "stdout",
     "output_type": "stream",
     "text": [
      "1  2  3  4  5  6  7  8  9  10  11  12  "
     ]
    }
   ],
   "source": [
    "for i in integers.flat:\n",
    "    print(i, end='  ')"
   ]
  },
  {
   "cell_type": "markdown",
   "metadata": {
    "slideshow": {
     "slide_type": "slide"
    }
   },
   "source": [
    "# Filling `array`s with Specific Values\n",
    "* Functions `zeros` or  `ones` will create an array with a shape corresponding to a given tuple (or 1-d array if a single number is provided) \n",
    "* `full` creates an `array` containing a value specified as a second argument.\n",
    "* Only integers are permitted for the array shape parameter, but any numeric type is suitable for `full`'s second parameter."
   ]
  },
  {
   "cell_type": "code",
   "execution_count": 18,
   "metadata": {
    "slideshow": {
     "slide_type": "subslide"
    }
   },
   "outputs": [
    {
     "name": "stdout",
     "output_type": "stream",
     "text": [
      ".zeros:\n",
      "[0. 0. 0. 0. 0.]\n",
      ".ones:\n",
      "[[1. 1. 1. 1.]\n",
      " [1. 1. 1. 1.]\n",
      " [1. 1. 1. 1.]]\n",
      ".full:\n",
      "[[5.5 5.5 5.5]\n",
      " [5.5 5.5 5.5]]\n"
     ]
    }
   ],
   "source": [
    "arr0s = np.zeros(5)\n",
    "arr1s = np.ones((3,4))\n",
    "arrvals = np.full((2,3),5.5)\n",
    "print('.zeros:')\n",
    "print(arr0s)\n",
    "print('.ones:')\n",
    "print(arr1s)\n",
    "print('.full:')\n",
    "print(arrvals)"
   ]
  },
  {
   "cell_type": "markdown",
   "metadata": {
    "slideshow": {
     "slide_type": "slide"
    }
   },
   "source": [
    "# Creating `array`s from Ranges \n",
    "* NumPy provides optimized functions for creating `array`s from ranges\n",
    "* The `arange` method has similar operation to `range`, but produces a 1-dimensional array.\n",
    "* `linspace` creates a 1-dimensional array of floating-point values from the 1st argument to the 2nd, uniformly spaced to represent a number of values by the 3rd argument.\n",
    "    * Unlike `range` or `arange`, both starting and ending points _are included_ when `linspace` is used."
   ]
  },
  {
   "cell_type": "code",
   "execution_count": 19,
   "metadata": {
    "slideshow": {
     "slide_type": "subslide"
    }
   },
   "outputs": [
    {
     "name": "stdout",
     "output_type": "stream",
     "text": [
      "[0 1 2 3 4]\n",
      "[5 6 7 8 9]\n",
      "[10  8  6  4  2]\n"
     ]
    }
   ],
   "source": [
    "print(np.arange(5))\n",
    "print(np.arange(5,10))\n",
    "print(np.arange(10,1,-2))"
   ]
  },
  {
   "cell_type": "code",
   "execution_count": 20,
   "metadata": {
    "slideshow": {
     "slide_type": "-"
    }
   },
   "outputs": [
    {
     "name": "stdout",
     "output_type": "stream",
     "text": [
      "[0.   0.25 0.5  0.75 1.  ]\n"
     ]
    }
   ],
   "source": [
    "print(np.linspace(0.0, 1.0, num=5))"
   ]
  },
  {
   "cell_type": "markdown",
   "metadata": {
    "slideshow": {
     "slide_type": "slide"
    }
   },
   "source": [
    "### Reshaping an `array` \n",
    "* The `array` method **`reshape`** transforms an array into different number of dimensions\n",
    "* The new shape must have the **same** number of elements as the original"
   ]
  },
  {
   "cell_type": "code",
   "execution_count": 21,
   "metadata": {},
   "outputs": [
    {
     "name": "stdout",
     "output_type": "stream",
     "text": [
      "[ 1  2  3  4  5  6  7  8  9 10 11 12]\n",
      "[[ 1  2  3  4]\n",
      " [ 5  6  7  8]\n",
      " [ 9 10 11 12]]\n"
     ]
    }
   ],
   "source": [
    "print(np.arange(1,13))\n",
    "print(np.arange(1,13).reshape(3,4))"
   ]
  },
  {
   "cell_type": "markdown",
   "metadata": {
    "slideshow": {
     "slide_type": "slide"
    }
   },
   "source": [
    "### Large `array`s and Display \n",
    "* When displaying an `array`, if there are 1000 items or more, NumPy drops the middle rows, columns or both from the output"
   ]
  },
  {
   "cell_type": "code",
   "execution_count": 22,
   "metadata": {},
   "outputs": [
    {
     "name": "stdout",
     "output_type": "stream",
     "text": [
      "[[     1      2      3 ...  24998  24999  25000]\n",
      " [ 25001  25002  25003 ...  49998  49999  50000]\n",
      " [ 50001  50002  50003 ...  74998  74999  75000]\n",
      " [ 75001  75002  75003 ...  99998  99999 100000]]\n"
     ]
    }
   ],
   "source": [
    "import numpy as np\n",
    "print(np.arange(1, 100001).reshape(4, 25000))"
   ]
  },
  {
   "cell_type": "code",
   "execution_count": 23,
   "metadata": {},
   "outputs": [
    {
     "data": {
      "text/plain": [
       "array([[     1,      2,      3, ...,    998,    999,   1000],\n",
       "       [  1001,   1002,   1003, ...,   1998,   1999,   2000],\n",
       "       [  2001,   2002,   2003, ...,   2998,   2999,   3000],\n",
       "       ...,\n",
       "       [ 97001,  97002,  97003, ...,  97998,  97999,  98000],\n",
       "       [ 98001,  98002,  98003, ...,  98998,  98999,  99000],\n",
       "       [ 99001,  99002,  99003, ...,  99998,  99999, 100000]])"
      ]
     },
     "execution_count": 23,
     "metadata": {},
     "output_type": "execute_result"
    }
   ],
   "source": [
    "np.arange(1, 100001).reshape(100, 1000)"
   ]
  },
  {
   "cell_type": "markdown",
   "metadata": {},
   "source": [
    "## Arrays and Placeholder Values\n",
    "One way to produce an array with desired values using the NumPy library involves a two-step process as follows:\n",
    "1. We create an array with the dimensions that we wish to use with starting placeholder values (ex: 0 or 1 are typical)\n",
    "2. We then rely on a series of **for loops** to generate _actual_ values relevant to the array and plug them into the correct indices"
   ]
  },
  {
   "cell_type": "code",
   "execution_count": 24,
   "metadata": {},
   "outputs": [
    {
     "name": "stdout",
     "output_type": "stream",
     "text": [
      "[[ 0.  1.  2.  3.  4.]\n",
      " [ 1.  2.  3.  4.  5.]\n",
      " [ 2.  3.  4.  5.  6.]\n",
      " [ 3.  4.  5.  6.  7.]\n",
      " [ 4.  5.  6.  7.  8.]\n",
      " [ 5.  6.  7.  8.  9.]\n",
      " [ 6.  7.  8.  9. 10.]\n",
      " [ 7.  8.  9. 10. 11.]\n",
      " [ 8.  9. 10. 11. 12.]\n",
      " [ 9. 10. 11. 12. 13.]]\n"
     ]
    }
   ],
   "source": [
    "#Ex: We can create a 2-dimensional array of 1s and then use a pair of for loops to produce a sum of the row and column index\n",
    "maxrows = 10\n",
    "maxcols = 5\n",
    "myarray = np.ones((maxrows,maxcols))\n",
    "for row in range(maxrows):\n",
    "    for col in range(maxcols):\n",
    "        myarray[row,col] = row + col\n",
    "print(myarray)"
   ]
  },
  {
   "cell_type": "markdown",
   "metadata": {},
   "source": [
    "## Practice 1: Creating a Few Tables Arrays and Placeholder Values\n",
    "Using the method above for generating an initial array of placeholder values and then filling it in with correct values, you are to accomplish the following tasks:\n",
    "i. Allow a user to input a number **n**, and then generate a _nXn times table_. <br>\n",
    "ii. Allow a user to input a number **n** and then generate a _nXn identity matrix_.  Note that this one only requires one loop to produce."
   ]
  },
  {
   "cell_type": "code",
   "execution_count": null,
   "metadata": {},
   "outputs": [],
   "source": []
  },
  {
   "cell_type": "markdown",
   "metadata": {
    "slideshow": {
     "slide_type": "slide"
    }
   },
   "source": [
    "## List vs. `array` Performance: Introducing `datetime` \n",
    "* Most `array` operations execute **significantly** faster than corresponding list operations\n",
    "* The `datetime` library includes all sorts of functionality related to measuring, displaying, and converting absolute times and durations.\n",
    "* We can create an object that provides a microsecond-precise measurement of the _current_ time using `datetime.now()`\n"
   ]
  },
  {
   "cell_type": "code",
   "execution_count": 28,
   "metadata": {
    "slideshow": {
     "slide_type": "notes"
    }
   },
   "outputs": [
    {
     "name": "stdout",
     "output_type": "stream",
     "text": [
      "10.008124\n",
      "<class 'datetime.timedelta'>\n"
     ]
    }
   ],
   "source": [
    "from datetime import datetime\n",
    "from time import sleep\n",
    "start=datetime.now()\n",
    "sleep(10)\n",
    "end=datetime.now()\n",
    "print((end-start).total_seconds())\n",
    "print(type(end-start))"
   ]
  },
  {
   "cell_type": "code",
   "execution_count": 48,
   "metadata": {},
   "outputs": [
    {
     "name": "stdout",
     "output_type": "stream",
     "text": [
      "2025-04-04 09:24:59.991724\n",
      "<class 'datetime.datetime'>\n"
     ]
    }
   ],
   "source": [
    "from datetime import datetime\n",
    "print(datetime.now())\n",
    "print(type(datetime.now()))"
   ]
  },
  {
   "cell_type": "markdown",
   "metadata": {
    "slideshow": {
     "slide_type": "subslide"
    }
   },
   "source": [
    "### Using `datetime` to Measure Durations. \n",
    "* If we determine the time _before_ and _after_ an operation(s) we're interested in, we can measure the corresponding execution time.\n",
    "* The object return by an arithmetic operation (ex: subtraction) using `datetime` objects is a `timedelta`, which measures duration.\n",
    "* The `timedelta` class has a method `total_seconds()` which returns a string representation of the duration in seconds."
   ]
  },
  {
   "cell_type": "code",
   "execution_count": 49,
   "metadata": {
    "slideshow": {
     "slide_type": "subslide"
    }
   },
   "outputs": [
    {
     "name": "stdout",
     "output_type": "stream",
     "text": [
      "1.001164\n",
      "<class 'datetime.timedelta'>\n"
     ]
    }
   ],
   "source": [
    "from time import sleep\n",
    "start=datetime.now()\n",
    "sleep(1)\n",
    "end=datetime.now()\n",
    "print((end-start).total_seconds())\n",
    "print(type(end-start))"
   ]
  },
  {
   "cell_type": "markdown",
   "metadata": {
    "slideshow": {
     "slide_type": "subslide"
    }
   },
   "source": [
    "### Timing the Creation of a List and an Array Containing Results of 6,000,000 Die Rolls \n",
    "* We will use the `timedelta` approach from above to compute the time taken to generate a list with 6 million die rolls, and then an array with 6-million die rolls.\n",
    "    * The list generation will use standard list comprehension.\n",
    "    * The array will be built using the NumPy `random.randint` function, which fills a 1-dimensional array with random integers from the first parameter to the second-parameter (not inclusive), a total number of times equal to the third parameter."
   ]
  },
  {
   "cell_type": "code",
   "execution_count": 52,
   "metadata": {
    "slideshow": {
     "slide_type": "subslide"
    }
   },
   "outputs": [
    {
     "name": "stdout",
     "output_type": "stream",
     "text": [
      "2.763517\n"
     ]
    }
   ],
   "source": [
    "import random\n",
    "start=datetime.now()\n",
    "randrolls=[random.randrange(1,7) for i in range(0,6_000_000)]\n",
    "end=datetime.now()\n",
    "print((end-start).total_seconds())"
   ]
  },
  {
   "cell_type": "code",
   "execution_count": 55,
   "metadata": {
    "slideshow": {
     "slide_type": "fragment"
    }
   },
   "outputs": [
    {
     "name": "stdout",
     "output_type": "stream",
     "text": [
      "0.09818\n"
     ]
    }
   ],
   "source": [
    "start=datetime.now()\n",
    "rolls_array = np.random.randint(1, 7, 6_000_000)\n",
    "end=datetime.now()\n",
    "print((end-start).total_seconds())"
   ]
  },
  {
   "cell_type": "markdown",
   "metadata": {
    "slideshow": {
     "slide_type": "subslide"
    }
   },
   "source": [
    "### 60,000,000 and 600,000,000 Die Rolls  \n",
    "* Generating a list of 60 million or 600 million die rolls would be quite slow.\n",
    "* Both are quite fast with NumPy generation, however."
   ]
  },
  {
   "cell_type": "code",
   "execution_count": 56,
   "metadata": {},
   "outputs": [
    {
     "name": "stdout",
     "output_type": "stream",
     "text": [
      "0.718865\n"
     ]
    }
   ],
   "source": [
    "start=datetime.now()\n",
    "rolls_array = np.random.randint(1, 7, 60_000_000)\n",
    "end=datetime.now()\n",
    "print((end-start).total_seconds())"
   ]
  },
  {
   "cell_type": "code",
   "execution_count": 57,
   "metadata": {},
   "outputs": [
    {
     "name": "stdout",
     "output_type": "stream",
     "text": [
      "6.86574\n"
     ]
    }
   ],
   "source": [
    "start=datetime.now()\n",
    "rolls_array = np.random.randint(1, 7, 600_000_000)\n",
    "end=datetime.now()\n",
    "print((end-start).total_seconds())"
   ]
  },
  {
   "cell_type": "markdown",
   "metadata": {
    "slideshow": {
     "slide_type": "slide"
    }
   },
   "source": [
    "# `array` Operators\n",
    "* `array` operators perform operations on **entire `array`s**. \n",
    "* We can perform arithmetic **between `array`s and scalar numeric values**, and **between `array`s of the same shape**."
   ]
  },
  {
   "cell_type": "code",
   "execution_count": 1,
   "metadata": {
    "slideshow": {
     "slide_type": "subslide"
    }
   },
   "outputs": [],
   "source": [
    "import numpy as np"
   ]
  },
  {
   "cell_type": "code",
   "execution_count": 2,
   "metadata": {},
   "outputs": [
    {
     "name": "stdout",
     "output_type": "stream",
     "text": [
      "[1 2 3 4 5]\n",
      "[ 2  4  6  8 10]\n",
      "[  1   8  27  64 125]\n"
     ]
    }
   ],
   "source": [
    "numbers = np.arange(1, 6)\n",
    "print(numbers)\n",
    "print(numbers*2)\n",
    "print(numbers**3)"
   ]
  },
  {
   "cell_type": "code",
   "execution_count": 3,
   "metadata": {},
   "outputs": [
    {
     "name": "stdout",
     "output_type": "stream",
     "text": [
      "[11 12 13 14 15]\n"
     ]
    }
   ],
   "source": [
    "numbers += 10 #We can also use standard assignment operators with arrays.\n",
    "print(numbers)"
   ]
  },
  {
   "cell_type": "markdown",
   "metadata": {
    "slideshow": {
     "slide_type": "subslide"
    }
   },
   "source": [
    "### Broadcasting \n",
    "* Arithmetic operations require as operands two `array`s of the **same size and shape**. \n",
    "* **`numbers * 2`** is equivalent to **`numbers * [2, 2, 2, 2, 2]`** for a 5-element array.\n",
    "* Applying the operation to every element is called **broadcasting**. \n"
   ]
  },
  {
   "cell_type": "code",
   "execution_count": 4,
   "metadata": {
    "slideshow": {
     "slide_type": "subslide"
    }
   },
   "outputs": [
    {
     "name": "stdout",
     "output_type": "stream",
     "text": [
      "[11. 22. 33. 44. 55.]\n",
      "[11. 22. 33. 44. 55.]\n"
     ]
    }
   ],
   "source": [
    "numbers2 = np.linspace(1.1, 5.5, 5)\n",
    "numbers3 = [10,10,10,10,10]\n",
    "print(numbers2*10)\n",
    "print(numbers2*numbers3)"
   ]
  },
  {
   "cell_type": "markdown",
   "metadata": {
    "slideshow": {
     "slide_type": "slide"
    }
   },
   "source": [
    "## Comparing `array`s\n",
    "* We can compare `array`s with individual values and with other `array`s\n",
    "* Comparisons are performed **element-wise**\n",
    "* The result is an `array` of Boolean values in which each element’s `True` or `False` value indicates the comparison result"
   ]
  },
  {
   "cell_type": "code",
   "execution_count": 5,
   "metadata": {
    "slideshow": {
     "slide_type": "subslide"
    }
   },
   "outputs": [
    {
     "name": "stdout",
     "output_type": "stream",
     "text": [
      "[11 12 13 14 15]\n",
      "[1.1 2.2 3.3 4.4 5.5]\n",
      "[False False  True  True  True]\n",
      "[False False False False False]\n"
     ]
    }
   ],
   "source": [
    "print(numbers)\n",
    "print(numbers2)\n",
    "print(numbers>=13)\n",
    "print(numbers2>=13)\n"
   ]
  },
  {
   "cell_type": "code",
   "execution_count": 6,
   "metadata": {
    "slideshow": {
     "slide_type": "fragment"
    }
   },
   "outputs": [
    {
     "name": "stdout",
     "output_type": "stream",
     "text": [
      "[ True  True  True  True  True]\n",
      "[ True  True  True  True  True]\n"
     ]
    }
   ],
   "source": [
    "print(numbers2 < numbers)\n",
    "print(numbers == numbers)"
   ]
  },
  {
   "cell_type": "markdown",
   "metadata": {
    "slideshow": {
     "slide_type": "slide"
    }
   },
   "source": [
    "## NumPy Calculation Methods\n",
    "* Many calculations are applicable regardless of the number of elements, and thus can be used on arrays of any shape.\n",
    "* Consider an `array` representing four students’ grades on three exams: we can compute various information to summarize the data (AKA programming **reductions**).\n",
    "* The most common methods are **`sum`**, **`min`**, **`max`**, **`mean`**, **`std`** (standard deviation) and **`var`** (variance)\n",
    "* [Other Numpy `array` Calculation Methods](https://docs.scipy.org/doc/numpy/reference/arrays.ndarray.html)"
   ]
  },
  {
   "cell_type": "code",
   "execution_count": 7,
   "metadata": {
    "slideshow": {
     "slide_type": "subslide"
    }
   },
   "outputs": [
    {
     "name": "stdout",
     "output_type": "stream",
     "text": [
      "1054\n",
      "70\n",
      "87.83333333333333\n",
      "8.792357792739987\n"
     ]
    }
   ],
   "source": [
    "grades = np.array([[87, 96, 70], [100, 87, 90],\n",
    "                   [94, 77, 90], [100, 81, 82]])\n",
    "print(grades.sum())\n",
    "print(grades.min())\n",
    "print(grades.mean())\n",
    "print(grades.std())\n"
   ]
  },
  {
   "cell_type": "markdown",
   "metadata": {
    "slideshow": {
     "slide_type": "subslide"
    }
   },
   "source": [
    "## Calculations by Row Or Column\n",
    "* You can perform calculations by column or row (or other dimensions in arrays with more than two dimensions)\n",
    "* Each 2D+ array has [**one axis per dimension**](https://docs.scipy.org/doc/numpy-1.16.0/glossary.html)\n",
    "* In a 2D array, **`axis=0`** indicates calculations should be **column-by-column**, while **`axis=1`** indicates calculations should be **row-by-row** "
   ]
  },
  {
   "cell_type": "code",
   "execution_count": 8,
   "metadata": {},
   "outputs": [
    {
     "name": "stdout",
     "output_type": "stream",
     "text": [
      "[[ 87  96  70]\n",
      " [100  87  90]\n",
      " [ 94  77  90]\n",
      " [100  81  82]]\n",
      "[100  96  90]\n",
      "[84.33333333 92.33333333 87.         87.66666667]\n"
     ]
    }
   ],
   "source": [
    "grades = np.array([[87, 96, 70], [100, 87, 90],\n",
    "                   [94, 77, 90], [100, 81, 82]])\n",
    "print(grades)\n",
    "print(grades.max(axis=0)) #highest grade per exam\n",
    "print(grades.mean(axis=1)) #student averages"
   ]
  },
  {
   "cell_type": "markdown",
   "metadata": {
    "slideshow": {
     "slide_type": "slide"
    }
   },
   "source": [
    "# Universal Functions\n",
    "* Standalone [**universal functions** (**ufuncs**)](https://docs.scipy.org/doc/numpy/reference/ufuncs.html) perform **element-wise operations** using one or two `array` or array-like arguments (like lists)\n",
    "* Each returns a **new `array`** containing the results\n",
    "* Some ufuncs are called implicitly when you use `array` operators like `+` and `*`"
   ]
  },
  {
   "cell_type": "code",
   "execution_count": 9,
   "metadata": {},
   "outputs": [
    {
     "name": "stdout",
     "output_type": "stream",
     "text": [
      "[1. 2. 3. 4. 5. 6.]\n",
      "[0.         2.         3.169925   4.         4.64385619 5.169925  ]\n"
     ]
    }
   ],
   "source": [
    "numbers = np.array([1, 4, 9, 16, 25, 36])\n",
    "print(np.sqrt(numbers))\n",
    "print(np.log2(numbers))\n"
   ]
  },
  {
   "cell_type": "markdown",
   "metadata": {},
   "source": [
    "## Practice 2: Investigate Some Time-Related Tasks\n",
    "i. Use the datetime library to generate a list of every Friday <br>\n",
    "ii. Investigate and display a **user-friendly calendar** in Python (hint: Python has a _calendar_ library)"
   ]
  },
  {
   "cell_type": "code",
   "execution_count": 10,
   "metadata": {},
   "outputs": [
    {
     "name": "stdout",
     "output_type": "stream",
     "text": [
      "2025-01-03\n",
      "2025-01-10\n",
      "2025-01-17\n",
      "2025-01-24\n",
      "2025-01-31\n",
      "2025-02-07\n",
      "2025-02-14\n",
      "2025-02-21\n",
      "2025-02-28\n",
      "2025-03-07\n",
      "2025-03-14\n",
      "2025-03-21\n",
      "2025-03-28\n",
      "2025-04-04\n",
      "2025-04-11\n",
      "2025-04-18\n",
      "2025-04-25\n",
      "2025-05-02\n",
      "2025-05-09\n",
      "2025-05-16\n",
      "2025-05-23\n",
      "2025-05-30\n",
      "2025-06-06\n",
      "2025-06-13\n",
      "2025-06-20\n",
      "2025-06-27\n",
      "2025-07-04\n",
      "2025-07-11\n",
      "2025-07-18\n",
      "2025-07-25\n",
      "2025-08-01\n",
      "2025-08-08\n",
      "2025-08-15\n",
      "2025-08-22\n",
      "2025-08-29\n",
      "2025-09-05\n",
      "2025-09-12\n",
      "2025-09-19\n",
      "2025-09-26\n",
      "2025-10-03\n",
      "2025-10-10\n",
      "2025-10-17\n",
      "2025-10-24\n",
      "2025-10-31\n",
      "2025-11-07\n",
      "2025-11-14\n",
      "2025-11-21\n",
      "2025-11-28\n",
      "2025-12-05\n",
      "2025-12-12\n",
      "2025-12-19\n",
      "2025-12-26\n"
     ]
    }
   ],
   "source": [
    "import datetime\n",
    "\n",
    "def get_all_fridays(year):\n",
    "    fridays = []\n",
    "    date = datetime.date(year, 1, 1)\n",
    "    while date.year == year:\n",
    "        if date.weekday() == 4:\n",
    "            fridays.append(date)\n",
    "        date += datetime.timedelta(days=1)\n",
    "    return fridays\n",
    "\n",
    "for friday in get_all_fridays(2025):\n",
    "    print(friday)"
   ]
  },
  {
   "cell_type": "code",
   "execution_count": null,
   "metadata": {},
   "outputs": [],
   "source": []
  }
 ],
 "metadata": {
  "celltoolbar": "Slideshow",
  "kernelspec": {
   "display_name": "Python 3 (ipykernel)",
   "language": "python",
   "name": "python3"
  },
  "language_info": {
   "codemirror_mode": {
    "name": "ipython",
    "version": 3
   },
   "file_extension": ".py",
   "mimetype": "text/x-python",
   "name": "python",
   "nbconvert_exporter": "python",
   "pygments_lexer": "ipython3",
   "version": "3.12.7"
  }
 },
 "nbformat": 4,
 "nbformat_minor": 4
}
