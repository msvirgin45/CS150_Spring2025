{
 "cells": [
  {
   "cell_type": "markdown",
   "metadata": {
    "slideshow": {
     "slide_type": "slide"
    }
   },
   "source": [
    "## What We Looked At Recently\n",
    "* We recently wrapped up our discussion of lists, with a major focus on **list comprehensions**.\n",
    "* We took a brief look at **tuples**, which are effectively _immutable_ collections akin to lists.\n",
    "* We evaluated **dictionaries**, which permit us to store and access collections using _keys_ instead of simple indices.\n"
   ]
  },
  {
   "cell_type": "markdown",
   "metadata": {
    "slideshow": {
     "slide_type": "slide"
    }
   },
   "source": [
    "## What We'll Look At In This Module\n",
    "* We will wrap up our discussion of major Python collections by addressing **sets**.\n",
    "* We'll formalize our understanding of **functions** in Python.\n",
    "* We'll explore the use of **standard libraries** and **imports** in Python."
   ]
  },
  {
   "cell_type": "markdown",
   "metadata": {
    "slideshow": {
     "slide_type": "slide"
    }
   },
   "source": [
    "# Sets\n",
    "* A set is an unordered collection of **unique values**. \n",
    "* The Set is itself **mutable** in that elements may be added or removed.\n",
    "* However, a set may only contain **immutable objects**, like _strings_, _ints_, and _floats_. \n",
    "* Unlike lists, sets do not support indexing and slicing. \n",
    "* As with dictionaries, sets are represented using **curly braces** (i.e. `{` and `}`)"
   ]
  },
  {
   "cell_type": "code",
   "execution_count": 1,
   "metadata": {},
   "outputs": [
    {
     "name": "stdout",
     "output_type": "stream",
     "text": [
      "{1, 3, 5, 7, 9}\n",
      "{'red', 'green', 'blue', 'yellow', 'orange'}\n"
     ]
    }
   ],
   "source": [
    "odd_nums = {1, 3, 5 , 7, 9} #set of nums\n",
    "colors = {'red', 'orange', 'yellow', 'green', 'blue'} #set of strings\n",
    "print(odd_nums)\n",
    "print(colors)"
   ]
  },
  {
   "cell_type": "markdown",
   "metadata": {
    "slideshow": {
     "slide_type": "subslide"
    }
   },
   "source": [
    "### More Set Details\n",
    "* The `len` function returns the number of elements in a set. \n",
    "* As with dictionaries, sets are intended to **unordered** structures, so try to stear clear of order-dependent code.\n",
    "* Because sets only have unique values, duplicates are ignored -- this makes sets ideal for eliminating duplicates from other structures."
   ]
  },
  {
   "cell_type": "code",
   "execution_count": 2,
   "metadata": {},
   "outputs": [
    {
     "name": "stdout",
     "output_type": "stream",
     "text": [
      "{'green', 'red', 'yellow', 'blue'}\n"
     ]
    }
   ],
   "source": [
    "colors = {'blue','green','blue', 'red','yellow'} #the duplicate 'blue' is discarded\n",
    "print(colors) "
   ]
  },
  {
   "cell_type": "code",
   "execution_count": 3,
   "metadata": {},
   "outputs": [
    {
     "name": "stdout",
     "output_type": "stream",
     "text": [
      "4\n"
     ]
    }
   ],
   "source": [
    "print(len(colors))"
   ]
  },
  {
   "cell_type": "code",
   "execution_count": 4,
   "metadata": {},
   "outputs": [
    {
     "name": "stdout",
     "output_type": "stream",
     "text": [
      "GREEN RED YELLOW BLUE "
     ]
    }
   ],
   "source": [
    "for color in colors:\n",
    "    print(color.upper(), end=' ') "
   ]
  },
  {
   "cell_type": "markdown",
   "metadata": {
    "slideshow": {
     "slide_type": "subslide"
    }
   },
   "source": [
    "### Modifying and Combining Sets (I)\n",
    "* A single item can be added to a set using the `add` method.\n",
    "* `remove` will remove a single element from a set (no matter how many times it has been added!)\n",
    "* The `union` method will create a _new_ set consisting of the union of calling object and argument(s)\n",
    "* Likewise, `intersection` creates a new set consisting of objects that belong to all involved sets.\n",
    "\n"
   ]
  },
  {
   "cell_type": "code",
   "execution_count": 5,
   "metadata": {
    "slideshow": {
     "slide_type": "subslide"
    }
   },
   "outputs": [
    {
     "name": "stdout",
     "output_type": "stream",
     "text": [
      "{'green', 'red', 'yellow', 'blue'}\n",
      "{'blue', 'green', 'yellow', 'orange', 'red'}\n",
      "{'blue', 'green', 'yellow', 'orange', 'red'}\n"
     ]
    }
   ],
   "source": [
    "print(colors)\n",
    "colors.add('orange')\n",
    "print(colors)\n",
    "colors.add('yellow')\n",
    "print(colors)"
   ]
  },
  {
   "cell_type": "code",
   "execution_count": 6,
   "metadata": {},
   "outputs": [
    {
     "name": "stdout",
     "output_type": "stream",
     "text": [
      "{'blue', 'green', 'orange', 'red'}\n"
     ]
    }
   ],
   "source": [
    "colors.remove('yellow')\n",
    "print(colors)"
   ]
  },
  {
   "cell_type": "code",
   "execution_count": 7,
   "metadata": {},
   "outputs": [
    {
     "ename": "KeyError",
     "evalue": "'grey'",
     "output_type": "error",
     "traceback": [
      "\u001b[0;31m---------------------------------------------------------------------------\u001b[0m",
      "\u001b[0;31mKeyError\u001b[0m                                  Traceback (most recent call last)",
      "Cell \u001b[0;32mIn[7], line 1\u001b[0m\n\u001b[0;32m----> 1\u001b[0m colors\u001b[38;5;241m.\u001b[39mremove(\u001b[38;5;124m'\u001b[39m\u001b[38;5;124mgrey\u001b[39m\u001b[38;5;124m'\u001b[39m)\n",
      "\u001b[0;31mKeyError\u001b[0m: 'grey'"
     ]
    }
   ],
   "source": [
    "colors.remove('grey') #Will provide a key error if element isn't present"
   ]
  },
  {
   "cell_type": "code",
   "execution_count": 9,
   "metadata": {
    "slideshow": {
     "slide_type": "subslide"
    }
   },
   "outputs": [
    {
     "name": "stdout",
     "output_type": "stream",
     "text": [
      "Union: {2, 3, 4, 6, 8, 9, 10, 12, 14, 15, 16, 18, 20}\n",
      "Intersection: {18, 12, 6}\n"
     ]
    }
   ],
   "source": [
    "mult2 = {2, 4, 6, 8, 10, 12, 14, 16, 18, 20}\n",
    "mult3 = {3, 6, 9, 12, 15, 18}\n",
    "mult2or3=mult2.union(mult3) #All multiples of 2 or 3 (each number only included once!)\n",
    "mult2and3=mult2.intersection(mult3) #Intersection of multiples of 2 and 3\n",
    "print('Union: ' + str(mult2or3))\n",
    "print('Intersection: ' + str(mult2and3))"
   ]
  },
  {
   "cell_type": "markdown",
   "metadata": {},
   "source": [
    "## Practice 1: Sets of Cities\n",
    "This is a _very basic_ exercise that lets you use sets of strings in a simple context.  You are to take the followings steps:\n",
    "1. Create a set of three places you have visited this year, and call it pl_thisyear\n",
    "2. Create a second set of three places you visited last year, and call it pl_lastyear\n",
    "3. Create a third set of places you plan on visiting next year, and call it pl_nextyear\n",
    "4. Using Python set operations and your previously defined sets, find the set of all places you have visited this year _or_ last year.\n",
    "5. Using Python set operations and your previously defined sets, find the set of all places you have visited this year _and_ plan on revisiting next year."
   ]
  },
  {
   "cell_type": "code",
   "execution_count": 13,
   "metadata": {},
   "outputs": [
    {
     "name": "stdout",
     "output_type": "stream",
     "text": [
      "Union: {'Vermillion', 'Shelbyville', 'Frankfort', 'Louisville', 'Lexington'}\n",
      "Intersection: {'Louisville', 'Vermillion'}\n"
     ]
    }
   ],
   "source": [
    "pl_thisyear = {'Louisville', 'Shelbyville', 'Vermillion'}\n",
    "pl_lastyear = {'Frankfort', 'Lexington', 'Shelbyville'}\n",
    "pl_nextyear = {'Orlando', 'Louisville', 'Vermillion'}\n",
    "\n",
    "pl_thisorlastyear = pl_thisyear.union(pl_lastyear)\n",
    "pl_thisyearandpl_nextyear = pl_thisyear.intersection(pl_nextyear)\n",
    "print('Union: ' +str(pl_thisorlastyear))\n",
    "print('Intersection: ' + str(pl_thisyearandpl_nextyear))"
   ]
  },
  {
   "cell_type": "markdown",
   "metadata": {
    "slideshow": {
     "slide_type": "subslide"
    }
   },
   "source": [
    "### The `set` function\n",
    "* The `set` function can be used to create a set out of any iterable expression.\n",
    "* As expected, any duplicates will be removed during processing.\n",
    "* An **empty set** requires you to use `set()` instead of {}, because the latter is notation for a dictionary.\n",
    "* You can verify this is the case using the built-in `type` function"
   ]
  },
  {
   "cell_type": "code",
   "execution_count": 16,
   "metadata": {},
   "outputs": [
    {
     "name": "stdout",
     "output_type": "stream",
     "text": [
      "[2, 3, 4, 5, 4, 5, 6, 7]\n"
     ]
    }
   ],
   "source": [
    "lofnumbers = list(range(2,6))\n",
    "lofnumbers.extend(list(range(4,8)))\n",
    "print(lofnumbers)"
   ]
  },
  {
   "cell_type": "code",
   "execution_count": 17,
   "metadata": {},
   "outputs": [
    {
     "name": "stdout",
     "output_type": "stream",
     "text": [
      "{2, 3, 4, 5, 6, 7}\n",
      "[2, 3, 4, 5, 6, 7]\n"
     ]
    }
   ],
   "source": [
    "sofnumbers = set(lofnumbers)\n",
    "print(sofnumbers)\n",
    "print(list(sofnumbers))"
   ]
  },
  {
   "cell_type": "code",
   "execution_count": 18,
   "metadata": {
    "slideshow": {
     "slide_type": "subslide"
    }
   },
   "outputs": [
    {
     "name": "stdout",
     "output_type": "stream",
     "text": [
      "<class 'dict'>\n",
      "<class 'set'>\n",
      "set()\n"
     ]
    }
   ],
   "source": [
    "eset_try1={}\n",
    "eset_try2=set()\n",
    "print(type(eset_try1))\n",
    "print(type(eset_try2))\n",
    "print(eset_try2)\n"
   ]
  },
  {
   "cell_type": "code",
   "execution_count": 19,
   "metadata": {},
   "outputs": [
    {
     "ename": "AttributeError",
     "evalue": "'dict' object has no attribute 'add'",
     "output_type": "error",
     "traceback": [
      "\u001b[0;31m---------------------------------------------------------------------------\u001b[0m",
      "\u001b[0;31mAttributeError\u001b[0m                            Traceback (most recent call last)",
      "Cell \u001b[0;32mIn[19], line 1\u001b[0m\n\u001b[0;32m----> 1\u001b[0m eset_try1\u001b[38;5;241m.\u001b[39madd(\u001b[38;5;124m'\u001b[39m\u001b[38;5;124mHello\u001b[39m\u001b[38;5;124m'\u001b[39m)\n",
      "\u001b[0;31mAttributeError\u001b[0m: 'dict' object has no attribute 'add'"
     ]
    }
   ],
   "source": [
    "eset_try1.add('Hello')"
   ]
  },
  {
   "cell_type": "code",
   "execution_count": 20,
   "metadata": {},
   "outputs": [
    {
     "ename": "TypeError",
     "evalue": "unhashable type: 'list'",
     "output_type": "error",
     "traceback": [
      "\u001b[0;31m---------------------------------------------------------------------------\u001b[0m",
      "\u001b[0;31mTypeError\u001b[0m                                 Traceback (most recent call last)",
      "Cell \u001b[0;32mIn[20], line 3\u001b[0m\n\u001b[1;32m      1\u001b[0m \u001b[38;5;66;03m#Remember, we cannot add mutable collections (like lists) to sets\u001b[39;00m\n\u001b[1;32m      2\u001b[0m coords \u001b[38;5;241m=\u001b[39m \u001b[38;5;28mset\u001b[39m()\n\u001b[0;32m----> 3\u001b[0m coords\u001b[38;5;241m.\u001b[39madd([\u001b[38;5;241m1\u001b[39m, \u001b[38;5;241m10\u001b[39m])\n\u001b[1;32m      4\u001b[0m coords\u001b[38;5;241m.\u001b[39madd([\u001b[38;5;241m5\u001b[39m, \u001b[38;5;241m2\u001b[39m])\n",
      "\u001b[0;31mTypeError\u001b[0m: unhashable type: 'list'"
     ]
    }
   ],
   "source": [
    "#Remember, we cannot add mutable collections (like lists) to sets\n",
    "coords = set()\n",
    "coords.add([1, 10])\n",
    "coords.add([5, 2])"
   ]
  },
  {
   "cell_type": "code",
   "execution_count": 21,
   "metadata": {},
   "outputs": [
    {
     "name": "stdout",
     "output_type": "stream",
     "text": [
      "{(1, 10), (5, 2)}\n"
     ]
    }
   ],
   "source": [
    "#Instead you must use immutable collections (like tuples) if collections are needed in sets\n",
    "coords = set()\n",
    "coords.add((1, 10))\n",
    "coords.add((5, 2))\n",
    "print(coords)"
   ]
  },
  {
   "cell_type": "markdown",
   "metadata": {},
   "source": [
    "### Eliminating Duplicates\n",
    "* The previous examples with multiples illustrate one of the simplest ways to eliminate duplicate elements from lists.\n",
    "* This same approach can be used to eliminate duplicate elements from other collection types as well."
   ]
  },
  {
   "cell_type": "code",
   "execution_count": 23,
   "metadata": {},
   "outputs": [
    {
     "name": "stdout",
     "output_type": "stream",
     "text": [
      "(1, 4, 9, 16, 4, 8, 12, 16)\n",
      "(1, 4, 8, 9, 12, 16)\n"
     ]
    }
   ],
   "source": [
    "mytuple = (1, 4, 9, 16, 4, 8, 12, 16)\n",
    "mytuple_noduplicates = tuple(set(mytuple))\n",
    "print(mytuple)\n",
    "print(mytuple_noduplicates)"
   ]
  },
  {
   "cell_type": "markdown",
   "metadata": {
    "slideshow": {
     "slide_type": "subslide"
    }
   },
   "source": [
    "### Modifying and Combining Sets (II)\n",
    "* Set comprehensions can be defined using curly braces and the familiar format.\n",
    "* Method `discard` will remove its argument from a set if present, or ignore it if not present. \n",
    "* The `difference` between two sets is a set consisting of the elements in the left operand that are not in the right operand. \n",
    "* The `symmetric_difference` between two sets is a set consisting of the elements of both sets that are not in common with one another. "
   ]
  },
  {
   "cell_type": "code",
   "execution_count": 24,
   "metadata": {},
   "outputs": [
    {
     "name": "stdout",
     "output_type": "stream",
     "text": [
      "{8, 2, 10, 6}\n"
     ]
    }
   ],
   "source": [
    "#Set generation using comprehension\n",
    "counts = [1, 2, 2, 3, 5, 5, 6, 6, 7, 8, 9, 10, 10]\n",
    "evencountsunique = {item for item in counts if item % 2 == 0}\n",
    "print(evencountsunique)"
   ]
  },
  {
   "cell_type": "code",
   "execution_count": 25,
   "metadata": {},
   "outputs": [
    {
     "ename": "KeyError",
     "evalue": "'purple'",
     "output_type": "error",
     "traceback": [
      "\u001b[0;31m---------------------------------------------------------------------------\u001b[0m",
      "\u001b[0;31mKeyError\u001b[0m                                  Traceback (most recent call last)",
      "Cell \u001b[0;32mIn[25], line 3\u001b[0m\n\u001b[1;32m      1\u001b[0m colors \u001b[38;5;241m=\u001b[39m {\u001b[38;5;124m'\u001b[39m\u001b[38;5;124mblue\u001b[39m\u001b[38;5;124m'\u001b[39m,\u001b[38;5;124m'\u001b[39m\u001b[38;5;124mgreen\u001b[39m\u001b[38;5;124m'\u001b[39m,\u001b[38;5;124m'\u001b[39m\u001b[38;5;124mred\u001b[39m\u001b[38;5;124m'\u001b[39m,\u001b[38;5;124m'\u001b[39m\u001b[38;5;124myellow\u001b[39m\u001b[38;5;124m'\u001b[39m}\n\u001b[1;32m      2\u001b[0m colors\u001b[38;5;241m.\u001b[39mremove(\u001b[38;5;124m'\u001b[39m\u001b[38;5;124mblue\u001b[39m\u001b[38;5;124m'\u001b[39m)\n\u001b[0;32m----> 3\u001b[0m colors\u001b[38;5;241m.\u001b[39mremove(\u001b[38;5;124m'\u001b[39m\u001b[38;5;124mpurple\u001b[39m\u001b[38;5;124m'\u001b[39m)\n\u001b[1;32m      4\u001b[0m \u001b[38;5;28mprint\u001b[39m(colors)\n",
      "\u001b[0;31mKeyError\u001b[0m: 'purple'"
     ]
    }
   ],
   "source": [
    "colors = {'blue','green','red','yellow'}\n",
    "colors.remove('blue')\n",
    "colors.remove('purple') #cant remove something that isnt there, use dicard instead to bypass possible errors like this.\n",
    "print(colors)"
   ]
  },
  {
   "cell_type": "code",
   "execution_count": 26,
   "metadata": {},
   "outputs": [
    {
     "name": "stdout",
     "output_type": "stream",
     "text": [
      "{'green', 'red', 'yellow'}\n"
     ]
    }
   ],
   "source": [
    "colors = {'blue','green','red','yellow'}\n",
    "colors.discard('blue')\n",
    "colors.discard('purple') #This method call is ignored.\n",
    "print(colors)"
   ]
  },
  {
   "cell_type": "code",
   "execution_count": 27,
   "metadata": {
    "slideshow": {
     "slide_type": "subslide"
    }
   },
   "outputs": [
    {
     "name": "stdout",
     "output_type": "stream",
     "text": [
      "{2, 4, 8, 10, 14, 16, 20}\n",
      "{2, 3, 4, 8, 9, 10, 14, 15, 16, 20}\n"
     ]
    }
   ],
   "source": [
    "mult2 = {2, 4, 6, 8, 10, 12, 14, 16, 18, 20}\n",
    "mult3 = {3, 6, 9, 12, 15, 18}\n",
    "mult2not3 = mult2.difference(mult3)\n",
    "mult2comp3 = mult2.symmetric_difference(mult3)\n",
    "print(mult2not3)\n",
    "print(mult2comp3)"
   ]
  },
  {
   "cell_type": "markdown",
   "metadata": {
    "slideshow": {
     "slide_type": "slide"
    }
   },
   "source": [
    "### Searching in and Comparing Sets\n",
    "* As with lists and dictionaries, sets have many additional operations available to them.\n",
    "* We will restrict our evaluation to only three of these:\n",
    "    * `in` can be used to see if a set has a particular item.\n",
    "    * `==` holds true for sets that have _exactly_ the same elements, regardless of the order in which they were added.\n",
    "    * `<=` tests whether the set to the left is a **subset** of the one to its right: that is, all the elements in the left operand are in the right operand.\n"
   ]
  },
  {
   "cell_type": "code",
   "execution_count": 2,
   "metadata": {},
   "outputs": [
    {
     "name": "stdout",
     "output_type": "stream",
     "text": [
      "[{'yellow', 'blue', 'red'}, {'purple', 'green', 'orange'}, {'red', 'blue', 'yellow'}, {'red', 'orange', 'purple', 'blue', 'yellow', 'green'}]\n",
      "{'yellow', 'blue', 'red'}\n",
      "{'purple', 'green', 'orange'}\n",
      "{'red', 'blue', 'yellow'}\n",
      "{'red', 'orange', 'purple', 'blue', 'yellow', 'green'}\n"
     ]
    }
   ],
   "source": [
    "cslist = [] #We will build a list of sets and apply operations to them\n",
    "cslist.append({'red','blue','yellow'}) #primary colors\n",
    "cslist.append({'purple','orange','green'}) #secondary colors\n",
    "cslist.append({'yellow','blue','red','yellow'}) #Same elements as #1, but in a different order + duplicate \n",
    "cslist.append(cslist[0].union(cslist[1])) #all primary and secondary colors \n",
    "print(cslist)\n",
    "print(cslist[0])\n",
    "print(cslist[1])\n",
    "print(cslist[2])\n",
    "print(cslist[3])"
   ]
  },
  {
   "cell_type": "code",
   "execution_count": 4,
   "metadata": {
    "slideshow": {
     "slide_type": "subslide"
    }
   },
   "outputs": [
    {
     "name": "stdout",
     "output_type": "stream",
     "text": [
      "'orange' in {'yellow', 'blue', 'red'}?  False\n",
      "'orange' in {'purple', 'green', 'orange'}?  True\n",
      "'orange' in {'red', 'blue', 'yellow'}?  False\n",
      "'orange' in {'red', 'orange', 'purple', 'blue', 'yellow', 'green'}?  True\n"
     ]
    }
   ],
   "source": [
    "#Check if string 'orange' is in each set\n",
    "for colset in cslist:\n",
    "    print(f'\\'orange\\' in {colset}? ', 'orange' in colset) "
   ]
  },
  {
   "cell_type": "code",
   "execution_count": 5,
   "metadata": {
    "slideshow": {
     "slide_type": "-"
    }
   },
   "outputs": [
    {
     "name": "stdout",
     "output_type": "stream",
     "text": [
      "{'yellow', 'blue', 'red'} == {'yellow', 'blue', 'red'}?  True\n",
      "{'yellow', 'blue', 'red'} == {'purple', 'green', 'orange'}?  False\n",
      "{'yellow', 'blue', 'red'} == {'red', 'blue', 'yellow'}?  True\n",
      "{'yellow', 'blue', 'red'} == {'red', 'orange', 'purple', 'blue', 'yellow', 'green'}?  False\n"
     ]
    }
   ],
   "source": [
    "#Determine if first set is equal to each set\n",
    "for colset in cslist:\n",
    "    print(f'{cslist[0]} == {colset}? ', cslist[0] == colset) "
   ]
  },
  {
   "cell_type": "code",
   "execution_count": 6,
   "metadata": {
    "scrolled": true,
    "slideshow": {
     "slide_type": "subslide"
    }
   },
   "outputs": [
    {
     "name": "stdout",
     "output_type": "stream",
     "text": [
      "{'yellow', 'blue', 'red'} <= {'yellow', 'blue', 'red'}?  True\n",
      "{'yellow', 'blue', 'red'} <= {'purple', 'green', 'orange'}?  False\n",
      "{'yellow', 'blue', 'red'} <= {'red', 'blue', 'yellow'}?  True\n",
      "{'yellow', 'blue', 'red'} <= {'red', 'orange', 'purple', 'blue', 'yellow', 'green'}?  True\n"
     ]
    }
   ],
   "source": [
    "#Determine if first set is a subset of each set.\n",
    "for colset in cslist:\n",
    "    print(f'{cslist[0]} <= {colset}? ', cslist[0] <= colset) "
   ]
  },
  {
   "cell_type": "markdown",
   "metadata": {},
   "source": [
    "## Practice 2: Sets and Input\n",
    "According to a recent YouGov poll, the seven most popular ice creams are as follows:<br>\n",
    "Vanilla, Chocolate, Cookies and Cream, Strawberry, Chocolate Chip, Butter Pecan, Cookie Dough\n",
    "<br>You are to take the following steps:\n",
    "1. Create set variable ic_favorites and store the strings above\n",
    "2. Read as input three favorite ice cream flavors from a user and store them into set variable ic_user\n",
    "3. For each ice cream flavor in ic_user, let the user know whether it is one of the popular flavors.\n",
    "4. Lastly, let the user know if their set of flavors is a _subset_ of the favorite flavors set."
   ]
  },
  {
   "cell_type": "code",
   "execution_count": 55,
   "metadata": {},
   "outputs": [
    {
     "name": "stdin",
     "output_type": "stream",
     "text": [
      "Please input your favorite ice cream flavor:  Vanilla\n",
      "Please input your favorite ice cream flavor:  Chocolate\n",
      "Please input your favorite ice cream flavor:  Butter Pecan\n"
     ]
    },
    {
     "name": "stdout",
     "output_type": "stream",
     "text": [
      "Vanilla is one of the most popular flavors.\n",
      "Chocolate is one of the most popular flavors.\n",
      "Butter Pecan is one of the most popular flavors.\n",
      "All of your chosen flavors are among the most popular.\n"
     ]
    }
   ],
   "source": [
    "index = 0\n",
    "ic_favorites = {'Vanilla','Chocolate','Cookies and Cream','Strawberry','Chocolate Chip','Butter Pecan','Cookie Dough'}\n",
    "\n",
    "ic_user = set()\n",
    "for i in range(3):\n",
    "    flavor = input('Please input your favorite ice cream flavor: ')\n",
    "    ic_user.add(flavor)\n",
    "\n",
    "for flavor in ic_user:\n",
    "    if flavor in ic_favorites:\n",
    "        print(str(flavor) + ' is one of the most popular flavors.')\n",
    "        \n",
    "    else:\n",
    "        print(str(flavor) + ' is not one of the most popular flavors.')\n",
    "\n",
    "if ic_user <= ic_favorites:\n",
    "    print('All of your chosen flavors are among the most popular.')\n",
    "else:\n",
    "    print('Not all of your chosen flavors are among the most popular.')"
   ]
  },
  {
   "cell_type": "markdown",
   "metadata": {
    "slideshow": {
     "slide_type": "slide"
    }
   },
   "source": [
    "# Functions\n",
    "* A cornerstone of effective programming is the creation of **functions**, which permit code readability and reusability.\n",
    "* Definition begins with the (**`def` keyword**, followed by the function name, a set of parentheses and a colon (`:`). \n",
    "* By convention function names should begin with a lowercase letter and in multiword names underscores should separate each word. \n",
    "* Required parentheses contain the function’s **parameter list** (also called **arguments**), with empty parentheses meaning no parameters. \n"
   ]
  },
  {
   "cell_type": "code",
   "execution_count": 15,
   "metadata": {},
   "outputs": [],
   "source": [
    "def sayhello():\n",
    "    print('Hello there.')\n",
    "    print('How are you doing today?')"
   ]
  },
  {
   "cell_type": "code",
   "execution_count": 16,
   "metadata": {},
   "outputs": [
    {
     "name": "stdout",
     "output_type": "stream",
     "text": [
      "Hello there.\n",
      "How are you doing today?\n"
     ]
    }
   ],
   "source": [
    "sayhello() #Assuming the code in the cell above has been executed, it should print out the lines given."
   ]
  },
  {
   "cell_type": "markdown",
   "metadata": {},
   "source": [
    "## Functions Continued\n",
    "* As observed with the simple function above, indentation is used after the function definition line to indicate the function’s **block**, which a special kind of suite. \n",
    "* Every time the function is **called** (i.e. referenced elsewhere in the code), the function's block will be executed.\n",
    "* Very often functions will **return** a value, which can then be assigned to a variable or otherwise manipulated.\n",
    "* Note that **documentation** (one or more comments) is frequently used with functions to indicate their purpose and/or how they should be used in practice."
   ]
  },
  {
   "cell_type": "code",
   "execution_count": 17,
   "metadata": {},
   "outputs": [],
   "source": [
    "def square(number):\n",
    "    #Calculate the square of number.\n",
    "    return number ** 2"
   ]
  },
  {
   "cell_type": "code",
   "execution_count": 18,
   "metadata": {},
   "outputs": [
    {
     "name": "stdout",
     "output_type": "stream",
     "text": [
      "49\n"
     ]
    }
   ],
   "source": [
    "print(square(7)) #We can directly print the output of square for a given number."
   ]
  },
  {
   "cell_type": "code",
   "execution_count": 19,
   "metadata": {},
   "outputs": [
    {
     "name": "stdout",
     "output_type": "stream",
     "text": [
      "100\n"
     ]
    }
   ],
   "source": [
    "mysquare_of_10 = square(10) #Or we can store the output in a variable\n",
    "print(mysquare_of_10)"
   ]
  },
  {
   "cell_type": "code",
   "execution_count": 24,
   "metadata": {},
   "outputs": [
    {
     "name": "stdout",
     "output_type": "stream",
     "text": [
      "0 1 4 9 16 25 36 49 64 81 100 121 144 169 196 225 256 289 324 361 "
     ]
    }
   ],
   "source": [
    "for i in range(20):\n",
    "    print(square(i), end = ' ')"
   ]
  },
  {
   "cell_type": "code",
   "execution_count": 25,
   "metadata": {},
   "outputs": [
    {
     "ename": "TypeError",
     "evalue": "unsupported operand type(s) for ** or pow(): 'str' and 'int'",
     "output_type": "error",
     "traceback": [
      "\u001b[0;31m---------------------------------------------------------------------------\u001b[0m",
      "\u001b[0;31mTypeError\u001b[0m                                 Traceback (most recent call last)",
      "Cell \u001b[0;32mIn[25], line 2\u001b[0m\n\u001b[1;32m      1\u001b[0m \u001b[38;5;66;03m#Calling square with a non-numeric argument like `'hello'` causes a `TypeError`\u001b[39;00m\n\u001b[0;32m----> 2\u001b[0m square(\u001b[38;5;124m'\u001b[39m\u001b[38;5;124mPython\u001b[39m\u001b[38;5;124m'\u001b[39m)\n",
      "Cell \u001b[0;32mIn[17], line 3\u001b[0m, in \u001b[0;36msquare\u001b[0;34m(number)\u001b[0m\n\u001b[1;32m      1\u001b[0m \u001b[38;5;28;01mdef\u001b[39;00m \u001b[38;5;21msquare\u001b[39m(number):\n\u001b[1;32m      2\u001b[0m     \u001b[38;5;66;03m#Calculate the square of number.\u001b[39;00m\n\u001b[0;32m----> 3\u001b[0m     \u001b[38;5;28;01mreturn\u001b[39;00m number \u001b[38;5;241m*\u001b[39m\u001b[38;5;241m*\u001b[39m \u001b[38;5;241m2\u001b[39m\n",
      "\u001b[0;31mTypeError\u001b[0m: unsupported operand type(s) for ** or pow(): 'str' and 'int'"
     ]
    }
   ],
   "source": [
    "#Calling square with a non-numeric argument like `'hello'` causes a `TypeError`\n",
    "square('Python')"
   ]
  },
  {
   "cell_type": "markdown",
   "metadata": {
    "slideshow": {
     "slide_type": "slide"
    }
   },
   "source": [
    "### Other Ways to use functions\n",
    "* Function calls also can be embedded in more complex expressions, such as formatted strings.\n",
    "* We can even funnel results from input directly into functions."
   ]
  },
  {
   "cell_type": "code",
   "execution_count": 26,
   "metadata": {},
   "outputs": [
    {
     "name": "stdout",
     "output_type": "stream",
     "text": [
      "The square of 9 is 81.\n"
     ]
    }
   ],
   "source": [
    "print(f'The square of 9 is {square(9)}.')"
   ]
  },
  {
   "cell_type": "code",
   "execution_count": 27,
   "metadata": {},
   "outputs": [
    {
     "name": "stdin",
     "output_type": "stream",
     "text": [
      "Give me a number and I will square it for you:  67\n"
     ]
    },
    {
     "name": "stdout",
     "output_type": "stream",
     "text": [
      "4489\n"
     ]
    }
   ],
   "source": [
    "print(square(int(input('Give me a number and I will square it for you: '))))"
   ]
  },
  {
   "cell_type": "markdown",
   "metadata": {},
   "source": [
    "## Practice 3: Mathematical Functions\n",
    "It is feasible to use Python functions to perform mathematical function on input values. <br>\n",
    "For this exercise, you are going to create Python functions to perform the following calculations for an input value:\n",
    "* f(x) = 3x\n",
    "* g(x) = 4x + 5\n",
    "* h(x) = 2x^2 - 3x + 4 <br>\n",
    "\n",
    "You may name your functions whatever you like, but func1(x), func2(x), and func3(x) should be fine. <br>\n",
    "**Note: you probably should _not_ name your functions f, g, or h!</b>  If you do, those names will be bound to the functions going forward.** <br>\n",
    "You should then test your functions to verify they are working correctly.  <br>\n",
    "Ex: f(3) = 9, g(5) = 25, h(7) = 81"
   ]
  },
  {
   "cell_type": "code",
   "execution_count": 38,
   "metadata": {},
   "outputs": [],
   "source": [
    "#function f(x) = 3x\n",
    "def func1(x):\n",
    "    return x * 3\n",
    "\n",
    "#function f(x) = 4x + 5\n",
    "def func2(x):\n",
    "    return x * 4 + 5\n",
    "\n",
    "#function f(x) = 2x^2 - 3x + 4\n",
    "def func3(x):\n",
    "    return ((2*x)**2) - (3 * x) + 4"
   ]
  },
  {
   "cell_type": "code",
   "execution_count": 41,
   "metadata": {},
   "outputs": [
    {
     "name": "stdout",
     "output_type": "stream",
     "text": [
      "3\n",
      "9\n",
      "5\n"
     ]
    }
   ],
   "source": [
    "print(func1(1)) # 3(1)\n",
    "print(func2(1)) # 4(1) + 5 = 9\n",
    "print(func3(1)) # 2(1)^2 - 3(1) + 4 = 5"
   ]
  },
  {
   "cell_type": "markdown",
   "metadata": {
    "slideshow": {
     "slide_type": "slide"
    }
   },
   "source": [
    "## Three Ways to Return an Output Result to a Function’s Caller\n",
    "* We can _directly_ **`return`** an expression (such as was done in the `square` function above).\n",
    "* **`return`** without an expression implicitly returns **`None`**&mdash;represents the **absence of a value** and **evaluates to `False` in conditions**.\n",
    "* **No `return` statement implicitly returns `None`**.\n",
    "* We'll discuss **`None`** in a bit more detail in coming modules.\n"
   ]
  },
  {
   "cell_type": "code",
   "execution_count": 42,
   "metadata": {},
   "outputs": [],
   "source": [
    "#Note that we can include multiple function definitions in a single cell\n",
    "def goodbye_version1():\n",
    "    print ('Have a great one!')\n",
    "    return\n",
    "\n",
    "def goodbye_version2():\n",
    "    print ('Have a great one!')"
   ]
  },
  {
   "cell_type": "code",
   "execution_count": 43,
   "metadata": {},
   "outputs": [
    {
     "name": "stdout",
     "output_type": "stream",
     "text": [
      "Have a great one!\n",
      "None\n",
      "Have a great one!\n",
      "None\n"
     ]
    }
   ],
   "source": [
    "#The two functions defined previously return exactly the same output when called (i.e. None)\n",
    "out1 = goodbye_version1()\n",
    "print(out1)\n",
    "out2 = goodbye_version2()\n",
    "print(out2)"
   ]
  },
  {
   "cell_type": "markdown",
   "metadata": {
    "slideshow": {
     "slide_type": "subslide"
    }
   },
   "source": [
    "### What Happens When You Call a Function\n",
    "* Parameters exist only during the function call. \n",
    "* They are created on each call to the function.\n",
    "* They are immediately destroyed when the function returns its result to the caller. \n",
    "* A function’s parameters and variables defined in its block are all **local variables**, meaning they are inaccessible elsewhere."
   ]
  },
  {
   "cell_type": "code",
   "execution_count": 1,
   "metadata": {},
   "outputs": [],
   "source": [
    "def cube(number):\n",
    "    print(f'You input the value {number}.')\n",
    "    return number**3"
   ]
  },
  {
   "cell_type": "code",
   "execution_count": 2,
   "metadata": {},
   "outputs": [
    {
     "name": "stdout",
     "output_type": "stream",
     "text": [
      "You input the value 5.\n",
      "125\n"
     ]
    }
   ],
   "source": [
    "mynumber = 5\n",
    "print(cube(mynumber)) #This works expectedly"
   ]
  },
  {
   "cell_type": "code",
   "execution_count": 3,
   "metadata": {},
   "outputs": [
    {
     "ename": "NameError",
     "evalue": "name 'number' is not defined",
     "output_type": "error",
     "traceback": [
      "\u001b[0;31m---------------------------------------------------------------------------\u001b[0m",
      "\u001b[0;31mNameError\u001b[0m                                 Traceback (most recent call last)",
      "Cell \u001b[0;32mIn[3], line 1\u001b[0m\n\u001b[0;32m----> 1\u001b[0m \u001b[38;5;28mprint\u001b[39m(number)\n",
      "\u001b[0;31mNameError\u001b[0m: name 'number' is not defined"
     ]
    }
   ],
   "source": [
    "print(number) #This fails (number doesn't exist outside the function in which it is defined!)"
   ]
  },
  {
   "cell_type": "markdown",
   "metadata": {
    "slideshow": {
     "slide_type": "slide"
    }
   },
   "source": [
    "## Functions with Multiple Parameters\n",
    "* Functions in Python can effectively take as many input parameters as is desired.\n",
    "* Parameters should be separated from each other using commas i.e. parameter_1, parameter_2, etc.\n",
    "* Otherwise, parameters beyond the first are treated no differently within the context of the function"
   ]
  },
  {
   "cell_type": "code",
   "execution_count": 4,
   "metadata": {},
   "outputs": [],
   "source": [
    "#We can define a function to return a specific character by index within a string\n",
    "def charselect(mystring,myindex):\n",
    "    return mystring[myindex]"
   ]
  },
  {
   "cell_type": "code",
   "execution_count": 5,
   "metadata": {},
   "outputs": [
    {
     "name": "stdout",
     "output_type": "stream",
     "text": [
      "t\n"
     ]
    }
   ],
   "source": [
    "#Return the character at position 2 within the string \"Python\"\n",
    "print(charselect('Python',2))"
   ]
  },
  {
   "cell_type": "code",
   "execution_count": 6,
   "metadata": {},
   "outputs": [
    {
     "ename": "TypeError",
     "evalue": "'int' object is not subscriptable",
     "output_type": "error",
     "traceback": [
      "\u001b[0;31m---------------------------------------------------------------------------\u001b[0m",
      "\u001b[0;31mTypeError\u001b[0m                                 Traceback (most recent call last)",
      "Cell \u001b[0;32mIn[6], line 2\u001b[0m\n\u001b[1;32m      1\u001b[0m \u001b[38;5;66;03m#Make sure you provide function arguments in the correct order!\u001b[39;00m\n\u001b[0;32m----> 2\u001b[0m \u001b[38;5;28mprint\u001b[39m(charselect(\u001b[38;5;241m2\u001b[39m, \u001b[38;5;124m'\u001b[39m\u001b[38;5;124mPython\u001b[39m\u001b[38;5;124m'\u001b[39m))\n",
      "Cell \u001b[0;32mIn[4], line 3\u001b[0m, in \u001b[0;36mcharselect\u001b[0;34m(mystring, myindex)\u001b[0m\n\u001b[1;32m      2\u001b[0m \u001b[38;5;28;01mdef\u001b[39;00m \u001b[38;5;21mcharselect\u001b[39m(mystring,myindex):\n\u001b[0;32m----> 3\u001b[0m     \u001b[38;5;28;01mreturn\u001b[39;00m mystring[myindex]\n",
      "\u001b[0;31mTypeError\u001b[0m: 'int' object is not subscriptable"
     ]
    }
   ],
   "source": [
    "#Make sure you provide function arguments in the correct order!\n",
    "print(charselect(2, 'Python'))"
   ]
  },
  {
   "cell_type": "code",
   "execution_count": 7,
   "metadata": {},
   "outputs": [],
   "source": [
    "#We can define a more complex function to return the maximum of three input parameters.\n",
    "def maximum(value1, value2, value3):\n",
    "    \"\"\"Return the maximum of three values.\"\"\"\n",
    "    max_value = value1\n",
    "    if value2 > max_value:\n",
    "        max_value = value2\n",
    "    if value3 > max_value:\n",
    "        max_value = value3\n",
    "    return max_value"
   ]
  },
  {
   "cell_type": "code",
   "execution_count": 10,
   "metadata": {},
   "outputs": [
    {
     "name": "stdout",
     "output_type": "stream",
     "text": [
      "36\n",
      "40\n",
      "65\n"
     ]
    }
   ],
   "source": [
    "print(maximum(12, 27, 36))\n",
    "print(maximum(40, 12, 23))\n",
    "print(maximum(23, 65, 65))"
   ]
  },
  {
   "cell_type": "markdown",
   "metadata": {},
   "source": [
    "## Practice 4: String Functions\n",
    "It is common to define functions that manipulate multiple strings.  For this exercise, you are to write the following functions, all of which employ two strings:\n",
    "* length_combined(str1, str2): returns the cumulative length across both str1 and str2\n",
    "* same_length(str1, str2): returns True if str1 and str2 have exactly the same length, and False otherwise\n",
    "* length_diff(str1, str2): returns the difference in lengths between two strings (ex: length_diff('Python','Notebook') = 2)\n",
    "* samestr_reversed(str1, str2): returns True is str2 reads the same as str1 **in reverse**, or False otherwise."
   ]
  },
  {
   "cell_type": "code",
   "execution_count": 12,
   "metadata": {},
   "outputs": [
    {
     "name": "stdout",
     "output_type": "stream",
     "text": [
      "10\n",
      "14\n"
     ]
    }
   ],
   "source": [
    "def length_combined(str1,str2):\n",
    "    combined_str = str1 + str2\n",
    "    return len(combined_str)\n",
    "\n",
    "print(length_combined('Hello','World'))\n",
    "print(length_combined('Apple','Pineapple'))"
   ]
  },
  {
   "cell_type": "code",
   "execution_count": 26,
   "metadata": {},
   "outputs": [
    {
     "name": "stdout",
     "output_type": "stream",
     "text": [
      "False\n",
      "True\n"
     ]
    }
   ],
   "source": [
    "def same_length(str1,str2):\n",
    "    if len(str1) == len(str2):\n",
    "        return True\n",
    "    else:\n",
    "        return False\n",
    "\n",
    "print(same_length('Apple','Orange'))\n",
    "print(same_length('Hello','Apple'))"
   ]
  },
  {
   "cell_type": "code",
   "execution_count": 18,
   "metadata": {},
   "outputs": [
    {
     "name": "stdout",
     "output_type": "stream",
     "text": [
      "2\n"
     ]
    }
   ],
   "source": [
    "def length_diff(str1,str2):\n",
    "    diff_str = len(str1) - len(str2)\n",
    "    return diff_str\n",
    "\n",
    "print(length_diff('Notebook','Canvas'))"
   ]
  },
  {
   "cell_type": "code",
   "execution_count": 37,
   "metadata": {},
   "outputs": [
    {
     "name": "stdout",
     "output_type": "stream",
     "text": [
      "True\n",
      "False\n"
     ]
    }
   ],
   "source": [
    "def samestr_reversed(str1,str2):\n",
    "    return str1 == str2[::-1]\n",
    "\n",
    "print(samestr_reversed('Apple','elppA'))\n",
    "print(samestr_reversed('Orange','Pineapple'))"
   ]
  }
 ],
 "metadata": {
  "celltoolbar": "Slideshow",
  "kernelspec": {
   "display_name": "Python 3 (ipykernel)",
   "language": "python",
   "name": "python3"
  },
  "language_info": {
   "codemirror_mode": {
    "name": "ipython",
    "version": 3
   },
   "file_extension": ".py",
   "mimetype": "text/x-python",
   "name": "python",
   "nbconvert_exporter": "python",
   "pygments_lexer": "ipython3",
   "version": "3.12.7"
  }
 },
 "nbformat": 4,
 "nbformat_minor": 4
}
