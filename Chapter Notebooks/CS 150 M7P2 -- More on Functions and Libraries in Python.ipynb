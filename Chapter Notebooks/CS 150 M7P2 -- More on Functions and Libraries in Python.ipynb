{
 "cells": [
  {
   "cell_type": "markdown",
   "metadata": {},
   "source": [
    "## Finding Functions\n",
    "As Python has evolved to promote a convenient and complete programming environment for its users, _many_ functions that you may like to employ are likely to already exist in Python via one of three mechanisms:\n",
    "* Built-in functions (require no extra effort)\n",
    "* Standard library functions (require a function to be **imported** when coding, but no additional installation)\n",
    "* Third-party library functions (require a function to be **imported** when coding **and** _usually_ require an outside library to be installed)\n",
    "* We will look at examples of all of these through the rest of this module. \n"
   ]
  },
  {
   "cell_type": "markdown",
   "metadata": {
    "slideshow": {
     "slide_type": "slide"
    }
   },
   "source": [
    "### Python’s Built-In max and min Functions\n",
    "* For many common tasks, the capabilities you need already exist in Python and require no additional effort to use. \n",
    "* Built-in `max` and `min` functions know how to determine the largest and smallest of their two or more arguments:\n",
    "* For numeric data, `max` and `min` have obvious meanings.\n",
    "* For other data, the effect of `max` and `min` varies (e.g. for strings `min` chooses alphabetically first, while `max` chooses last)  "
   ]
  },
  {
   "cell_type": "code",
   "execution_count": 1,
   "metadata": {},
   "outputs": [
    {
     "data": {
      "text/plain": [
       "9"
      ]
     },
     "execution_count": 1,
     "metadata": {},
     "output_type": "execute_result"
    }
   ],
   "source": [
    "min(15, 9, 27, 14)"
   ]
  },
  {
   "cell_type": "code",
   "execution_count": 5,
   "metadata": {},
   "outputs": [
    {
     "data": {
      "text/plain": [
       "'red'"
      ]
     },
     "execution_count": 5,
     "metadata": {},
     "output_type": "execute_result"
    }
   ],
   "source": [
    "max('red', 'orange', 'blue', 'green')"
   ]
  },
  {
   "cell_type": "code",
   "execution_count": 8,
   "metadata": {},
   "outputs": [
    {
     "data": {
      "text/plain": [
       "'orange'"
      ]
     },
     "execution_count": 8,
     "metadata": {},
     "output_type": "execute_result"
    }
   ],
   "source": [
    "max('Red', 'orange', 'blue', 'green')"
   ]
  },
  {
   "cell_type": "code",
   "execution_count": 9,
   "metadata": {},
   "outputs": [
    {
     "data": {
      "text/plain": [
       "17"
      ]
     },
     "execution_count": 9,
     "metadata": {},
     "output_type": "execute_result"
    }
   ],
   "source": [
    "red = 2\n",
    "green = 5\n",
    "orange = 17\n",
    "max(red, green, orange)"
   ]
  },
  {
   "cell_type": "markdown",
   "metadata": {
    "slideshow": {
     "slide_type": "slide"
    }
   },
   "source": [
    "## Import Statements\n",
    "* Not every function is _automatically_ available to you within the context of Python.\n",
    "* Many functions must be accessed using the **import** statement, which is used to \"bring in\" a _library_ or its elements.\n",
    "* In programming terms, a **library** is a collection of functions, classes, and other programming elements that serve a related purpose.\n",
    "* Throughout the rest of the semester, we will be making use of both **standard libraries** which are available by default with your programming environment, as well as **third-party libraries** which will require installation."
   ]
  },
  {
   "cell_type": "markdown",
   "metadata": {
    "slideshow": {
     "slide_type": "subslide"
    }
   },
   "source": [
    "## Random Library and Rolling a Six-Sided Die\n",
    "* For example, we can import the `random` library, which contains the function `randrange`, which permits us to generate a random number within a given range between a starting and ending quantity.\n",
    "* As with the familiar `range` function, the second argument to randange is _not_ included in the possible range."
   ]
  },
  {
   "cell_type": "code",
   "execution_count": 10,
   "metadata": {},
   "outputs": [],
   "source": [
    "import random #Any function available in the random library is now available to use"
   ]
  },
  {
   "cell_type": "code",
   "execution_count": 13,
   "metadata": {},
   "outputs": [
    {
     "name": "stdout",
     "output_type": "stream",
     "text": [
      "6 2 5 3 4 1 4 2 4 1 "
     ]
    }
   ],
   "source": [
    "#Simulate rolling a 6-sided die 10 times\n",
    "for roll in range(10):\n",
    "    print(random.randrange(1, 7), end = ' ')"
   ]
  },
  {
   "cell_type": "markdown",
   "metadata": {
    "slideshow": {
     "slide_type": "subslide"
    }
   },
   "source": [
    "* As observed above `randrange` function generates an integer from the first argument value up to, but not including, the second argument value.\n",
    "* Different values are displayed if you re-execute the loop."
   ]
  },
  {
   "cell_type": "markdown",
   "metadata": {},
   "source": [
    "## Practice 1: Averaging Random Numbers in a Function\n",
    "For this problem, you are to create a function average_randfunc(maxvalue, numtimes) that does the following:\n",
    "1. Generates a random number between 1 and the first input parameter (maxvalue)\n",
    "2. Repeats the process again until it has been done a number of times equal to the second parameter (numtimes)\n",
    "3. Finds the mean (average) of all the random numbers generated during the process, and returns it.\n",
    "\n",
    "For example, average_randfunc(10,100) should generate 100 random numbers between 1 and 10 and return their average."
   ]
  },
  {
   "cell_type": "code",
   "execution_count": 17,
   "metadata": {},
   "outputs": [],
   "source": [
    "from random import randrange"
   ]
  },
  {
   "cell_type": "code",
   "execution_count": 25,
   "metadata": {},
   "outputs": [],
   "source": [
    "def average_randfunc(maxvalue,numtimes):\n",
    "    mylistofnum = []\n",
    "    for mynum in range(numtimes):\n",
    "        mylistofnum.append(randrange(1,maxvalue))\n",
    "    return sum(mylistofnum)/len(mylistofnum)"
   ]
  },
  {
   "cell_type": "code",
   "execution_count": 34,
   "metadata": {},
   "outputs": [
    {
     "name": "stdout",
     "output_type": "stream",
     "text": [
      "3.09\n"
     ]
    }
   ],
   "source": [
    "print(average_randfunc(6,100))"
   ]
  },
  {
   "cell_type": "markdown",
   "metadata": {},
   "source": [
    "# Different Types of Python Files\n",
    "Thus far in this course, we have been using **.ipynb** files for our scripts. \n",
    "* On the plus side, .ipynb files permit us to work _interactively_ with our python code (ex: running segments of the code, re-running and fixing code, etc.) <br>\n",
    "* However, there exists alternate file types associated with Python scripts, including the _traditional_ Python programming **.py file**.\n"
   ]
  },
  {
   "cell_type": "markdown",
   "metadata": {},
   "source": [
    "# .py Files vs .ipynb Files\n",
    "- On the downside, .py files are _not interactive_ meaning we generally run them all at once and observe whether the output or other results match our needs.  When interaction is needed, we are best sticking to .ipynb files. <br><br>\n",
    "- On the upside, .py files are significantly more portable and easier to execute than .ipynb files.\n",
    "    1. We can execute them from a command line/terminal.\n",
    "    2. We can use them directly from a larger variety of programming development environments than .ipynb files.\n",
    "    3. Most importantly to us, we can execute .py file scripts from _within_ our .ipynb files.\n"
   ]
  },
  {
   "cell_type": "code",
   "execution_count": 35,
   "metadata": {},
   "outputs": [],
   "source": [
    "# Included with this Notebook is the file hello_world.py"
   ]
  },
  {
   "cell_type": "code",
   "execution_count": 36,
   "metadata": {},
   "outputs": [
    {
     "name": "stdout",
     "output_type": "stream",
     "text": [
      "Hello world.\n"
     ]
    }
   ],
   "source": [
    "run hello_world.py"
   ]
  },
  {
   "cell_type": "markdown",
   "metadata": {
    "slideshow": {
     "slide_type": "subslide"
    }
   },
   "source": [
    "### Rolling a Six-Sided Die 6,000,000 Times\n",
    "* If `randrange` truly produces integers at random, every number in its range has an equal probability (or chance or likelihood) of being returned each time we call it. \n",
    "* Roll a die 6,000,000 times.\n",
    "* Each die face should occur approximately 1,000,000 times.\n",
    "* We used Python’s underscore (_) digit separator to make the value 6000000 more readable. "
   ]
  },
  {
   "cell_type": "markdown",
   "metadata": {
    "slideshow": {
     "slide_type": "subslide"
    }
   },
   "source": [
    "```python\n",
    "### Rolling a Six-Sided Die 6,000,000 Times\n",
    "### This script is purely for illustration (the .py files should be included as separate files) \n",
    "\"\"\"Roll a six-sided die 6,000,000 times.\"\"\"\n",
    "import random\n",
    "\n",
    "# face frequency counters\n",
    "frequency1 = 0\n",
    "frequency2 = 0\n",
    "frequency3 = 0\n",
    "frequency4 = 0\n",
    "frequency5 = 0\n",
    "frequency6 = 0\n",
    "# 6,000,000 die rolls\n",
    "for roll in range(6_000_000):  # note underscore separators to make number readable , will cause error\n",
    "    face = random.randrange(1, 7)\n",
    "\n",
    "    # increment appropriate face counter\n",
    "    if face == 1:\n",
    "        frequency1 += 1\n",
    "    elif face == 2:\n",
    "        frequency2 += 1\n",
    "    elif face == 3:\n",
    "        frequency3 += 1\n",
    "    elif face == 4:\n",
    "        frequency4 += 1\n",
    "    elif face == 5:\n",
    "        frequency5 += 1\n",
    "    elif face == 6:\n",
    "        frequency6 += 1\n",
    "\n",
    "print(f'Face{\"Frequency\":>13}')\n",
    "print(f'{1:>4}{frequency1:>13}')\n",
    "print(f'{2:>4}{frequency2:>13}')\n",
    "print(f'{3:>4}{frequency3:>13}')\n",
    "print(f'{4:>4}{frequency4:>13}')\n",
    "print(f'{5:>4}{frequency5:>13}')\n",
    "print(f'{6:>4}{frequency6:>13}')\n",
    "# Lets look at the future\n",
    "results = []\n",
    "results.append(frequency1)\n",
    "results.append(frequency2)\n",
    "results.append(frequency3)\n",
    "results.append(frequency4)\n",
    "results.append(frequency5)\n",
    "results.append(frequency6)\n",
    "return results\n",
    "```"
   ]
  },
  {
   "cell_type": "code",
   "execution_count": 42,
   "metadata": {
    "slideshow": {
     "slide_type": "subslide"
    }
   },
   "outputs": [
    {
     "name": "stdout",
     "output_type": "stream",
     "text": [
      "Face    Frequency\n",
      "   1       999232\n",
      "   2       999853\n",
      "   3       999938\n",
      "   4      1000176\n",
      "   5      1000709\n",
      "   6      1000092\n"
     ]
    }
   ],
   "source": [
    "run dice_6M.py # The logic for the file seen above is stored in dice_6M.py"
   ]
  },
  {
   "cell_type": "markdown",
   "metadata": {
    "slideshow": {
     "slide_type": "slide"
    }
   },
   "source": [
    "# Running vs Importing a Function\n",
    "* The above line simply executed a function in place which output frequency counts for each die face.\n",
    "* In many practical circumstances, we need to CALL a function elsewhere, rather than to simply perform something procedurally  \n",
    "* `import` _also_ lets one script use another .py file's defined components (including functions).\n",
    "* If we need a specific function or statement, we can use the Python `from` keyword to _specifically_ select what we need."
   ]
  },
  {
   "cell_type": "code",
   "execution_count": 1,
   "metadata": {
    "slideshow": {
     "slide_type": "subslide"
    }
   },
   "outputs": [
    {
     "name": "stdout",
     "output_type": "stream",
     "text": [
      "Face    Frequency\n",
      "   1       999522\n",
      "   2       999777\n",
      "   3      1000815\n",
      "   4      1001285\n",
      "   5       998984\n",
      "   6       999617\n"
     ]
    }
   ],
   "source": [
    "#Import the \"dice\" function from its python script file for later use\n",
    "from dice_6M import dice\n",
    "#Note that with the current set up, this WILL still run the script once"
   ]
  },
  {
   "cell_type": "code",
   "execution_count": 2,
   "metadata": {},
   "outputs": [
    {
     "name": "stdout",
     "output_type": "stream",
     "text": [
      "[6, 14, 8, 9, 7, 16]\n"
     ]
    }
   ],
   "source": [
    "result_60rolls = dice(60)\n",
    "print(result_60rolls)"
   ]
  },
  {
   "cell_type": "markdown",
   "metadata": {
    "slideshow": {
     "slide_type": "slide"
    }
   },
   "source": [
    "# matplotlib\n",
    "* The \"Matrix Plot Library\" (**matplotlib**) contains a series of tools for visualizing data and analysis.\n",
    "* Can be installed using `conda install matplotlib` or `pip install matplotlib`\n",
    "* Below we first install using `pip`, and then use `import matplotlib.pyplot as plt` to short-cut access to pyplot for future use."
   ]
  },
  {
   "cell_type": "code",
   "execution_count": 3,
   "metadata": {},
   "outputs": [
    {
     "name": "stdout",
     "output_type": "stream",
     "text": [
      "Requirement already satisfied: matplotlib in /opt/anaconda3/lib/python3.12/site-packages (3.9.2)\n",
      "Requirement already satisfied: contourpy>=1.0.1 in /opt/anaconda3/lib/python3.12/site-packages (from matplotlib) (1.2.0)\n",
      "Requirement already satisfied: cycler>=0.10 in /opt/anaconda3/lib/python3.12/site-packages (from matplotlib) (0.11.0)\n",
      "Requirement already satisfied: fonttools>=4.22.0 in /opt/anaconda3/lib/python3.12/site-packages (from matplotlib) (4.51.0)\n",
      "Requirement already satisfied: kiwisolver>=1.3.1 in /opt/anaconda3/lib/python3.12/site-packages (from matplotlib) (1.4.4)\n",
      "Requirement already satisfied: numpy>=1.23 in /opt/anaconda3/lib/python3.12/site-packages (from matplotlib) (1.26.4)\n",
      "Requirement already satisfied: packaging>=20.0 in /opt/anaconda3/lib/python3.12/site-packages (from matplotlib) (24.1)\n",
      "Requirement already satisfied: pillow>=8 in /opt/anaconda3/lib/python3.12/site-packages (from matplotlib) (10.4.0)\n",
      "Requirement already satisfied: pyparsing>=2.3.1 in /opt/anaconda3/lib/python3.12/site-packages (from matplotlib) (3.1.2)\n",
      "Requirement already satisfied: python-dateutil>=2.7 in /opt/anaconda3/lib/python3.12/site-packages (from matplotlib) (2.9.0.post0)\n",
      "Requirement already satisfied: six>=1.5 in /opt/anaconda3/lib/python3.12/site-packages (from python-dateutil>=2.7->matplotlib) (1.16.0)\n"
     ]
    }
   ],
   "source": [
    "!pip install matplotlib"
   ]
  },
  {
   "cell_type": "code",
   "execution_count": 4,
   "metadata": {
    "slideshow": {
     "slide_type": "subslide"
    }
   },
   "outputs": [
    {
     "data": {
      "image/png": "[encoded data removed]",
      "text/plain": [
       "<Figure size 640x480 with 1 Axes>"
      ]
     },
     "metadata": {},
     "output_type": "display_data"
    }
   ],
   "source": [
    "import matplotlib.pyplot as plt\n",
    "xlabels = [1,2,3,4,5,6]\n",
    "figure_handle = plt.bar(xlabels,result_60rolls, align='center', alpha=0.5)\n",
    "#Note that figure_handle can later be used to modify the properties of the bar graph if needed"
   ]
  },
  {
   "cell_type": "code",
   "execution_count": 5,
   "metadata": {},
   "outputs": [
    {
     "data": {
      "image/png": "[encoded data removed]",
      "text/plain": [
       "<Figure size 640x480 with 1 Axes>"
      ]
     },
     "metadata": {},
     "output_type": "display_data"
    }
   ],
   "source": [
    "import matplotlib.pyplot as plt\n",
    "xlabels = [1,2,3,4,5,6]\n",
    "figure_handle = plt.bar(xlabels,result_60rolls, align='center', alpha= 1)"
   ]
  },
  {
   "cell_type": "markdown",
   "metadata": {
    "slideshow": {
     "slide_type": "subslide"
    }
   },
   "source": [
    "### Seeding the Random-Number Generator for Reproducibility\n",
    "* Function `randrange` generates pseudorandom numbers. \n",
    "* Numbers appear to be random, because each time you start a new interactive session or execute a script that uses the random module’s functions, Python internally uses a different seed value. \n",
    "* When you’re debugging logic errors in programs that use randomly generated data, it can be helpful to use the same sequence of random numbers. \n",
    "* To do this, use the random module’s `seed` function to seed the random-number generator:"
   ]
  },
  {
   "cell_type": "code",
   "execution_count": 49,
   "metadata": {},
   "outputs": [
    {
     "name": "stdout",
     "output_type": "stream",
     "text": [
      "1 2 2 3 6 2 4 1 6 1 "
     ]
    }
   ],
   "source": [
    "random.seed(32)\n",
    "for roll in range(10):\n",
    "    print(random.randrange(1, 7), end=' ')"
   ]
  },
  {
   "cell_type": "code",
   "execution_count": 50,
   "metadata": {},
   "outputs": [
    {
     "name": "stdout",
     "output_type": "stream",
     "text": [
      "1 2 2 3 6 2 4 1 6 1 "
     ]
    }
   ],
   "source": [
    "random.seed(32)\n",
    "for roll in range(10):\n",
    "    print(random.randrange(1, 7), end=' ')"
   ]
  },
  {
   "cell_type": "markdown",
   "metadata": {
    "slideshow": {
     "slide_type": "subslide"
    }
   },
   "source": [
    "### Law of Large Numbers and Random Generation\n",
    "* Notice what happens in the graphs below as we increase the number of random rolls"
   ]
  },
  {
   "cell_type": "code",
   "execution_count": 51,
   "metadata": {
    "slideshow": {
     "slide_type": "subslide"
    }
   },
   "outputs": [
    {
     "data": {
      "image/png": "[encoded data removed]",
      "text/plain": [
       "<Figure size 640x480 with 1 Axes>"
      ]
     },
     "metadata": {},
     "output_type": "display_data"
    }
   ],
   "source": [
    "result_60rolls = dice(60)\n",
    "import matplotlib.pyplot as plt\n",
    "xlabels = [1,2,3,4,5,6]\n",
    "figure_handle = plt.bar(xlabels,result_60rolls, align='center', alpha=0.5)\n",
    "#Note that figure_handle can later be used to modify the properties of the bar graph if needed"
   ]
  },
  {
   "cell_type": "code",
   "execution_count": 52,
   "metadata": {
    "slideshow": {
     "slide_type": "subslide"
    }
   },
   "outputs": [
    {
     "data": {
      "image/png": "[encoded data removed]",
      "text/plain": [
       "<Figure size 640x480 with 1 Axes>"
      ]
     },
     "metadata": {},
     "output_type": "display_data"
    }
   ],
   "source": [
    "result_6krolls = dice(6_000)\n",
    "import matplotlib.pyplot as plt\n",
    "xlabels = [1,2,3,4,5,6]\n",
    "figure_handle = plt.bar(xlabels,result_6krolls, align='center', alpha=0.5)\n",
    "#Note that figure_handle can later be used to modify the properties of the bar graph if needed"
   ]
  },
  {
   "cell_type": "code",
   "execution_count": 53,
   "metadata": {
    "slideshow": {
     "slide_type": "subslide"
    }
   },
   "outputs": [
    {
     "data": {
      "image/png": "[encoded data removed]",
      "text/plain": [
       "<Figure size 640x480 with 1 Axes>"
      ]
     },
     "metadata": {},
     "output_type": "display_data"
    }
   ],
   "source": [
    "result_6millionrolls = dice(6_000_000)\n",
    "import matplotlib.pyplot as plt\n",
    "xlabels = [1,2,3,4,5,6]\n",
    "figure_handle = plt.bar(xlabels,result_6millionrolls, align='center', alpha=0.5)\n",
    "#Note that figure_handle can later be used to modify the properties of the bar graph if needed"
   ]
  },
  {
   "cell_type": "markdown",
   "metadata": {},
   "source": [
    "## Practice 2: More Bar Graphs\n",
    "For this problem, you are going to get a little more practice with bar graphs in Python.<br>\n",
    "The following is a list of the seven most populous nations in the world: <br>\n",
    "1. India: 1.45 billion\n",
    "2. China: 1.42 billion\n",
    "3. United States: 345 million\n",
    "4. Indonesia: 283 million\n",
    "5. Pakistan: 251 million\n",
    "6. Nigeria: 232 million\n",
    "7. Brazil: 212 million<br><br>\n",
    "\n",
    "Create a _bar plot_ showing the populations of the seven most populous nations in ascending order (least to greatest)."
   ]
  },
  {
   "cell_type": "code",
   "execution_count": 14,
   "metadata": {},
   "outputs": [
    {
     "data": {
      "text/plain": [
       "Text(0, 0.5, 'Pop. in billions')"
      ]
     },
     "execution_count": 14,
     "metadata": {},
     "output_type": "execute_result"
    },
    {
     "data": {
      "image/png": "[encoded data removed]",
      "text/plain": [
       "<Figure size 640x480 with 1 Axes>"
      ]
     },
     "metadata": {},
     "output_type": "display_data"
    }
   ],
   "source": [
    "pop = [.212, .232, .251, .283, .345 , 1.42, 1.45]\n",
    "countries = ['Brazil','Nigeria','Pakistan','Indonesia','United States','China','India']\n",
    "plt.bar(countries,pop)\n",
    "plt.xlabel('Country')\n",
    "plt.ylabel('Pop. in billions')"
   ]
  },
  {
   "cell_type": "markdown",
   "metadata": {
    "slideshow": {
     "slide_type": "subslide"
    }
   },
   "source": [
    "#  Miscellaneous `math` Module Functions in Python\n",
    "* The `random` library isn't the only needed for common numeric-related tasks.\n",
    "* The **`math` module** defines functions for performing various common mathematical calculations. "
   ]
  },
  {
   "cell_type": "markdown",
   "metadata": {
    "slideshow": {
     "slide_type": "subslide"
    }
   },
   "source": [
    "* Some `math` module functions are summarized below\n",
    "* [View the complete list](https://docs.python.org/3/library/math.html)"
   ]
  },
  {
   "cell_type": "markdown",
   "metadata": {},
   "source": [
    "Function&nbsp;&nbsp;&nbsp;&nbsp;&nbsp;&nbsp;&nbsp;&nbsp;&nbsp;&nbsp;| Description | Example &nbsp;&nbsp;&nbsp;&nbsp;&nbsp;&nbsp;&nbsp;&nbsp;&nbsp;&nbsp;&nbsp;&nbsp;&nbsp;&nbsp;&nbsp;&nbsp;&nbsp;&nbsp;&nbsp;&nbsp;&nbsp;&nbsp;\n",
    ":------- | :------- | :--------\n",
    "`ceil(`x`)`\t| Rounds x to the smallest integer not less than x\t| `ceil(9.2) is 10.0`, `ceil(-9.8) is -9.0`\n",
    "`floor(`x`)`\t| Rounds x to the largest integer not greater than x\t| `floor(9.2) is 9.0`, `floor(-9.8) is -10.0`\n",
    "`sin(`x`)`\t| Trigonometric sine of x (x in radians)\t| `sin(0.0) is 0.0`\n",
    "`cos(`x`)`\t| Trigonometric cosine of x (x in radians)\t| `cos(0.0) is 1.0`\n",
    "`tan(`x`)` \t| Trigonometric tangent of x (x in radians)\t| `tan(0.0) is 0.0`\n",
    "`exp(`x`)`\t| Exponential function e<sup>x</sup>\t| `exp(1.0) is 2.718282`, `exp(2.0) is 7.389056`\n",
    "`log(`x`)`\t| Natural logarithm of x (base e)\t| `log(2.718282) is 1.0`, `log(7.389056) is 2.0`"
   ]
  },
  {
   "cell_type": "markdown",
   "metadata": {
    "slideshow": {
     "slide_type": "subslide"
    }
   },
   "source": [
    "Function&nbsp;&nbsp;&nbsp;&nbsp;&nbsp;&nbsp;&nbsp;&nbsp;&nbsp;&nbsp;| Description | Example &nbsp;&nbsp;&nbsp;&nbsp;&nbsp;&nbsp;&nbsp;&nbsp;&nbsp;&nbsp;&nbsp;&nbsp;&nbsp;&nbsp;&nbsp;&nbsp;&nbsp;&nbsp;&nbsp;&nbsp;&nbsp;&nbsp;\n",
    ":------- | :------- | :--------\n",
    "`log10(`x`)`\t| Logarithm of x (base 10)\t| `log10(10.0) is 1.0`, `log10(100.0) is 2.0`\n",
    "`pow(`x, y`)`\t| x raised to power y (x<sup>y</sup>)\t| `pow(2.0, 7.0) is 128.0`, `pow(9.0, .5) is 3.0`\n",
    "`sqrt(`x`)`\t| square root of x\t| `sqrt(900.0) is 30.0`, `sqrt(9.0) is 3.0`\n",
    "`fabs(`x`)`\t| Absolute value of x—always returns a float. Python also has the built-in function `abs`, which returns an `int` or a `float`, based on its argument.\t| `fabs(5.1) is 5.1`, `fabs(-5.1) is 5.1` \n",
    "`fmod(`x, y`)`\t| Remainder of x/y as a floating-point number\t| `fmod(9.8, 4.0) is 1.8`\n",
    "`gcd(`x, y`)`\t| Greatest Common Divisor of x and y\t| `gcd(90, 120) is 30`"
   ]
  },
  {
   "cell_type": "code",
   "execution_count": 15,
   "metadata": {},
   "outputs": [],
   "source": [
    "import math #Like random library, we must import math to use the above functions"
   ]
  },
  {
   "cell_type": "code",
   "execution_count": 16,
   "metadata": {},
   "outputs": [
    {
     "name": "stdout",
     "output_type": "stream",
     "text": [
      "30.0\n"
     ]
    }
   ],
   "source": [
    "print(math.sqrt(900))"
   ]
  },
  {
   "cell_type": "code",
   "execution_count": 17,
   "metadata": {},
   "outputs": [
    {
     "name": "stdout",
     "output_type": "stream",
     "text": [
      "6\n"
     ]
    }
   ],
   "source": [
    "print(math.gcd(7554, 4224))"
   ]
  },
  {
   "cell_type": "code",
   "execution_count": 18,
   "metadata": {},
   "outputs": [
    {
     "name": "stdout",
     "output_type": "stream",
     "text": [
      "6.123233995736766e-17\n",
      "1.0\n"
     ]
    }
   ],
   "source": [
    "myangle = math.pi/2\n",
    "print(math.cos(myangle))\n",
    "print(math.sin(myangle))"
   ]
  },
  {
   "cell_type": "markdown",
   "metadata": {},
   "source": [
    "## Practice 3: Using Math in Functions\n",
    "A formula to determine the number of multiples of a given quantity within an interval is given as follows:\n",
    "\n",
    "$$ num\\_mult = floor(\\frac{1 + u - l}{k}) $$\n",
    "where u is the upper bound of the interval, l is the lower bound of the interval, and k is the multiple desired.\n",
    "<br>You are to write function num_mult(l, u, k), which will return the number of multiples of k within the interval from l up to u.\n",
    "<br>To verify your function is working correctly, test the following returns are correct:\n",
    "* num_mult(1, 10, 1) should yield 10\n",
    "* num_mult(1, 100, 2) should yield 50\n",
    "* num_mult(-100, 100, 5) should yield 40\n"
   ]
  },
  {
   "cell_type": "code",
   "execution_count": 24,
   "metadata": {},
   "outputs": [
    {
     "name": "stdout",
     "output_type": "stream",
     "text": [
      "10\n",
      "50\n",
      "40\n"
     ]
    }
   ],
   "source": [
    "def num_mult(lower, upper, divisor):\n",
    "    return math.floor((1 + upper - lower)/divisor)\n",
    "print(num_mult(1,10,1))\n",
    "print(num_mult(1,100,2))\n",
    "print(num_mult(-100,100,5))"
   ]
  },
  {
   "cell_type": "markdown",
   "metadata": {
    "slideshow": {
     "slide_type": "subslide"
    }
   },
   "source": [
    "#  Default Parameter Values\n",
    "* You can specify that a parameter has a **default parameter value**. \n",
    "* When calling the function, if you omit the argument for a parameter with a default parameter value, that value is automatically passed. \n",
    "* Specify a default parameter value by following a parameter’s name with an `=` and a value. \n",
    "* Any parameters with default parameter values must appear in the parameter list to the _right_ of parameters that do not have defaults. "
   ]
  },
  {
   "cell_type": "code",
   "execution_count": 25,
   "metadata": {
    "slideshow": {
     "slide_type": "subslide"
    }
   },
   "outputs": [],
   "source": [
    "def rectangle_area(length=2, width=3):\n",
    "    \"\"\"Return a rectangle's area.\"\"\"\n",
    "    return length * width"
   ]
  },
  {
   "cell_type": "code",
   "execution_count": 26,
   "metadata": {},
   "outputs": [
    {
     "name": "stdout",
     "output_type": "stream",
     "text": [
      "30\n"
     ]
    }
   ],
   "source": [
    "print(rectangle_area(5, 6))"
   ]
  },
  {
   "cell_type": "code",
   "execution_count": 27,
   "metadata": {},
   "outputs": [
    {
     "name": "stdout",
     "output_type": "stream",
     "text": [
      "30\n"
     ]
    }
   ],
   "source": [
    "print(rectangle_area(10))"
   ]
  },
  {
   "cell_type": "code",
   "execution_count": 31,
   "metadata": {},
   "outputs": [
    {
     "name": "stdout",
     "output_type": "stream",
     "text": [
      "6\n"
     ]
    }
   ],
   "source": [
    "print(rectangle_area()) #length and width not filled in so it defaults to 2 and 3"
   ]
  },
  {
   "cell_type": "code",
   "execution_count": 32,
   "metadata": {},
   "outputs": [
    {
     "name": "stdout",
     "output_type": "stream",
     "text": [
      "21\n"
     ]
    }
   ],
   "source": [
    "print(rectangle_area(7)) #width is acting as 3 while length is acting as 7"
   ]
  },
  {
   "cell_type": "markdown",
   "metadata": {
    "slideshow": {
     "slide_type": "subslide"
    }
   },
   "source": [
    "# Keyword Arguments\n",
    "* When calling functions, you can use **keyword arguments** to pass arguments in `any` order.\n",
    "* Each keyword _argument in a call_ has the form _parametername=value_. \n",
    "* Order of keyword arguments does not matter."
   ]
  },
  {
   "cell_type": "code",
   "execution_count": 33,
   "metadata": {},
   "outputs": [],
   "source": [
    "def rectangle_area(length, width):\n",
    "    print(f'The rectangle\\'s length is {length} and its width is {width}.')\n",
    "    return length * width"
   ]
  },
  {
   "cell_type": "code",
   "execution_count": 39,
   "metadata": {},
   "outputs": [
    {
     "name": "stdout",
     "output_type": "stream",
     "text": [
      "The rectangle's length is 10 and its width is 5.\n",
      "50\n",
      "The rectangle's length is 10 and its width is 5.\n",
      "50\n",
      "The rectangle's length is 10 and its width is 5.\n",
      "50\n"
     ]
    }
   ],
   "source": [
    "print(rectangle_area(10,5))\n",
    "print(rectangle_area(width=5, length=10))\n",
    "print(rectangle_area(length = 10, width=5))"
   ]
  },
  {
   "cell_type": "markdown",
   "metadata": {
    "slideshow": {
     "slide_type": "subslide"
    }
   },
   "source": [
    "# Dynamic Parameter Lists\n",
    "* Functions with **dynamic parameter lists**, such as built-in functions `min` and `max`, can receive _any_ number of arguments. \n",
    "* Function `min`'s documentation states that `min` has two _required_ parameters (named `arg1` and `arg2`) and an optional third parameter of the form **`*args`**, indicating that the function can receive any number of additional arguments. \n",
    "* The `*` before the parameter name tells Python to pack any remaining arguments into a tuple that’s passed to the `args` parameter."
   ]
  },
  {
   "cell_type": "code",
   "execution_count": 45,
   "metadata": {},
   "outputs": [
    {
     "name": "stdout",
     "output_type": "stream",
     "text": [
      "-3\n"
     ]
    }
   ],
   "source": [
    "print(min(3,5,2,2,1,0,7,-3))"
   ]
  },
  {
   "cell_type": "markdown",
   "metadata": {
    "slideshow": {
     "slide_type": "subslide"
    }
   },
   "source": [
    "### Defining a Function with a Dynamic Parameter List\n",
    "* `average` function that can receive any number of arguments."
   ]
  },
  {
   "cell_type": "code",
   "execution_count": 46,
   "metadata": {},
   "outputs": [],
   "source": [
    "def average(*args):\n",
    "    return sum(args) / len(args)"
   ]
  },
  {
   "cell_type": "code",
   "execution_count": 56,
   "metadata": {},
   "outputs": [
    {
     "name": "stdout",
     "output_type": "stream",
     "text": [
      "1.0\n",
      "5.0\n",
      "6.0\n"
     ]
    }
   ],
   "source": [
    "print(average(1))\n",
    "print(average(1,5,9))\n",
    "print(average(1,5,9,7,8))"
   ]
  },
  {
   "cell_type": "code",
   "execution_count": 57,
   "metadata": {},
   "outputs": [],
   "source": [
    "def simplesum(num1,num2,*args):\n",
    "    return num1 + num2 + sum(args) "
   ]
  },
  {
   "cell_type": "code",
   "execution_count": 59,
   "metadata": {},
   "outputs": [
    {
     "name": "stdout",
     "output_type": "stream",
     "text": [
      "19\n"
     ]
    }
   ],
   "source": [
    "print(simplesum(4,7,8))"
   ]
  },
  {
   "cell_type": "code",
   "execution_count": 60,
   "metadata": {},
   "outputs": [
    {
     "ename": "TypeError",
     "evalue": "simplesum() missing 1 required keyword-only argument: 'num2'",
     "output_type": "error",
     "traceback": [
      "\u001b[0;31m---------------------------------------------------------------------------\u001b[0m",
      "\u001b[0;31mTypeError\u001b[0m                                 Traceback (most recent call last)",
      "Cell \u001b[0;32mIn[60], line 3\u001b[0m\n\u001b[1;32m      1\u001b[0m \u001b[38;5;28;01mdef\u001b[39;00m \u001b[38;5;21msimplesum\u001b[39m(num1,\u001b[38;5;241m*\u001b[39margs,num2):\n\u001b[1;32m      2\u001b[0m     \u001b[38;5;28;01mreturn\u001b[39;00m num1 \u001b[38;5;241m+\u001b[39m num2 \u001b[38;5;241m+\u001b[39m \u001b[38;5;28msum\u001b[39m(args) \n\u001b[0;32m----> 3\u001b[0m \u001b[38;5;28mprint\u001b[39m(simplesum(\u001b[38;5;241m4\u001b[39m,\u001b[38;5;241m7\u001b[39m,\u001b[38;5;241m8\u001b[39m))\n",
      "\u001b[0;31mTypeError\u001b[0m: simplesum() missing 1 required keyword-only argument: 'num2'"
     ]
    }
   ],
   "source": [
    "def simplesum(num1,*args,num2): #Cant do num2 or any variable after *args\n",
    "    return num1 + num2 + sum(args) \n",
    "print(simplesum(4,7,8))"
   ]
  },
  {
   "cell_type": "markdown",
   "metadata": {},
   "source": [
    "### Important Notes on Dynamic Parameter Lists\n",
    "* The `*args` parameter must be the _rightmost_ parameter.\n",
    "* In similar vein, you **cannot** have multiple dynamic parameters."
   ]
  },
  {
   "cell_type": "markdown",
   "metadata": {
    "slideshow": {
     "slide_type": "slide"
    }
   },
   "source": [
    "# Methods: Functions That Belong to Objects\n",
    "* A **method** is simply a function that you call on an object \n",
    "* Also referred to as a class member function.\n",
    "```\n",
    "object_name.method_name(arguments)\n",
    "```\n",
    "* Many standard objects in Python have an assortment of useful methods.\n",
    "* We'll visit custom Python classes in more detail in a later session."
   ]
  },
  {
   "cell_type": "code",
   "execution_count": 1,
   "metadata": {
    "slideshow": {
     "slide_type": "slide"
    }
   },
   "outputs": [],
   "source": [
    "basestr = 'Hello1!'"
   ]
  },
  {
   "cell_type": "code",
   "execution_count": 3,
   "metadata": {},
   "outputs": [
    {
     "data": {
      "text/plain": [
       "['__add__',\n",
       " '__class__',\n",
       " '__contains__',\n",
       " '__delattr__',\n",
       " '__dir__',\n",
       " '__doc__',\n",
       " '__eq__',\n",
       " '__format__',\n",
       " '__ge__',\n",
       " '__getattribute__',\n",
       " '__getitem__',\n",
       " '__getnewargs__',\n",
       " '__getstate__',\n",
       " '__gt__',\n",
       " '__hash__',\n",
       " '__init__',\n",
       " '__init_subclass__',\n",
       " '__iter__',\n",
       " '__le__',\n",
       " '__len__',\n",
       " '__lt__',\n",
       " '__mod__',\n",
       " '__mul__',\n",
       " '__ne__',\n",
       " '__new__',\n",
       " '__reduce__',\n",
       " '__reduce_ex__',\n",
       " '__repr__',\n",
       " '__rmod__',\n",
       " '__rmul__',\n",
       " '__setattr__',\n",
       " '__sizeof__',\n",
       " '__str__',\n",
       " '__subclasshook__',\n",
       " 'capitalize',\n",
       " 'casefold',\n",
       " 'center',\n",
       " 'count',\n",
       " 'encode',\n",
       " 'endswith',\n",
       " 'expandtabs',\n",
       " 'find',\n",
       " 'format',\n",
       " 'format_map',\n",
       " 'index',\n",
       " 'isalnum',\n",
       " 'isalpha',\n",
       " 'isascii',\n",
       " 'isdecimal',\n",
       " 'isdigit',\n",
       " 'isidentifier',\n",
       " 'islower',\n",
       " 'isnumeric',\n",
       " 'isprintable',\n",
       " 'isspace',\n",
       " 'istitle',\n",
       " 'isupper',\n",
       " 'join',\n",
       " 'ljust',\n",
       " 'lower',\n",
       " 'lstrip',\n",
       " 'maketrans',\n",
       " 'partition',\n",
       " 'removeprefix',\n",
       " 'removesuffix',\n",
       " 'replace',\n",
       " 'rfind',\n",
       " 'rindex',\n",
       " 'rjust',\n",
       " 'rpartition',\n",
       " 'rsplit',\n",
       " 'rstrip',\n",
       " 'split',\n",
       " 'splitlines',\n",
       " 'startswith',\n",
       " 'strip',\n",
       " 'swapcase',\n",
       " 'title',\n",
       " 'translate',\n",
       " 'upper',\n",
       " 'zfill']"
      ]
     },
     "execution_count": 3,
     "metadata": {},
     "output_type": "execute_result"
    }
   ],
   "source": [
    "dir(' ')"
   ]
  },
  {
   "cell_type": "code",
   "execution_count": 2,
   "metadata": {},
   "outputs": [
    {
     "name": "stdout",
     "output_type": "stream",
     "text": [
      "hello1!\n",
      "HELLO1!\n"
     ]
    }
   ],
   "source": [
    "print(basestr.lower())  # Print lower-case version of basestr\n",
    "print(basestr.upper())  # Print upper-case version of basestr"
   ]
  },
  {
   "cell_type": "markdown",
   "metadata": {},
   "source": [
    "## A Few Methods We Haven't Looked At Yet For Standard Collections\n",
    "* The _list_ class has has method **count**, which lets us count the number of times a particular value occurs within a list.\n",
    "* The _string_ class has method **endswith**, which returns True if a string ends with the given argument\n",
    "* The _dictionary_ class has method **clear** which completely removes all keys and indices from the given dictionary"
   ]
  },
  {
   "cell_type": "code",
   "execution_count": 4,
   "metadata": {},
   "outputs": [
    {
     "name": "stdout",
     "output_type": "stream",
     "text": [
      "2 appears 4 times in mylist\n"
     ]
    }
   ],
   "source": [
    "mylist = [1, 1, 2, 1, 2, 3, 1, 2, 3, 4, 1, 2, 3, 4, 5]\n",
    "print(f'2 appears {mylist.count(2)} times in mylist')"
   ]
  },
  {
   "cell_type": "code",
   "execution_count": 7,
   "metadata": {},
   "outputs": [
    {
     "name": "stdout",
     "output_type": "stream",
     "text": [
      "True\n",
      "False\n",
      "True\n"
     ]
    }
   ],
   "source": [
    "print('selected'.endswith('ed'))\n",
    "print('selecting'.endswith('ed'))\n",
    "print('selected'.endswith('selected'))"
   ]
  },
  {
   "cell_type": "code",
   "execution_count": 6,
   "metadata": {},
   "outputs": [
    {
     "name": "stdout",
     "output_type": "stream",
     "text": [
      "{'Finland': 'fi', 'Greece': 'gr', 'United States': 'us'}\n",
      "{}\n"
     ]
    }
   ],
   "source": [
    "mydictionary = {'Finland':'fi','Greece':'gr','United States':'us'}\n",
    "print(mydictionary)\n",
    "mydictionary.clear()\n",
    "print(mydictionary)"
   ]
  },
  {
   "cell_type": "markdown",
   "metadata": {
    "slideshow": {
     "slide_type": "slide"
    }
   },
   "source": [
    "### Passing Lists and Tuples to Functions\n",
    "* As lists provide a collection of references, they can be easily modified when passed to functions.\n",
    "* Tuples are immutable, in their original scope or when passed in or outside a function."
   ]
  },
  {
   "cell_type": "code",
   "execution_count": 8,
   "metadata": {},
   "outputs": [],
   "source": [
    "def square_elements(items):\n",
    "    \"\"\"\"Raises all passed elements to the power of 2.\"\"\"\n",
    "    for i in range(len(items)):\n",
    "        items[i] = items[i]**2"
   ]
  },
  {
   "cell_type": "code",
   "execution_count": 9,
   "metadata": {},
   "outputs": [
    {
     "name": "stdout",
     "output_type": "stream",
     "text": [
      "[25, 9, 49, 1, 81]\n"
     ]
    }
   ],
   "source": [
    "numberlist = [5, 3, 7, 1, 9]\n",
    "square_elements(numberlist)\n",
    "print(numberlist)"
   ]
  },
  {
   "cell_type": "code",
   "execution_count": 10,
   "metadata": {},
   "outputs": [
    {
     "ename": "TypeError",
     "evalue": "'tuple' object does not support item assignment",
     "output_type": "error",
     "traceback": [
      "\u001b[0;31m---------------------------------------------------------------------------\u001b[0m",
      "\u001b[0;31mTypeError\u001b[0m                                 Traceback (most recent call last)",
      "Cell \u001b[0;32mIn[10], line 2\u001b[0m\n\u001b[1;32m      1\u001b[0m numbertuple \u001b[38;5;241m=\u001b[39m (\u001b[38;5;241m5\u001b[39m, \u001b[38;5;241m3\u001b[39m, \u001b[38;5;241m7\u001b[39m, \u001b[38;5;241m1\u001b[39m, \u001b[38;5;241m9\u001b[39m)\n\u001b[0;32m----> 2\u001b[0m square_elements(numbertuple)\n",
      "Cell \u001b[0;32mIn[8], line 4\u001b[0m, in \u001b[0;36msquare_elements\u001b[0;34m(items)\u001b[0m\n\u001b[1;32m      2\u001b[0m \u001b[38;5;250m\u001b[39m\u001b[38;5;124;03m\"\"\"\"Raises all passed elements to the power of 2.\"\"\"\u001b[39;00m\n\u001b[1;32m      3\u001b[0m \u001b[38;5;28;01mfor\u001b[39;00m i \u001b[38;5;129;01min\u001b[39;00m \u001b[38;5;28mrange\u001b[39m(\u001b[38;5;28mlen\u001b[39m(items)):\n\u001b[0;32m----> 4\u001b[0m     items[i] \u001b[38;5;241m=\u001b[39m items[i]\u001b[38;5;241m*\u001b[39m\u001b[38;5;241m*\u001b[39m\u001b[38;5;241m2\u001b[39m\n",
      "\u001b[0;31mTypeError\u001b[0m: 'tuple' object does not support item assignment"
     ]
    }
   ],
   "source": [
    "numbertuple = (5, 3, 7, 1, 9)\n",
    "square_elements(numbertuple)"
   ]
  },
  {
   "cell_type": "markdown",
   "metadata": {
    "slideshow": {
     "slide_type": "slide"
    }
   },
   "source": [
    "### Returning multiple output arguments as Tuples\n",
    "* Technically speaking, only a single output can be returned from functions in Python\n",
    "* However, it is possible to return _collections_ from functions in Python\n",
    "* The traditional way to return multiple arguements is via a tuple"
   ]
  },
  {
   "cell_type": "code",
   "execution_count": 11,
   "metadata": {},
   "outputs": [],
   "source": [
    "def square_and_cube(x):\n",
    "    return x**2, x**3"
   ]
  },
  {
   "cell_type": "code",
   "execution_count": 12,
   "metadata": {},
   "outputs": [
    {
     "name": "stdout",
     "output_type": "stream",
     "text": [
      "(25, 125)\n"
     ]
    }
   ],
   "source": [
    "print(square_and_cube(5))"
   ]
  },
  {
   "cell_type": "markdown",
   "metadata": {},
   "source": [
    "## Practice 4: Strings and Descriptors\n",
    "Common tasks used in data analysis and machine learning rely on **data descriptors**, which provide summary information about content.\n",
    "For this problem, you are to create function string_desc, which takes as input a string, and returns as output a tuple with the following details:\n",
    "1. The length of the string\n",
    "2. The number of times the letter 'e' occurs within the string\n",
    "3. The number of space characters (specifically ' ') within the string\n",
    "4. The number of words with four characters in the string "
   ]
  },
  {
   "cell_type": "code",
   "execution_count": 26,
   "metadata": {},
   "outputs": [
    {
     "name": "stdout",
     "output_type": "stream",
     "text": [
      "(39, 5, 7, 1)\n"
     ]
    }
   ],
   "source": [
    "def string_desc(prstr):\n",
    "    fourwordcount = 0\n",
    "    mywords = prstr.split()\n",
    "    for word in mywords:\n",
    "        if len(word) == 4:\n",
    "            fourwordcount = fourwordcount + 1\n",
    "    return len(prstr), prstr.count('e'), prstr.count(' '),fourwordcount\n",
    "\n",
    "print(string_desc('I enjoy playing soccer in my free time.'))"
   ]
  },
  {
   "cell_type": "markdown",
   "metadata": {
    "slideshow": {
     "slide_type": "slide"
    }
   },
   "source": [
    "# Python and Statistics\n",
    "* We have previously seen multiple ways of computing the **statistical mean** (aka \"average\") of populations.  \n",
    "* However, there are many other ways to evaluate how values are distributed within a target group of interest (aka **population**).\n",
    "* Here we discuss using the `statistics` library in Python, which helps us summarize or otherwise analyze collections of numeric data.\n"
   ]
  },
  {
   "cell_type": "markdown",
   "metadata": {},
   "source": [
    "## Measures of Central Tendency—Mean, Median and Mode \n",
    "* **Measures of central tendency**:\n",
    "    * **mean**—the _average value_ in a set of values. \n",
    "    * **median**—the _middle value_ when all the values are arranged in sorted order.\n",
    "    * **mode**—the _most frequently occurring value_.\n",
    "* Each represents a “central” value in a set of values.\n",
    "    * A value which is in some sense typical of the others."
   ]
  },
  {
   "cell_type": "code",
   "execution_count": 36,
   "metadata": {},
   "outputs": [],
   "source": [
    "grades = [85, 93, 45, 89, 85, 85, 91, 93, 87]"
   ]
  },
  {
   "cell_type": "code",
   "execution_count": 37,
   "metadata": {},
   "outputs": [
    {
     "name": "stdout",
     "output_type": "stream",
     "text": [
      "83.66666666666667\n"
     ]
    }
   ],
   "source": [
    "#We can already find the mean by taking the sum and dividing by the length\n",
    "print(sum(grades) / len(grades))"
   ]
  },
  {
   "cell_type": "markdown",
   "metadata": {},
   "source": [
    "* As hinted at above, we can use the `statistics` library for additional measures (in particular, median and mode)"
   ]
  },
  {
   "cell_type": "code",
   "execution_count": 29,
   "metadata": {},
   "outputs": [],
   "source": [
    "import statistics"
   ]
  },
  {
   "cell_type": "code",
   "execution_count": 38,
   "metadata": {},
   "outputs": [
    {
     "name": "stdout",
     "output_type": "stream",
     "text": [
      "[85, 93, 45, 89, 85, 85, 91, 93, 87]\n"
     ]
    }
   ],
   "source": [
    "print(grades)"
   ]
  },
  {
   "cell_type": "code",
   "execution_count": 39,
   "metadata": {},
   "outputs": [
    {
     "name": "stdout",
     "output_type": "stream",
     "text": [
      "83.66666666666667\n"
     ]
    }
   ],
   "source": [
    "# We can compute the average using the function mean\n",
    "print(statistics.mean(grades))"
   ]
  },
  {
   "cell_type": "code",
   "execution_count": 40,
   "metadata": {},
   "outputs": [
    {
     "name": "stdout",
     "output_type": "stream",
     "text": [
      "87\n",
      "85\n"
     ]
    }
   ],
   "source": [
    "# But we can also compute the median or mode\n",
    "print(statistics.median(grades))\n",
    "print(statistics.mode(grades))"
   ]
  },
  {
   "cell_type": "code",
   "execution_count": 41,
   "metadata": {},
   "outputs": [
    {
     "name": "stdout",
     "output_type": "stream",
     "text": [
      "[45, 85, 85, 85, 87, 89, 91, 93, 93]\n"
     ]
    }
   ],
   "source": [
    "#We can easily verify median and mode were computed correctly by sorting grades\n",
    "print(sorted(grades))"
   ]
  },
  {
   "cell_type": "markdown",
   "metadata": {
    "slideshow": {
     "slide_type": "subslide"
    }
   },
   "source": [
    "## Measures of Dispersion\n",
    "* Beyond mean, median, and mode, **measures of dispersion** (also called **measures of variability**) can help us analyze how **spread out** a set of values are in practice.\n",
    "* We’ll calculate each measure of dispersion both by hand and with functions from the Python library `statistics`, using the following population of 10 six-sided die rolls:\n",
    "> 1, 3, 4, 2, 6, 5, 3, 4, 5, 2"
   ]
  },
  {
   "cell_type": "code",
   "execution_count": 42,
   "metadata": {},
   "outputs": [
    {
     "name": "stdout",
     "output_type": "stream",
     "text": [
      "3.5\n"
     ]
    }
   ],
   "source": [
    "die_rolls = [1, 3, 4, 2, 6, 5, 3, 4, 5, 2]\n",
    "print(statistics.mean(die_rolls))"
   ]
  },
  {
   "cell_type": "markdown",
   "metadata": {
    "slideshow": {
     "slide_type": "subslide"
    }
   },
   "source": [
    "### Variance\n",
    "* To determine variance, begin with the mean of the values (3.5). \n",
    "* Next, subtract the mean from every die value:\n",
    "> -2.5, -0.5, 0.5, -1.5, 2.5, 1.5, -0.5, 0.5, 1.5, -1.5\n",
    "* Then, square each of these results (yielding only positives):\n",
    "> 6.25, 0.25, 0.25, 2.25, 6.25, 2.25, 0.25, 0.25, 2.25, 2.25\n",
    "* Finally, calculate the mean of these squares, which is 2.25 (22.5 / 10)—this is the **population\n",
    "variance**. "
   ]
  },
  {
   "cell_type": "markdown",
   "metadata": {
    "slideshow": {
     "slide_type": "subslide"
    }
   },
   "source": [
    "### Computation Considerations\n",
    "* Squaring the difference between each die value and the mean of all die values heavily emphasizes **outliers**—the values that are farthest from the mean.\n",
    "* Outliers are an important factor in many data analysis applications.\n",
    "* We can use the `statistics` module’s `pvariance` function to compute the variance.\n",
    "* If we want to _deemphasize_ outliers we can use an alternative measure of dispersion.\n"
   ]
  },
  {
   "cell_type": "code",
   "execution_count": 43,
   "metadata": {
    "slideshow": {
     "slide_type": "subslide"
    }
   },
   "outputs": [
    {
     "name": "stdout",
     "output_type": "stream",
     "text": [
      "2.25\n"
     ]
    }
   ],
   "source": [
    "import statistics\n",
    "print(statistics.pvariance([1, 3, 4, 2, 6, 5, 3, 4, 5, 2]))"
   ]
  },
  {
   "cell_type": "markdown",
   "metadata": {
    "slideshow": {
     "slide_type": "subslide"
    }
   },
   "source": [
    "### Standard Deviation\n",
    "* The standard deviation is the square root of the variance (in this case, 1.5).\n",
    "* The smaller the variance and standard deviation are, the closer the data values are to the mean and the less overall dispersion (that is, spread) there is between the values and the mean. \n",
    "* The `statistics` library function `pstdev` function can be used to compute the standard deviation."
   ]
  },
  {
   "cell_type": "code",
   "execution_count": 44,
   "metadata": {
    "slideshow": {
     "slide_type": "-"
    }
   },
   "outputs": [
    {
     "name": "stdout",
     "output_type": "stream",
     "text": [
      "1.5\n",
      "1.5\n"
     ]
    }
   ],
   "source": [
    "import math\n",
    "print(math.sqrt(statistics.pvariance([1, 3, 4, 2, 6, 5, 3, 4, 5, 2])))\n",
    "print(statistics.pstdev([1, 3, 4, 2, 6, 5, 3, 4, 5, 2]))"
   ]
  },
  {
   "cell_type": "markdown",
   "metadata": {
    "slideshow": {
     "slide_type": "subslide"
    }
   },
   "source": [
    "### Advantage of Population Standard Deviation vs. Population Variance\n",
    "* Suppose you’ve recorded the March Fahrenheit temperatures in your area. \n",
    "* You might have 31 numbers such as 19, 32, 28 and 35. \n",
    "* The units for these numbers are degrees.\n",
    "* When you square your temperatures to calculate the population variance, the units of the population variance become **“degrees squared.”**\n",
    "* When you take the square root of the population variance to calculate the population standard deviation, the units once again become **degrees**, which are line with your base measurements."
   ]
  },
  {
   "cell_type": "markdown",
   "metadata": {
    "slideshow": {
     "slide_type": "subslide"
    }
   },
   "source": [
    "### Other Measures of Dispersion\n",
    "* As mentioned previously, population variance and standard deviation heavily favor _outliers_ in their calculation.\n",
    "* For example, assume a population has most numbers closely centered around 100, but one value near 200.  That one value plays an _overwhelming_ role in your calculation\n",
    "* For that reason, an alternative measure of dispersion is often preferred.\n",
    "* One such measure is the **median absolute deviation**, which simply takes the sum of absolute distances from the median, and divides it by the number of values."
   ]
  },
  {
   "cell_type": "code",
   "execution_count": 45,
   "metadata": {},
   "outputs": [],
   "source": [
    "def mad(dlist): #Function to compute median absolute deviation\n",
    "    msum=0\n",
    "    mu=statistics.median(dlist)\n",
    "    for ditem in dlist:\n",
    "        msum+=abs(ditem-mu)\n",
    "    return msum/len(dlist)"
   ]
  },
  {
   "cell_type": "code",
   "execution_count": 46,
   "metadata": {},
   "outputs": [
    {
     "name": "stdout",
     "output_type": "stream",
     "text": [
      "30.261526729495987\n"
     ]
    }
   ],
   "source": [
    "print(statistics.pstdev([100, 105, 107, 98, 101, 102, 103, 200, 95, 91]))"
   ]
  },
  {
   "cell_type": "code",
   "execution_count": 47,
   "metadata": {},
   "outputs": [
    {
     "name": "stdout",
     "output_type": "stream",
     "text": [
      "13.2\n"
     ]
    }
   ],
   "source": [
    "print(mad([100, 105, 107, 98, 101, 102, 103, 200, 95, 91]))"
   ]
  }
 ],
 "metadata": {
  "celltoolbar": "Slideshow",
  "kernelspec": {
   "display_name": "Python 3 (ipykernel)",
   "language": "python",
   "name": "python3"
  },
  "language_info": {
   "codemirror_mode": {
    "name": "ipython",
    "version": 3
   },
   "file_extension": ".py",
   "mimetype": "text/x-python",
   "name": "python",
   "nbconvert_exporter": "python",
   "pygments_lexer": "ipython3",
   "version": "3.12.7"
  }
 },
 "nbformat": 4,
 "nbformat_minor": 4
}
