{
 "cells": [
  {
   "cell_type": "markdown",
   "id": "5b37d2dc-2fa8-40fb-893d-e682ed004923",
   "metadata": {},
   "source": [
    "# Programming Assignment 4 - Matthew Virgin\n",
    "## CS-150 Spring 2025"
   ]
  },
  {
   "cell_type": "markdown",
   "id": "7ff00cef-bb9e-4441-b06e-38fb2a1bb7f7",
   "metadata": {},
   "source": [
    "### Task 1: Input Positive Integer and Factors"
   ]
  },
  {
   "cell_type": "markdown",
   "id": "54c82163-31b8-4b38-938d-c83fcf3d1e38",
   "metadata": {},
   "source": [
    "#### Let a user input a positive integer. You are to then print all positive integers that are a factor of the input number."
   ]
  },
  {
   "cell_type": "code",
   "execution_count": 8,
   "id": "5c427923-5015-4dce-b04e-1f28c1080423",
   "metadata": {},
   "outputs": [
    {
     "name": "stdin",
     "output_type": "stream",
     "text": [
      "Please input a positive integer:  9\n"
     ]
    },
    {
     "name": "stdout",
     "output_type": "stream",
     "text": [
      "Factors of 9:\n",
      "1 is a factor of 9\n",
      "3 is a factor of 9\n",
      "9 is a factor of 9\n"
     ]
    }
   ],
   "source": [
    "userinput = int(input('Please input a positive integer: '))\n",
    "if userinput <= 0:\n",
    "    print('You did not enter a positive integer.')\n",
    "else:\n",
    "    print('Factors of ' + str(userinput) +':')\n",
    "    for i in range(1, userinput + 1):\n",
    "        if userinput % i == 0:\n",
    "            print(str(i) + ' is a factor of ' + str(userinput))"
   ]
  },
  {
   "cell_type": "markdown",
   "id": "1bae1f5d-d609-4986-9682-ff35d6f0ce29",
   "metadata": {},
   "source": [
    "#### Let a user input a positive integer. You are to then determine whether or not the number is prime and print a corresponding response to the user."
   ]
  },
  {
   "cell_type": "code",
   "execution_count": 22,
   "id": "dddc7108-9ef4-420f-9fad-d7ab7035cd65",
   "metadata": {},
   "outputs": [
    {
     "name": "stdin",
     "output_type": "stream",
     "text": [
      "Please input a positive integer:  89\n"
     ]
    },
    {
     "name": "stdout",
     "output_type": "stream",
     "text": [
      "Your number is prime.\n"
     ]
    }
   ],
   "source": [
    "userinput = int(input('Please input a positive integer: '))\n",
    "if userinput <= 0:\n",
    "    print('You did not enter a positive integer.')\n",
    "    \n",
    "is_prime = True\n",
    "if userinput <= 1:\n",
    "    is_prime = False\n",
    "else:\n",
    "    for i in range(2, int(userinput**0.5) + 1):\n",
    "        if userinput % i == 0:\n",
    "            is_prime = False\n",
    "            break\n",
    "\n",
    "if is_prime:\n",
    "    print(\"Your number is prime.\")\n",
    "else:\n",
    "    print(\"Your number is not prime.\")"
   ]
  },
  {
   "cell_type": "markdown",
   "id": "c33f7efa-cd8e-4b92-accd-fe0a2fc2432b",
   "metadata": {},
   "source": [
    "### Task 2: Language Translator"
   ]
  },
  {
   "cell_type": "markdown",
   "id": "a15877cf-9470-48d7-a183-59fc79a6e241",
   "metadata": {},
   "source": [
    "#### Write a program that implements a translation dictionary using a Python dictionary that maps 10 English words to 10 words in another language (e.g. Spanish, German, Farsi,Arabic, Japanese, etc.) of your choosing."
   ]
  },
  {
   "cell_type": "code",
   "execution_count": 6,
   "id": "59e858aa-8943-42a0-adb9-65b1ffd6962b",
   "metadata": {},
   "outputs": [
    {
     "name": "stdin",
     "output_type": "stream",
     "text": [
      "Please input a word to translate from Emglish to Spanish (hit enter to stop):  chair\n"
     ]
    },
    {
     "name": "stdout",
     "output_type": "stream",
     "text": [
      "The spanish word for chair is silla\n"
     ]
    },
    {
     "name": "stdin",
     "output_type": "stream",
     "text": [
      "Please input a word to translate from Emglish to Spanish (hit enter to stop):  cat\n"
     ]
    },
    {
     "name": "stdout",
     "output_type": "stream",
     "text": [
      "The spanish word for cat is gato\n"
     ]
    },
    {
     "name": "stdin",
     "output_type": "stream",
     "text": [
      "Please input a word to translate from Emglish to Spanish (hit enter to stop):  sun\n"
     ]
    },
    {
     "name": "stdout",
     "output_type": "stream",
     "text": [
      "The spanish word for sun is sol\n"
     ]
    },
    {
     "name": "stdin",
     "output_type": "stream",
     "text": [
      "Please input a word to translate from Emglish to Spanish (hit enter to stop):  hello\n"
     ]
    },
    {
     "name": "stdout",
     "output_type": "stream",
     "text": [
      "The spanish word for hello is not in this dictionary.\n"
     ]
    },
    {
     "name": "stdin",
     "output_type": "stream",
     "text": [
      "Please input a word to translate from Emglish to Spanish (hit enter to stop):  \n"
     ]
    }
   ],
   "source": [
    "translation_dict = {'chair':'silla', 'cat' : 'gato', 'sorrow' : 'tristeza', 'book' : 'libro', 'dog' : 'perro', 'food' : 'comida',\n",
    "'house' : 'casa', 'water' : 'agua', 'sun' : 'sol', 'moon' : 'luna' }\n",
    "\n",
    "while True:\n",
    "    word = input('Please input a word to translate from Emglish to Spanish (hit enter to stop): ')\n",
    "    if word == '':\n",
    "        break\n",
    "    elif word in translation_dict:\n",
    "        print(f'The spanish word for {word} is {translation_dict[word]}')\n",
    "    else:\n",
    "        print(f'The spanish word for {word} is not in this dictionary.')"
   ]
  },
  {
   "cell_type": "markdown",
   "id": "441f8302-efe7-4948-983a-f73caa3c0f38",
   "metadata": {},
   "source": [
    "### Task 3: Employee/Position Dictionary"
   ]
  },
  {
   "cell_type": "markdown",
   "id": "73e2ea35-da1b-4fd5-b408-5735f90ffc2c",
   "metadata": {},
   "source": [
    "#### For this exercise you are to first ask a user to input seven matching pairs of employee names and employment positions (ex: ‘Andrew Karem’ could be an ‘Assistant Professor’). These pairs should be used to create a dictionary wherein each name is a key, and each position is a value corresponding to the position held by the individual. \n",
    "#### After inputting all seven pairs, you are to provide a continuous menu prompt that permits the user to interact with the dictionary in the following ways:"
   ]
  },
  {
   "cell_type": "markdown",
   "id": "0b64f7f6-2153-4ca0-877e-16d57c4eadfb",
   "metadata": {},
   "source": [
    "#### Step 1: Input Employee Data"
   ]
  },
  {
   "cell_type": "code",
   "execution_count": 8,
   "id": "d84d3b77-3ae9-4b60-959e-540df0258f54",
   "metadata": {},
   "outputs": [
    {
     "name": "stdin",
     "output_type": "stream",
     "text": [
      "Enter employee name:  Matthew Virgin\n",
      "Enter position for Matthew Virgin:  Student\n",
      "Enter employee name:  Mark Smith\n",
      "Enter position for Mark Smith:  Student\n",
      "Enter employee name:  Lucas Smith\n",
      "Enter position for Lucas Smith:  Student\n",
      "Enter employee name:  Bob Vance\n",
      "Enter position for Bob Vance:  Janitor\n",
      "Enter employee name:  Jimmy Ferguson\n",
      "Enter position for Jimmy Ferguson:  Teacher\n",
      "Enter employee name:  Lisa Simpson\n",
      "Enter position for Lisa Simpson:  Principal\n",
      "Enter employee name:  Luke Skywalker\n",
      "Enter position for Luke Skywalker:  Janitor\n"
     ]
    }
   ],
   "source": [
    "employees = {}\n",
    "for x in range(7):\n",
    "    name = input('Enter employee name: ')\n",
    "    position = input(f'Enter position for {name}: ')\n",
    "    employees[name] = position"
   ]
  },
  {
   "cell_type": "markdown",
   "id": "000cafc7-3365-4e97-b808-50e7985d5e33",
   "metadata": {},
   "source": [
    "#### Step 2: Menu System for Dictionary Operations"
   ]
  },
  {
   "cell_type": "code",
   "execution_count": 12,
   "id": "2edaaf4d-2891-465e-803b-dc644afaf898",
   "metadata": {},
   "outputs": [
    {
     "name": "stdout",
     "output_type": "stream",
     "text": [
      "1. Find a named employee's title\n",
      "2. Find all employees with given title\n",
      "3. Quit\n"
     ]
    },
    {
     "name": "stdin",
     "output_type": "stream",
     "text": [
      "Choose an option from above:  2\n",
      "Please input the title being searched for:  Janitor\n"
     ]
    },
    {
     "name": "stdout",
     "output_type": "stream",
     "text": [
      "The following employee(s) have the provided title: ['Bob Vance', 'Luke Skywalker']\n",
      "1. Find a named employee's title\n",
      "2. Find all employees with given title\n",
      "3. Quit\n"
     ]
    },
    {
     "name": "stdin",
     "output_type": "stream",
     "text": [
      "Choose an option from above:  1\n",
      "Enter the employee’s name:  Lisa Simpson\n"
     ]
    },
    {
     "name": "stdout",
     "output_type": "stream",
     "text": [
      "That employee has the position of \"Principal\".\n",
      "1. Find a named employee's title\n",
      "2. Find all employees with given title\n",
      "3. Quit\n"
     ]
    },
    {
     "name": "stdin",
     "output_type": "stream",
     "text": [
      "Choose an option from above:  1\n",
      "Enter the employee’s name:  John Clark\n"
     ]
    },
    {
     "name": "stdout",
     "output_type": "stream",
     "text": [
      "No one by that name is present.\n",
      "1. Find a named employee's title\n",
      "2. Find all employees with given title\n",
      "3. Quit\n"
     ]
    },
    {
     "name": "stdin",
     "output_type": "stream",
     "text": [
      "Choose an option from above:  2\n",
      "Please input the title being searched for:  Lunch Lady\n"
     ]
    },
    {
     "name": "stdout",
     "output_type": "stream",
     "text": [
      "No employees have this title.\n",
      "1. Find a named employee's title\n",
      "2. Find all employees with given title\n",
      "3. Quit\n"
     ]
    },
    {
     "name": "stdin",
     "output_type": "stream",
     "text": [
      "Choose an option from above:  3\n"
     ]
    },
    {
     "name": "stdout",
     "output_type": "stream",
     "text": [
      "Exiting program...\n"
     ]
    }
   ],
   "source": [
    "while True:\n",
    "    print('1. Find a named employee\\'s title')\n",
    "    print('2. Find all employees with given title')\n",
    "    print('3. Quit')\n",
    "    choice = input('Choose an option from above: ')\n",
    "\n",
    "    if choice == '1':\n",
    "        name = input('Enter the employee’s name: ')\n",
    "        if name in employees:\n",
    "            print(f'That employee has the position of \\\"{employees[name]}\\\".')\n",
    "        else:\n",
    "            print('No one by that name is present.')\n",
    "\n",
    "    elif choice == '2':\n",
    "        title = input('Please input the title being searched for: ')\n",
    "        matching_employees = [name for name, pos in employees.items() if pos == title]\n",
    "        if matching_employees:\n",
    "            print(f'The following employee(s) have the provided title: {matching_employees}')\n",
    "        else:\n",
    "            print('No employees have this title.')\n",
    "\n",
    "    elif choice == '3':\n",
    "        print('Exiting program...')\n",
    "        break\n",
    "\n",
    "    else:\n",
    "        print('Invalid choice. Please enter 1, 2, or 3.')"
   ]
  }
 ],
 "metadata": {
  "kernelspec": {
   "display_name": "Python 3 (ipykernel)",
   "language": "python",
   "name": "python3"
  },
  "language_info": {
   "codemirror_mode": {
    "name": "ipython",
    "version": 3
   },
   "file_extension": ".py",
   "mimetype": "text/x-python",
   "name": "python",
   "nbconvert_exporter": "python",
   "pygments_lexer": "ipython3",
   "version": "3.12.7"
  }
 },
 "nbformat": 4,
 "nbformat_minor": 5
}
