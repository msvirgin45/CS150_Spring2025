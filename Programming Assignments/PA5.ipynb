{
 "cells": [
  {
   "cell_type": "markdown",
   "id": "c3a21983-99cf-46a9-b601-49a9ed4249f5",
   "metadata": {},
   "source": [
    "# Programming Assignment 5 - Matthew Virgin\n",
    "## CS-150 Spring 2025"
   ]
  },
  {
   "cell_type": "markdown",
   "id": "72fd5143-bf1a-4c6f-9b4b-42ff3a51c14e",
   "metadata": {},
   "source": [
    "### Task 1: Building Facilities and Sets (15 pts)"
   ]
  },
  {
   "cell_type": "markdown",
   "id": "33406b5c-3b84-4700-a823-5c2c468c9d56",
   "metadata": {},
   "source": [
    "#### A. Suppose an organization keeps track of its buildings and the facilities\n",
    "#### B. Repeat the process to let the user input a series of facilities for a second building, and store these in a set called b2facilities."
   ]
  },
  {
   "cell_type": "code",
   "execution_count": 7,
   "id": "f9004247-9f5f-4166-9dfe-db46ddeacfeb",
   "metadata": {},
   "outputs": [
    {
     "name": "stdin",
     "output_type": "stream",
     "text": [
      "Please input a facility for the first building (\"Done\" to stop) Office\n",
      "Please input a facility for the first building (\"Done\" to stop) Bathroom\n",
      "Please input a facility for the first building (\"Done\" to stop) Conference Room\n",
      "Please input a facility for the first building (\"Done\" to stop) done\n",
      "Please input a facility for the second building (\"Done\" to stop) Laboratory\n",
      "Please input a facility for the second building (\"Done\" to stop) Bathroom\n",
      "Please input a facility for the second building (\"Done\" to stop) done\n"
     ]
    }
   ],
   "source": [
    "b1facilities = set()\n",
    "while True:\n",
    "    facility1 = input('Please input a facility for the first building (\"Done\" to stop)')\n",
    "    if facility1.strip().lower() == 'done':\n",
    "        break\n",
    "    b1facilities.add(facility1)\n",
    "\n",
    "b2facilities = set()\n",
    "while True:\n",
    "    facility2 = input('Please input a facility for the second building (\"Done\" to stop)')\n",
    "    if facility2.strip().lower() == 'done':\n",
    "        break\n",
    "    b2facilities.add(facility2)"
   ]
  },
  {
   "cell_type": "markdown",
   "id": "b4e925c5-43fa-4823-9686-bed31bc362a5",
   "metadata": {},
   "source": [
    "#### C. Print both sets"
   ]
  },
  {
   "cell_type": "code",
   "execution_count": 8,
   "id": "90be8465-8ba1-416f-b0ed-e424975231ad",
   "metadata": {},
   "outputs": [
    {
     "name": "stdout",
     "output_type": "stream",
     "text": [
      "Facilities in Building 1: {'Conference Room', 'Bathroom', 'Office'}\n",
      "Facilities in Building 2: {'Laboratory', 'Bathroom'}\n"
     ]
    }
   ],
   "source": [
    "print(\"Facilities in Building 1:\", b1facilities)\n",
    "print(\"Facilities in Building 2:\", b2facilities)"
   ]
  },
  {
   "cell_type": "markdown",
   "id": "84c971a0-48f7-4aa9-9e71-b513f226cada",
   "metadata": {},
   "source": [
    "#### D. Print the series of facilities present in both buildings (b1facilities and b2facilities)"
   ]
  },
  {
   "cell_type": "code",
   "execution_count": 13,
   "id": "b8cf1df6-8052-46bf-a3c1-b9019edaed75",
   "metadata": {},
   "outputs": [
    {
     "name": "stdout",
     "output_type": "stream",
     "text": [
      "Facilities in both buildings: {'Bathroom'}\n"
     ]
    }
   ],
   "source": [
    "print(\"Facilities in both buildings:\", b1facilities.intersection(b2facilities))"
   ]
  },
  {
   "cell_type": "markdown",
   "id": "14987049-4faa-4530-bf11-d7f619757afb",
   "metadata": {},
   "source": [
    "#### E. Print the series of facilities present in at least one building (b1facilities or b2facilities)"
   ]
  },
  {
   "cell_type": "code",
   "execution_count": 17,
   "id": "152f669d-5a15-4a13-ab39-a6d9ce009b83",
   "metadata": {},
   "outputs": [
    {
     "name": "stdout",
     "output_type": "stream",
     "text": [
      "Facilities in at least one building: {'Conference Room', 'Laboratory', 'Bathroom', 'Office'}\n"
     ]
    }
   ],
   "source": [
    "print(\"Facilities in at least one building:\", b1facilities.union(b2facilities))"
   ]
  },
  {
   "cell_type": "markdown",
   "id": "98fa3097-6528-4974-a911-0b726a5887e0",
   "metadata": {},
   "source": [
    "### Task 2: Triangle Calculations (15 pts)"
   ]
  },
  {
   "cell_type": "markdown",
   "id": "8ff7d9cf-0ce2-442c-9b69-ac59d0c66d32",
   "metadata": {},
   "source": [
    "#### Write a function triangle_solve(leg1, leg2) that takes as input the length of two legs of a right triangle. Based on this information, you should be able to compute the triangle’s hypotenuse length, perimeter, and area. "
   ]
  },
  {
   "cell_type": "code",
   "execution_count": 30,
   "id": "ebc57d28-3095-4b9d-aaab-9bf0d7b4724c",
   "metadata": {},
   "outputs": [
    {
     "name": "stdin",
     "output_type": "stream",
     "text": [
      "Please input the length of the side of a right triangle: 3\n",
      "Please input the length of the side of a right triangle: 4\n"
     ]
    },
    {
     "name": "stdout",
     "output_type": "stream",
     "text": [
      "Hypotenuse: 5.0\n",
      "Perimeter: 12.0\n",
      "Area: 60.0\n"
     ]
    }
   ],
   "source": [
    "def triangle_solve(leg1, leg2):\n",
    "    hypotenuse = (leg1 ** 2 + leg2 ** 2) ** 0.5\n",
    "    perimeter = leg1 + leg2 + hypotenuse\n",
    "    area = leg1 * leg2 * hypotenuse\n",
    "    return (hypotenuse, perimeter, area)\n",
    "\n",
    "leg1 = float(input('Please input the length of the side of a right triangle:'))\n",
    "leg2 = float(input('Please input the length of the side of a right triangle:'))\n",
    "\n",
    "hypotenuse, perimeter, area = triangle_solve(leg1, leg2)\n",
    "\n",
    "print(f\"Hypotenuse: {hypotenuse}\")\n",
    "print(f\"Perimeter: {perimeter}\")\n",
    "print(f\"Area: {area}\")"
   ]
  },
  {
   "cell_type": "code",
   "execution_count": 33,
   "id": "a4d118f5-6e7b-4a65-953c-7333a346c0f1",
   "metadata": {},
   "outputs": [
    {
     "name": "stdout",
     "output_type": "stream",
     "text": [
      "(5.0, 12.0, 60.0)\n"
     ]
    }
   ],
   "source": [
    "#OR\n",
    "\n",
    "def triangle_solve(leg1, leg2):\n",
    "    hypotenuse = (leg1 ** 2 + leg2 ** 2) ** 0.5\n",
    "    perimeter = leg1 + leg2 + hypotenuse\n",
    "    area = leg1 * leg2 * hypotenuse\n",
    "    return (hypotenuse, perimeter, area)\n",
    "\n",
    "print(triangle_solve(3,4))"
   ]
  },
  {
   "cell_type": "markdown",
   "id": "633033d8-5271-4622-a917-21d30f20385c",
   "metadata": {},
   "source": [
    "### Task 3: Calculator Class (20 pts)"
   ]
  },
  {
   "cell_type": "code",
   "execution_count": 38,
   "id": "d6f79f83-2251-4e8c-b2c2-433a685ff884",
   "metadata": {},
   "outputs": [],
   "source": [
    "class Calculator:\n",
    "    def __init__(self):\n",
    "        self.result_recent = None\n",
    "        self.total_calculations = 0\n",
    "\n",
    "    def add(self, a, b):\n",
    "        self.result_recent = a + b\n",
    "        self.total_calculations += 1\n",
    "        return self.result_recent\n",
    "\n",
    "    def subtract(self, a, b):\n",
    "        self.result_recent = a - b\n",
    "        self.total_calculations += 1\n",
    "        return self.result_recent\n",
    "\n",
    "    def multiply(self, a, b):\n",
    "        self.result_recent = a * b\n",
    "        self.total_calculations += 1\n",
    "        return self.result_recent\n",
    "\n",
    "    def divide(self, a, b):\n",
    "        if b == 0:\n",
    "            raise ValueError(\"Cannot divide by zero.\")\n",
    "        self.result_recent = a / b\n",
    "        self.total_calculations += 1\n",
    "        return self.result_recent\n",
    "\n",
    "    def floor_divide(self, a, b):\n",
    "        if b == 0:\n",
    "            raise ValueError(\"Cannot floor divide by zero.\")\n",
    "        self.result_recent = a // b\n",
    "        self.total_calculations += 1\n",
    "        return self.result_recent\n",
    "\n",
    "    def status(self):\n",
    "        print(f\"Most recent result: {self.result_recent}\")\n",
    "        print(f\"Total calculations: {self.total_calculations}\")"
   ]
  },
  {
   "cell_type": "markdown",
   "id": "f180f87f-f136-451f-9710-1c3937ad31fb",
   "metadata": {},
   "source": [
    "#### Test: Using Faviorite numbers in Calculator"
   ]
  },
  {
   "cell_type": "code",
   "execution_count": 44,
   "id": "38099e77-8397-4c8d-a4e0-63ff774f7fab",
   "metadata": {},
   "outputs": [
    {
     "name": "stdout",
     "output_type": "stream",
     "text": [
      "Add: 16\n",
      "Subtract: -2\n",
      "Multiply: 63\n",
      "Divide: 0.7777777777777778\n",
      "Floor Divide: 0\n",
      "Most recent result: 0\n",
      "Total calculations: 5\n"
     ]
    }
   ],
   "source": [
    "calc = Calculator()\n",
    "fav_nums = (7, 9)\n",
    "\n",
    "print(\"Add:\", calc.add(fav_nums[0], fav_nums[1]))           \n",
    "print(\"Subtract:\", calc.subtract(fav_nums[0], fav_nums[1]))\n",
    "print(\"Multiply:\", calc.multiply(fav_nums[0], fav_nums[1]))   \n",
    "print(\"Divide:\", calc.divide(fav_nums[0], fav_nums[1]))       \n",
    "print(\"Floor Divide:\", calc.floor_divide(fav_nums[0], fav_nums[1])) \n",
    "\n",
    "calc.status()"
   ]
  },
  {
   "cell_type": "markdown",
   "id": "cb2466ac-7dff-4a78-84ae-b2d18c6ffb14",
   "metadata": {},
   "source": [
    "#### For fun: Using random numbers in the Calculator"
   ]
  },
  {
   "cell_type": "code",
   "execution_count": 49,
   "id": "f8ca4421-6849-43e8-88cd-ba1c908a28bf",
   "metadata": {},
   "outputs": [
    {
     "name": "stdout",
     "output_type": "stream",
     "text": [
      "Random Numbers: [2, 4, 7, 20]\n",
      "\n",
      "Add: 2 + 4 = 6\n",
      "Subtract: 2 - 4 = -2\n",
      "Multiply: 2 * 4 = 8\n",
      "Divide: 2 / 4 = 0.5000\n",
      "Floor Divide: 2 // 4 = 0\n",
      "\n",
      "Add: 7 + 20 = 27\n",
      "Subtract: 7 - 20 = -13\n",
      "Multiply: 7 * 20 = 140\n",
      "Divide: 7 / 20 = 0.3500\n",
      "Floor Divide: 7 // 20 = 0\n",
      "\n",
      "\n",
      "Calculator Status:\n",
      "Most recent result: 0\n",
      "Total calculations: 10\n"
     ]
    }
   ],
   "source": [
    "import random\n",
    "\n",
    "rand_nums = [random.randint(1, 20) for _ in range(4)]\n",
    "print(f\"Random Numbers: {rand_nums}\")\n",
    "\n",
    "calc = Calculator()\n",
    "print()\n",
    "a, b = rand_nums[0], rand_nums[1]\n",
    "print(f\"Add: {a} + {b} = {calc.add(a, b)}\")\n",
    "print(f\"Subtract: {a} - {b} = {calc.subtract(a, b)}\")\n",
    "print(f\"Multiply: {a} * {b} = {calc.multiply(a, b)}\")\n",
    "print(f\"Divide: {a} / {b} = {calc.divide(a, b):.4f}\")\n",
    "print(f\"Floor Divide: {a} // {b} = {calc.floor_divide(a, b)}\")\n",
    "print()\n",
    "c, d = rand_nums[2], rand_nums[3]\n",
    "print(f\"Add: {c} + {d} = {calc.add(c, d)}\")\n",
    "print(f\"Subtract: {c} - {d} = {calc.subtract(c, d)}\")\n",
    "print(f\"Multiply: {c} * {d} = {calc.multiply(c, d)}\")\n",
    "print(f\"Divide: {c} / {d} = {calc.divide(c, d):.4f}\")\n",
    "print(f\"Floor Divide: {c} // {d} = {calc.floor_divide(c, d)}\")\n",
    "print()\n",
    "print(\"\\nCalculator Status:\")\n",
    "calc.status()"
   ]
  },
  {
   "cell_type": "code",
   "execution_count": null,
   "id": "11557e94-d611-49c7-b648-e3144d883466",
   "metadata": {},
   "outputs": [],
   "source": []
  }
 ],
 "metadata": {
  "kernelspec": {
   "display_name": "Python 3 (ipykernel)",
   "language": "python",
   "name": "python3"
  },
  "language_info": {
   "codemirror_mode": {
    "name": "ipython",
    "version": 3
   },
   "file_extension": ".py",
   "mimetype": "text/x-python",
   "name": "python",
   "nbconvert_exporter": "python",
   "pygments_lexer": "ipython3",
   "version": "3.12.7"
  }
 },
 "nbformat": 4,
 "nbformat_minor": 5
}
