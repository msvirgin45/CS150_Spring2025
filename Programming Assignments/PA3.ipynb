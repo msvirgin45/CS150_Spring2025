{
 "cells": [
  {
   "cell_type": "markdown",
   "id": "e3bd621d-4d55-4acc-b2bc-56457677d5d9",
   "metadata": {},
   "source": [
    "# Programming Assignment 3 - Matthew Virgin\n",
    "## CS-150 Spring 2025"
   ]
  },
  {
   "cell_type": "markdown",
   "id": "afdc78c9-2932-48ab-b562-405de3951cae",
   "metadata": {},
   "source": [
    "### Task 1: Types of Triangles"
   ]
  },
  {
   "cell_type": "markdown",
   "id": "0647bb7a-8b72-4497-857d-bc859dc3d1eb",
   "metadata": {},
   "source": [
    "#### First takes user input representing three sides of a triangle"
   ]
  },
  {
   "cell_type": "code",
   "execution_count": 22,
   "id": "91c3bfed-ae25-4649-988a-acd2eafc276a",
   "metadata": {},
   "outputs": [
    {
     "name": "stdin",
     "output_type": "stream",
     "text": [
      "Please input a side to your triangle:  70\n",
      "Please input a side to your triangle:  70\n",
      "Please input a side to your triangle:  70\n"
     ]
    }
   ],
   "source": [
    "sides = []\n",
    "index = 0\n",
    "while index < 3:\n",
    "    sides.append(int(input('Please input a side to your triangle: ')))\n",
    "    index = index + 1"
   ]
  },
  {
   "cell_type": "markdown",
   "id": "965db027-b638-4ebe-82ba-2e3db5cc08b3",
   "metadata": {},
   "source": [
    "#### Determines whether the three sides represent i. an equilateral triangle ii. an isosceles (but not equilateral) triangle or iii. a scalene triangle, and outputs this to the user."
   ]
  },
  {
   "cell_type": "code",
   "execution_count": 23,
   "id": "414d0082-1e6f-4bd5-b562-7ac5c16f98b5",
   "metadata": {},
   "outputs": [
    {
     "name": "stdout",
     "output_type": "stream",
     "text": [
      "Your triangle is an Equilateral Triangle.\n"
     ]
    }
   ],
   "source": [
    "if sides[0] == sides[1] == sides[2]:\n",
    "    print('Your triangle is an Equilateral Triangle.')\n",
    "elif sides[0] == sides[1] or sides[0] == sides[2] or sides[1] == sides[2]:\n",
    "    print('Your triangle is an Isoceles Triangle.')\n",
    "else:\n",
    "    print('Your triangle is a Scalene Triangle.')"
   ]
  },
  {
   "cell_type": "markdown",
   "id": "3c78cca3-dfea-4fb5-82bb-123d47d7d3b4",
   "metadata": {},
   "source": [
    "### Task 2: Student Grades and At-Risk Status"
   ]
  },
  {
   "cell_type": "markdown",
   "id": "37f35020-5bfa-439e-a260-580aa1cd4d2a",
   "metadata": {},
   "source": [
    "#### Read five input grade averages (which should be floats) representing student grades at the mid-term break into an initially empty list called student_grades."
   ]
  },
  {
   "cell_type": "code",
   "execution_count": 37,
   "id": "96a688c1-f439-44a6-948d-49f1b3bf8114",
   "metadata": {},
   "outputs": [
    {
     "name": "stdin",
     "output_type": "stream",
     "text": [
      "Please input grade:  70\n",
      "Please input grade:  95\n",
      "Please input grade:  56\n",
      "Please input grade:  67\n",
      "Please input grade:  80\n"
     ]
    }
   ],
   "source": [
    "student_grades = []\n",
    "index1 = 0\n",
    "while index1 < 5:\n",
    "    grade = (float(input('Please input grade: ')))\n",
    "    student_grades.append(grade)\n",
    "    index1 = index1 + 1"
   ]
  },
  {
   "cell_type": "markdown",
   "id": "59d1b194-7770-4240-820b-cc609f0f6c42",
   "metadata": {},
   "source": [
    "#### First calculate and print the class average, minimum grade, and maximum grade."
   ]
  },
  {
   "cell_type": "code",
   "execution_count": 38,
   "id": "277fc1ea-e0bf-4dc8-a075-74971c97d1ee",
   "metadata": {},
   "outputs": [
    {
     "name": "stdout",
     "output_type": "stream",
     "text": [
      "73.6 is the class average.\n",
      "56.0 is the smallest grade.\n",
      "95.0 is the highest grade.\n"
     ]
    }
   ],
   "source": [
    "class_avg = sum(student_grades) / len(student_grades)\n",
    "min_grade = min(student_grades)\n",
    "max_grade = max(student_grades)\n",
    "print(str(class_avg) + ' is the class average.')\n",
    "print(str(min_grade) + ' is the smallest grade.')\n",
    "print(str(max_grade) + ' is the highest grade.')"
   ]
  },
  {
   "cell_type": "markdown",
   "id": "b846ce61-de83-48a2-8472-117e8c9c85cf",
   "metadata": {},
   "source": [
    "#### Any student with a grade below 65 is considered “at risk” – as such, you should print a message indicating how many of the students in the course are at risk."
   ]
  },
  {
   "cell_type": "code",
   "execution_count": 40,
   "id": "47cbeffd-0219-411a-b60c-3c1993eba2a4",
   "metadata": {},
   "outputs": [
    {
     "name": "stdout",
     "output_type": "stream",
     "text": [
      "1 student(s) are at risk in this course.\n"
     ]
    }
   ],
   "source": [
    "at_risk_count = 0\n",
    "index2 = 0\n",
    "while index2 < len(student_grades):\n",
    "    if student_grades[index2] < 65:\n",
    "        at_risk_count = at_risk_count + 1\n",
    "    index2 = index2 + 1\n",
    "print(str(at_risk_count) + ' student(s) are at risk in this course.')"
   ]
  },
  {
   "cell_type": "markdown",
   "id": "c896291a-e680-4b7b-9b2c-5ff09537c571",
   "metadata": {},
   "source": [
    "### Task 3: Ranges and Multiples"
   ]
  },
  {
   "cell_type": "markdown",
   "id": "2e41cdde-95e7-4382-bf88-b4057a401f3c",
   "metadata": {},
   "source": [
    "#### Create a list called mult_of_3 that contains all multiples of 3 between 1 and 1000."
   ]
  },
  {
   "cell_type": "code",
   "execution_count": 9,
   "id": "2b1acf0f-3eac-4ed0-b765-c84edc3bf948",
   "metadata": {},
   "outputs": [
    {
     "name": "stdout",
     "output_type": "stream",
     "text": [
      "[3, 6, 9, 12, 15, 18, 21, 24, 27, 30, 33, 36, 39, 42, 45, 48, 51, 54, 57, 60, 63, 66, 69, 72, 75, 78, 81, 84, 87, 90, 93, 96, 99, 102, 105, 108, 111, 114, 117, 120, 123, 126, 129, 132, 135, 138, 141, 144, 147, 150, 153, 156, 159, 162, 165, 168, 171, 174, 177, 180, 183, 186, 189, 192, 195, 198, 201, 204, 207, 210, 213, 216, 219, 222, 225, 228, 231, 234, 237, 240, 243, 246, 249, 252, 255, 258, 261, 264, 267, 270, 273, 276, 279, 282, 285, 288, 291, 294, 297, 300, 303, 306, 309, 312, 315, 318, 321, 324, 327, 330, 333, 336, 339, 342, 345, 348, 351, 354, 357, 360, 363, 366, 369, 372, 375, 378, 381, 384, 387, 390, 393, 396, 399, 402, 405, 408, 411, 414, 417, 420, 423, 426, 429, 432, 435, 438, 441, 444, 447, 450, 453, 456, 459, 462, 465, 468, 471, 474, 477, 480, 483, 486, 489, 492, 495, 498, 501, 504, 507, 510, 513, 516, 519, 522, 525, 528, 531, 534, 537, 540, 543, 546, 549, 552, 555, 558, 561, 564, 567, 570, 573, 576, 579, 582, 585, 588, 591, 594, 597, 600, 603, 606, 609, 612, 615, 618, 621, 624, 627, 630, 633, 636, 639, 642, 645, 648, 651, 654, 657, 660, 663, 666, 669, 672, 675, 678, 681, 684, 687, 690, 693, 696, 699, 702, 705, 708, 711, 714, 717, 720, 723, 726, 729, 732, 735, 738, 741, 744, 747, 750, 753, 756, 759, 762, 765, 768, 771, 774, 777, 780, 783, 786, 789, 792, 795, 798, 801, 804, 807, 810, 813, 816, 819, 822, 825, 828, 831, 834, 837, 840, 843, 846, 849, 852, 855, 858, 861, 864, 867, 870, 873, 876, 879, 882, 885, 888, 891, 894, 897, 900, 903, 906, 909, 912, 915, 918, 921, 924, 927, 930, 933, 936, 939, 942, 945, 948, 951, 954, 957, 960, 963, 966, 969, 972, 975, 978, 981, 984, 987, 990, 993, 996, 999] "
     ]
    }
   ],
   "source": [
    "mult_of_3 = []\n",
    "index1 = 1\n",
    "while index1 <= 1000:\n",
    "    if index1 % 3 == 0:\n",
    "        mult_of_3.append(index1)\n",
    "    index1 = index1 + 1\n",
    "print(mult_of_3, end = ' ')"
   ]
  },
  {
   "cell_type": "markdown",
   "id": "cda60a8c-717e-47c0-b762-2d6535858c2d",
   "metadata": {},
   "source": [
    "####  Create a list called mult_of_4 that contains all multiples of 4 between 1 and 1000"
   ]
  },
  {
   "cell_type": "code",
   "execution_count": 10,
   "id": "14568b71-6ad0-498a-aee3-5479c0a28b7b",
   "metadata": {},
   "outputs": [
    {
     "name": "stdout",
     "output_type": "stream",
     "text": [
      "[4, 8, 12, 16, 20, 24, 28, 32, 36, 40, 44, 48, 52, 56, 60, 64, 68, 72, 76, 80, 84, 88, 92, 96, 100, 104, 108, 112, 116, 120, 124, 128, 132, 136, 140, 144, 148, 152, 156, 160, 164, 168, 172, 176, 180, 184, 188, 192, 196, 200, 204, 208, 212, 216, 220, 224, 228, 232, 236, 240, 244, 248, 252, 256, 260, 264, 268, 272, 276, 280, 284, 288, 292, 296, 300, 304, 308, 312, 316, 320, 324, 328, 332, 336, 340, 344, 348, 352, 356, 360, 364, 368, 372, 376, 380, 384, 388, 392, 396, 400, 404, 408, 412, 416, 420, 424, 428, 432, 436, 440, 444, 448, 452, 456, 460, 464, 468, 472, 476, 480, 484, 488, 492, 496, 500, 504, 508, 512, 516, 520, 524, 528, 532, 536, 540, 544, 548, 552, 556, 560, 564, 568, 572, 576, 580, 584, 588, 592, 596, 600, 604, 608, 612, 616, 620, 624, 628, 632, 636, 640, 644, 648, 652, 656, 660, 664, 668, 672, 676, 680, 684, 688, 692, 696, 700, 704, 708, 712, 716, 720, 724, 728, 732, 736, 740, 744, 748, 752, 756, 760, 764, 768, 772, 776, 780, 784, 788, 792, 796, 800, 804, 808, 812, 816, 820, 824, 828, 832, 836, 840, 844, 848, 852, 856, 860, 864, 868, 872, 876, 880, 884, 888, 892, 896, 900, 904, 908, 912, 916, 920, 924, 928, 932, 936, 940, 944, 948, 952, 956, 960, 964, 968, 972, 976, 980, 984, 988, 992, 996, 1000] "
     ]
    }
   ],
   "source": [
    "mult_of_4 = []\n",
    "index2 = 1\n",
    "while index2 <= 1000:\n",
    "    if index2 % 4 == 0:\n",
    "        mult_of_4.append(index2)\n",
    "    index2 = index2 + 1\n",
    "print(mult_of_4, end = ' ')"
   ]
  },
  {
   "cell_type": "markdown",
   "id": "85cb9dc3-3bbb-42fc-9317-2105cc245d6f",
   "metadata": {},
   "source": [
    "#### Using a simple loop, you are to print each multiple of 3 between 1 and 1000 and indicate whether or not it is also a multiple of 4."
   ]
  },
  {
   "cell_type": "code",
   "execution_count": 15,
   "id": "ce2eb095-bb52-4a9c-9d38-1386dc6e779c",
   "metadata": {},
   "outputs": [
    {
     "name": "stdout",
     "output_type": "stream",
     "text": [
      "3 is a multiple of 3 is not a multiple of 4.\n",
      "6 is a multiple of 3 is not a multiple of 4.\n",
      "9 is a multiple of 3 is not a multiple of 4.\n",
      "12 is a multiple of 3 is a multiple of 4.\n",
      "15 is a multiple of 3 is not a multiple of 4.\n",
      "18 is a multiple of 3 is not a multiple of 4.\n",
      "21 is a multiple of 3 is not a multiple of 4.\n",
      "24 is a multiple of 3 is a multiple of 4.\n",
      "27 is a multiple of 3 is not a multiple of 4.\n",
      "30 is a multiple of 3 is not a multiple of 4.\n",
      "33 is a multiple of 3 is not a multiple of 4.\n",
      "36 is a multiple of 3 is a multiple of 4.\n",
      "39 is a multiple of 3 is not a multiple of 4.\n",
      "42 is a multiple of 3 is not a multiple of 4.\n",
      "45 is a multiple of 3 is not a multiple of 4.\n",
      "48 is a multiple of 3 is a multiple of 4.\n",
      "51 is a multiple of 3 is not a multiple of 4.\n",
      "54 is a multiple of 3 is not a multiple of 4.\n",
      "57 is a multiple of 3 is not a multiple of 4.\n",
      "60 is a multiple of 3 is a multiple of 4.\n",
      "63 is a multiple of 3 is not a multiple of 4.\n",
      "66 is a multiple of 3 is not a multiple of 4.\n",
      "69 is a multiple of 3 is not a multiple of 4.\n",
      "72 is a multiple of 3 is a multiple of 4.\n",
      "75 is a multiple of 3 is not a multiple of 4.\n",
      "78 is a multiple of 3 is not a multiple of 4.\n",
      "81 is a multiple of 3 is not a multiple of 4.\n",
      "84 is a multiple of 3 is a multiple of 4.\n",
      "87 is a multiple of 3 is not a multiple of 4.\n",
      "90 is a multiple of 3 is not a multiple of 4.\n",
      "93 is a multiple of 3 is not a multiple of 4.\n",
      "96 is a multiple of 3 is a multiple of 4.\n",
      "99 is a multiple of 3 is not a multiple of 4.\n",
      "102 is a multiple of 3 is not a multiple of 4.\n",
      "105 is a multiple of 3 is not a multiple of 4.\n",
      "108 is a multiple of 3 is a multiple of 4.\n",
      "111 is a multiple of 3 is not a multiple of 4.\n",
      "114 is a multiple of 3 is not a multiple of 4.\n",
      "117 is a multiple of 3 is not a multiple of 4.\n",
      "120 is a multiple of 3 is a multiple of 4.\n",
      "123 is a multiple of 3 is not a multiple of 4.\n",
      "126 is a multiple of 3 is not a multiple of 4.\n",
      "129 is a multiple of 3 is not a multiple of 4.\n",
      "132 is a multiple of 3 is a multiple of 4.\n",
      "135 is a multiple of 3 is not a multiple of 4.\n",
      "138 is a multiple of 3 is not a multiple of 4.\n",
      "141 is a multiple of 3 is not a multiple of 4.\n",
      "144 is a multiple of 3 is a multiple of 4.\n",
      "147 is a multiple of 3 is not a multiple of 4.\n",
      "150 is a multiple of 3 is not a multiple of 4.\n",
      "153 is a multiple of 3 is not a multiple of 4.\n",
      "156 is a multiple of 3 is a multiple of 4.\n",
      "159 is a multiple of 3 is not a multiple of 4.\n",
      "162 is a multiple of 3 is not a multiple of 4.\n",
      "165 is a multiple of 3 is not a multiple of 4.\n",
      "168 is a multiple of 3 is a multiple of 4.\n",
      "171 is a multiple of 3 is not a multiple of 4.\n",
      "174 is a multiple of 3 is not a multiple of 4.\n",
      "177 is a multiple of 3 is not a multiple of 4.\n",
      "180 is a multiple of 3 is a multiple of 4.\n",
      "183 is a multiple of 3 is not a multiple of 4.\n",
      "186 is a multiple of 3 is not a multiple of 4.\n",
      "189 is a multiple of 3 is not a multiple of 4.\n",
      "192 is a multiple of 3 is a multiple of 4.\n",
      "195 is a multiple of 3 is not a multiple of 4.\n",
      "198 is a multiple of 3 is not a multiple of 4.\n",
      "201 is a multiple of 3 is not a multiple of 4.\n",
      "204 is a multiple of 3 is a multiple of 4.\n",
      "207 is a multiple of 3 is not a multiple of 4.\n",
      "210 is a multiple of 3 is not a multiple of 4.\n",
      "213 is a multiple of 3 is not a multiple of 4.\n",
      "216 is a multiple of 3 is a multiple of 4.\n",
      "219 is a multiple of 3 is not a multiple of 4.\n",
      "222 is a multiple of 3 is not a multiple of 4.\n",
      "225 is a multiple of 3 is not a multiple of 4.\n",
      "228 is a multiple of 3 is a multiple of 4.\n",
      "231 is a multiple of 3 is not a multiple of 4.\n",
      "234 is a multiple of 3 is not a multiple of 4.\n",
      "237 is a multiple of 3 is not a multiple of 4.\n",
      "240 is a multiple of 3 is a multiple of 4.\n",
      "243 is a multiple of 3 is not a multiple of 4.\n",
      "246 is a multiple of 3 is not a multiple of 4.\n",
      "249 is a multiple of 3 is not a multiple of 4.\n",
      "252 is a multiple of 3 is a multiple of 4.\n",
      "255 is a multiple of 3 is not a multiple of 4.\n",
      "258 is a multiple of 3 is not a multiple of 4.\n",
      "261 is a multiple of 3 is not a multiple of 4.\n",
      "264 is a multiple of 3 is a multiple of 4.\n",
      "267 is a multiple of 3 is not a multiple of 4.\n",
      "270 is a multiple of 3 is not a multiple of 4.\n",
      "273 is a multiple of 3 is not a multiple of 4.\n",
      "276 is a multiple of 3 is a multiple of 4.\n",
      "279 is a multiple of 3 is not a multiple of 4.\n",
      "282 is a multiple of 3 is not a multiple of 4.\n",
      "285 is a multiple of 3 is not a multiple of 4.\n",
      "288 is a multiple of 3 is a multiple of 4.\n",
      "291 is a multiple of 3 is not a multiple of 4.\n",
      "294 is a multiple of 3 is not a multiple of 4.\n",
      "297 is a multiple of 3 is not a multiple of 4.\n",
      "300 is a multiple of 3 is a multiple of 4.\n",
      "303 is a multiple of 3 is not a multiple of 4.\n",
      "306 is a multiple of 3 is not a multiple of 4.\n",
      "309 is a multiple of 3 is not a multiple of 4.\n",
      "312 is a multiple of 3 is a multiple of 4.\n",
      "315 is a multiple of 3 is not a multiple of 4.\n",
      "318 is a multiple of 3 is not a multiple of 4.\n",
      "321 is a multiple of 3 is not a multiple of 4.\n",
      "324 is a multiple of 3 is a multiple of 4.\n",
      "327 is a multiple of 3 is not a multiple of 4.\n",
      "330 is a multiple of 3 is not a multiple of 4.\n",
      "333 is a multiple of 3 is not a multiple of 4.\n",
      "336 is a multiple of 3 is a multiple of 4.\n",
      "339 is a multiple of 3 is not a multiple of 4.\n",
      "342 is a multiple of 3 is not a multiple of 4.\n",
      "345 is a multiple of 3 is not a multiple of 4.\n",
      "348 is a multiple of 3 is a multiple of 4.\n",
      "351 is a multiple of 3 is not a multiple of 4.\n",
      "354 is a multiple of 3 is not a multiple of 4.\n",
      "357 is a multiple of 3 is not a multiple of 4.\n",
      "360 is a multiple of 3 is a multiple of 4.\n",
      "363 is a multiple of 3 is not a multiple of 4.\n",
      "366 is a multiple of 3 is not a multiple of 4.\n",
      "369 is a multiple of 3 is not a multiple of 4.\n",
      "372 is a multiple of 3 is a multiple of 4.\n",
      "375 is a multiple of 3 is not a multiple of 4.\n",
      "378 is a multiple of 3 is not a multiple of 4.\n",
      "381 is a multiple of 3 is not a multiple of 4.\n",
      "384 is a multiple of 3 is a multiple of 4.\n",
      "387 is a multiple of 3 is not a multiple of 4.\n",
      "390 is a multiple of 3 is not a multiple of 4.\n",
      "393 is a multiple of 3 is not a multiple of 4.\n",
      "396 is a multiple of 3 is a multiple of 4.\n",
      "399 is a multiple of 3 is not a multiple of 4.\n",
      "402 is a multiple of 3 is not a multiple of 4.\n",
      "405 is a multiple of 3 is not a multiple of 4.\n",
      "408 is a multiple of 3 is a multiple of 4.\n",
      "411 is a multiple of 3 is not a multiple of 4.\n",
      "414 is a multiple of 3 is not a multiple of 4.\n",
      "417 is a multiple of 3 is not a multiple of 4.\n",
      "420 is a multiple of 3 is a multiple of 4.\n",
      "423 is a multiple of 3 is not a multiple of 4.\n",
      "426 is a multiple of 3 is not a multiple of 4.\n",
      "429 is a multiple of 3 is not a multiple of 4.\n",
      "432 is a multiple of 3 is a multiple of 4.\n",
      "435 is a multiple of 3 is not a multiple of 4.\n",
      "438 is a multiple of 3 is not a multiple of 4.\n",
      "441 is a multiple of 3 is not a multiple of 4.\n",
      "444 is a multiple of 3 is a multiple of 4.\n",
      "447 is a multiple of 3 is not a multiple of 4.\n",
      "450 is a multiple of 3 is not a multiple of 4.\n",
      "453 is a multiple of 3 is not a multiple of 4.\n",
      "456 is a multiple of 3 is a multiple of 4.\n",
      "459 is a multiple of 3 is not a multiple of 4.\n",
      "462 is a multiple of 3 is not a multiple of 4.\n",
      "465 is a multiple of 3 is not a multiple of 4.\n",
      "468 is a multiple of 3 is a multiple of 4.\n",
      "471 is a multiple of 3 is not a multiple of 4.\n",
      "474 is a multiple of 3 is not a multiple of 4.\n",
      "477 is a multiple of 3 is not a multiple of 4.\n",
      "480 is a multiple of 3 is a multiple of 4.\n",
      "483 is a multiple of 3 is not a multiple of 4.\n",
      "486 is a multiple of 3 is not a multiple of 4.\n",
      "489 is a multiple of 3 is not a multiple of 4.\n",
      "492 is a multiple of 3 is a multiple of 4.\n",
      "495 is a multiple of 3 is not a multiple of 4.\n",
      "498 is a multiple of 3 is not a multiple of 4.\n",
      "501 is a multiple of 3 is not a multiple of 4.\n",
      "504 is a multiple of 3 is a multiple of 4.\n",
      "507 is a multiple of 3 is not a multiple of 4.\n",
      "510 is a multiple of 3 is not a multiple of 4.\n",
      "513 is a multiple of 3 is not a multiple of 4.\n",
      "516 is a multiple of 3 is a multiple of 4.\n",
      "519 is a multiple of 3 is not a multiple of 4.\n",
      "522 is a multiple of 3 is not a multiple of 4.\n",
      "525 is a multiple of 3 is not a multiple of 4.\n",
      "528 is a multiple of 3 is a multiple of 4.\n",
      "531 is a multiple of 3 is not a multiple of 4.\n",
      "534 is a multiple of 3 is not a multiple of 4.\n",
      "537 is a multiple of 3 is not a multiple of 4.\n",
      "540 is a multiple of 3 is a multiple of 4.\n",
      "543 is a multiple of 3 is not a multiple of 4.\n",
      "546 is a multiple of 3 is not a multiple of 4.\n",
      "549 is a multiple of 3 is not a multiple of 4.\n",
      "552 is a multiple of 3 is a multiple of 4.\n",
      "555 is a multiple of 3 is not a multiple of 4.\n",
      "558 is a multiple of 3 is not a multiple of 4.\n",
      "561 is a multiple of 3 is not a multiple of 4.\n",
      "564 is a multiple of 3 is a multiple of 4.\n",
      "567 is a multiple of 3 is not a multiple of 4.\n",
      "570 is a multiple of 3 is not a multiple of 4.\n",
      "573 is a multiple of 3 is not a multiple of 4.\n",
      "576 is a multiple of 3 is a multiple of 4.\n",
      "579 is a multiple of 3 is not a multiple of 4.\n",
      "582 is a multiple of 3 is not a multiple of 4.\n",
      "585 is a multiple of 3 is not a multiple of 4.\n",
      "588 is a multiple of 3 is a multiple of 4.\n",
      "591 is a multiple of 3 is not a multiple of 4.\n",
      "594 is a multiple of 3 is not a multiple of 4.\n",
      "597 is a multiple of 3 is not a multiple of 4.\n",
      "600 is a multiple of 3 is a multiple of 4.\n",
      "603 is a multiple of 3 is not a multiple of 4.\n",
      "606 is a multiple of 3 is not a multiple of 4.\n",
      "609 is a multiple of 3 is not a multiple of 4.\n",
      "612 is a multiple of 3 is a multiple of 4.\n",
      "615 is a multiple of 3 is not a multiple of 4.\n",
      "618 is a multiple of 3 is not a multiple of 4.\n",
      "621 is a multiple of 3 is not a multiple of 4.\n",
      "624 is a multiple of 3 is a multiple of 4.\n",
      "627 is a multiple of 3 is not a multiple of 4.\n",
      "630 is a multiple of 3 is not a multiple of 4.\n",
      "633 is a multiple of 3 is not a multiple of 4.\n",
      "636 is a multiple of 3 is a multiple of 4.\n",
      "639 is a multiple of 3 is not a multiple of 4.\n",
      "642 is a multiple of 3 is not a multiple of 4.\n",
      "645 is a multiple of 3 is not a multiple of 4.\n",
      "648 is a multiple of 3 is a multiple of 4.\n",
      "651 is a multiple of 3 is not a multiple of 4.\n",
      "654 is a multiple of 3 is not a multiple of 4.\n",
      "657 is a multiple of 3 is not a multiple of 4.\n",
      "660 is a multiple of 3 is a multiple of 4.\n",
      "663 is a multiple of 3 is not a multiple of 4.\n",
      "666 is a multiple of 3 is not a multiple of 4.\n",
      "669 is a multiple of 3 is not a multiple of 4.\n",
      "672 is a multiple of 3 is a multiple of 4.\n",
      "675 is a multiple of 3 is not a multiple of 4.\n",
      "678 is a multiple of 3 is not a multiple of 4.\n",
      "681 is a multiple of 3 is not a multiple of 4.\n",
      "684 is a multiple of 3 is a multiple of 4.\n",
      "687 is a multiple of 3 is not a multiple of 4.\n",
      "690 is a multiple of 3 is not a multiple of 4.\n",
      "693 is a multiple of 3 is not a multiple of 4.\n",
      "696 is a multiple of 3 is a multiple of 4.\n",
      "699 is a multiple of 3 is not a multiple of 4.\n",
      "702 is a multiple of 3 is not a multiple of 4.\n",
      "705 is a multiple of 3 is not a multiple of 4.\n",
      "708 is a multiple of 3 is a multiple of 4.\n",
      "711 is a multiple of 3 is not a multiple of 4.\n",
      "714 is a multiple of 3 is not a multiple of 4.\n",
      "717 is a multiple of 3 is not a multiple of 4.\n",
      "720 is a multiple of 3 is a multiple of 4.\n",
      "723 is a multiple of 3 is not a multiple of 4.\n",
      "726 is a multiple of 3 is not a multiple of 4.\n",
      "729 is a multiple of 3 is not a multiple of 4.\n",
      "732 is a multiple of 3 is a multiple of 4.\n",
      "735 is a multiple of 3 is not a multiple of 4.\n",
      "738 is a multiple of 3 is not a multiple of 4.\n",
      "741 is a multiple of 3 is not a multiple of 4.\n",
      "744 is a multiple of 3 is a multiple of 4.\n",
      "747 is a multiple of 3 is not a multiple of 4.\n",
      "750 is a multiple of 3 is not a multiple of 4.\n",
      "753 is a multiple of 3 is not a multiple of 4.\n",
      "756 is a multiple of 3 is a multiple of 4.\n",
      "759 is a multiple of 3 is not a multiple of 4.\n",
      "762 is a multiple of 3 is not a multiple of 4.\n",
      "765 is a multiple of 3 is not a multiple of 4.\n",
      "768 is a multiple of 3 is a multiple of 4.\n",
      "771 is a multiple of 3 is not a multiple of 4.\n",
      "774 is a multiple of 3 is not a multiple of 4.\n",
      "777 is a multiple of 3 is not a multiple of 4.\n",
      "780 is a multiple of 3 is a multiple of 4.\n",
      "783 is a multiple of 3 is not a multiple of 4.\n",
      "786 is a multiple of 3 is not a multiple of 4.\n",
      "789 is a multiple of 3 is not a multiple of 4.\n",
      "792 is a multiple of 3 is a multiple of 4.\n",
      "795 is a multiple of 3 is not a multiple of 4.\n",
      "798 is a multiple of 3 is not a multiple of 4.\n",
      "801 is a multiple of 3 is not a multiple of 4.\n",
      "804 is a multiple of 3 is a multiple of 4.\n",
      "807 is a multiple of 3 is not a multiple of 4.\n",
      "810 is a multiple of 3 is not a multiple of 4.\n",
      "813 is a multiple of 3 is not a multiple of 4.\n",
      "816 is a multiple of 3 is a multiple of 4.\n",
      "819 is a multiple of 3 is not a multiple of 4.\n",
      "822 is a multiple of 3 is not a multiple of 4.\n",
      "825 is a multiple of 3 is not a multiple of 4.\n",
      "828 is a multiple of 3 is a multiple of 4.\n",
      "831 is a multiple of 3 is not a multiple of 4.\n",
      "834 is a multiple of 3 is not a multiple of 4.\n",
      "837 is a multiple of 3 is not a multiple of 4.\n",
      "840 is a multiple of 3 is a multiple of 4.\n",
      "843 is a multiple of 3 is not a multiple of 4.\n",
      "846 is a multiple of 3 is not a multiple of 4.\n",
      "849 is a multiple of 3 is not a multiple of 4.\n",
      "852 is a multiple of 3 is a multiple of 4.\n",
      "855 is a multiple of 3 is not a multiple of 4.\n",
      "858 is a multiple of 3 is not a multiple of 4.\n",
      "861 is a multiple of 3 is not a multiple of 4.\n",
      "864 is a multiple of 3 is a multiple of 4.\n",
      "867 is a multiple of 3 is not a multiple of 4.\n",
      "870 is a multiple of 3 is not a multiple of 4.\n",
      "873 is a multiple of 3 is not a multiple of 4.\n",
      "876 is a multiple of 3 is a multiple of 4.\n",
      "879 is a multiple of 3 is not a multiple of 4.\n",
      "882 is a multiple of 3 is not a multiple of 4.\n",
      "885 is a multiple of 3 is not a multiple of 4.\n",
      "888 is a multiple of 3 is a multiple of 4.\n",
      "891 is a multiple of 3 is not a multiple of 4.\n",
      "894 is a multiple of 3 is not a multiple of 4.\n",
      "897 is a multiple of 3 is not a multiple of 4.\n",
      "900 is a multiple of 3 is a multiple of 4.\n",
      "903 is a multiple of 3 is not a multiple of 4.\n",
      "906 is a multiple of 3 is not a multiple of 4.\n",
      "909 is a multiple of 3 is not a multiple of 4.\n",
      "912 is a multiple of 3 is a multiple of 4.\n",
      "915 is a multiple of 3 is not a multiple of 4.\n",
      "918 is a multiple of 3 is not a multiple of 4.\n",
      "921 is a multiple of 3 is not a multiple of 4.\n",
      "924 is a multiple of 3 is a multiple of 4.\n",
      "927 is a multiple of 3 is not a multiple of 4.\n",
      "930 is a multiple of 3 is not a multiple of 4.\n",
      "933 is a multiple of 3 is not a multiple of 4.\n",
      "936 is a multiple of 3 is a multiple of 4.\n",
      "939 is a multiple of 3 is not a multiple of 4.\n",
      "942 is a multiple of 3 is not a multiple of 4.\n",
      "945 is a multiple of 3 is not a multiple of 4.\n",
      "948 is a multiple of 3 is a multiple of 4.\n",
      "951 is a multiple of 3 is not a multiple of 4.\n",
      "954 is a multiple of 3 is not a multiple of 4.\n",
      "957 is a multiple of 3 is not a multiple of 4.\n",
      "960 is a multiple of 3 is a multiple of 4.\n",
      "963 is a multiple of 3 is not a multiple of 4.\n",
      "966 is a multiple of 3 is not a multiple of 4.\n",
      "969 is a multiple of 3 is not a multiple of 4.\n",
      "972 is a multiple of 3 is a multiple of 4.\n",
      "975 is a multiple of 3 is not a multiple of 4.\n",
      "978 is a multiple of 3 is not a multiple of 4.\n",
      "981 is a multiple of 3 is not a multiple of 4.\n",
      "984 is a multiple of 3 is a multiple of 4.\n",
      "987 is a multiple of 3 is not a multiple of 4.\n",
      "990 is a multiple of 3 is not a multiple of 4.\n",
      "993 is a multiple of 3 is not a multiple of 4.\n",
      "996 is a multiple of 3 is a multiple of 4.\n",
      "999 is a multiple of 3 is not a multiple of 4.\n"
     ]
    }
   ],
   "source": [
    "index3 = 0\n",
    "while index3 < len(mult_of_3):\n",
    "    num = mult_of_3[index3]\n",
    "    is_mult_of_4 = 'is a multiple of 4' if num in mult_of_4 else \"is not a multiple of 4\" \n",
    "    print(str(num) + ' is a multiple of 3 ' +  str(is_mult_of_4) + '.')\n",
    "    index3 = index3 + 1"
   ]
  },
  {
   "cell_type": "markdown",
   "id": "bda8db7b-2dd7-4ebd-bb0d-bfb9065a15a3",
   "metadata": {},
   "source": [
    "### Task 4: Shopping List"
   ]
  },
  {
   "cell_type": "markdown",
   "id": "74571e8b-bde2-4f3a-a91a-ae0d8f1de164",
   "metadata": {},
   "source": [
    "#### Starting with an initially empty list named shopping_list, allow the user to input up to 7 items they want to purchase (an input value like “done” should be used to stop input early.)\n"
   ]
  },
  {
   "cell_type": "code",
   "execution_count": 32,
   "id": "2e67c7f9-5e32-4da8-8875-7a752fef3d09",
   "metadata": {},
   "outputs": [
    {
     "name": "stdin",
     "output_type": "stream",
     "text": [
      "Please input an item for your shopping list(type 'done' to stop):  Beans\n",
      "Please input an item for your shopping list(type 'done' to stop):  Soda\n",
      "Please input an item for your shopping list(type 'done' to stop):  Chips\n",
      "Please input an item for your shopping list(type 'done' to stop):  Twix\n",
      "Please input an item for your shopping list(type 'done' to stop):  Milk\n",
      "Please input an item for your shopping list(type 'done' to stop):  Eggs\n",
      "Please input an item for your shopping list(type 'done' to stop):  done\n"
     ]
    }
   ],
   "source": [
    "shopping_list = []\n",
    "while len(shopping_list) < 7:\n",
    "    item = input('Please input an item for your shopping list(type \\'done\\' to stop): ')\n",
    "    if item.lower() == 'done':\n",
    "        break;\n",
    "    shopping_list.append(item)"
   ]
  },
  {
   "cell_type": "markdown",
   "id": "279db7ad-cf8a-490e-b837-3b9c98e1b469",
   "metadata": {},
   "source": [
    "#### Print the total number of items on your shopping list.\n"
   ]
  },
  {
   "cell_type": "code",
   "execution_count": 33,
   "id": "fb4d74ca-ed23-4b57-b124-f8fdf21a2a7f",
   "metadata": {},
   "outputs": [
    {
     "name": "stdout",
     "output_type": "stream",
     "text": [
      "The total number of items on your shopping list is 6.\n"
     ]
    }
   ],
   "source": [
    "print('The total number of items on your shopping list is ' + str(len(shopping_list)) + '.')"
   ]
  },
  {
   "cell_type": "markdown",
   "id": "70495639-8608-432a-9be4-0698dc824c05",
   "metadata": {},
   "source": [
    "#### Print the list in reverse order (opposite order from which the values were input)."
   ]
  },
  {
   "cell_type": "code",
   "execution_count": 34,
   "id": "167e9e45-d594-44e5-bbe9-864a46fdcdfe",
   "metadata": {},
   "outputs": [
    {
     "name": "stdout",
     "output_type": "stream",
     "text": [
      "The reversed list is ['Eggs', 'Milk', 'Twix', 'Chips', 'Soda', 'Beans'].\n"
     ]
    }
   ],
   "source": [
    "reversedlist = []\n",
    "index1 = len(shopping_list) - 1\n",
    "while index1 >= 0:\n",
    "    reversedlist.append(shopping_list[index1])\n",
    "    index1 = index1 - 1\n",
    "print('The reversed list is ' + str(reversedlist) + '.')"
   ]
  },
  {
   "cell_type": "markdown",
   "id": "eb84acb3-fd22-4a76-895b-5f76e0f8c49c",
   "metadata": {},
   "source": [
    "#### Print the list in alphabetical order.\n"
   ]
  },
  {
   "cell_type": "code",
   "execution_count": 35,
   "id": "71c763e8-329a-4cf0-b3ca-68d8b4ef9537",
   "metadata": {},
   "outputs": [
    {
     "name": "stdout",
     "output_type": "stream",
     "text": [
      "The alphabetically sorted list is ['Beans', 'Chips', 'Eggs', 'Milk', 'Soda', 'Twix'].\n"
     ]
    }
   ],
   "source": [
    "alphalist = shopping_list.copy()\n",
    "alphalist.sort()\n",
    "print('The alphabetically sorted list is ' + str(alphalist) + '.')"
   ]
  },
  {
   "cell_type": "markdown",
   "id": "856fa022-fea7-40c9-8a4d-f78fa8598bdc",
   "metadata": {},
   "source": [
    "#### Suppose the top five staple foods are “Rice”, “Beans”, “Corn”, “Carrots”, and “Potatoes”. You are to print out how many of these staple foods are in shopping_list."
   ]
  },
  {
   "cell_type": "code",
   "execution_count": 36,
   "id": "b3900b99-6a91-4986-b00b-310b58622a91",
   "metadata": {},
   "outputs": [
    {
     "name": "stdout",
     "output_type": "stream",
     "text": [
      "1 staple food(s) are present in your shopping list.\n"
     ]
    }
   ],
   "source": [
    "staplefoods = ['Rice', 'Beans', 'Corn', 'Carrots', 'Potatoes']\n",
    "staplecounter = 0\n",
    "index2 = 0\n",
    "while index2 < len(shopping_list):\n",
    "    if shoplist[index2] in staplefoods:\n",
    "        staplecounter = staplecounter + 1\n",
    "    index2 = index2 + 1\n",
    "print(str(staplecounter) + ' staple food(s) are present in your shopping list.')"
   ]
  }
 ],
 "metadata": {
  "kernelspec": {
   "display_name": "Python 3 (ipykernel)",
   "language": "python",
   "name": "python3"
  },
  "language_info": {
   "codemirror_mode": {
    "name": "ipython",
    "version": 3
   },
   "file_extension": ".py",
   "mimetype": "text/x-python",
   "name": "python",
   "nbconvert_exporter": "python",
   "pygments_lexer": "ipython3",
   "version": "3.12.7"
  }
 },
 "nbformat": 4,
 "nbformat_minor": 5
}
