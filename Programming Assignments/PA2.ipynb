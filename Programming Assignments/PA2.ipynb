{
 "cells": [
  {
   "cell_type": "markdown",
   "id": "de1bc2ed-ef22-448e-9660-569ee1a07b0f",
   "metadata": {},
   "source": [
    "# Programming Assignment 2 - Matthew Virgin\n",
    "## CS-150 Spring 2025"
   ]
  },
  {
   "cell_type": "markdown",
   "id": "b1c63052-e39f-46dd-b3c9-170bb772a8d9",
   "metadata": {},
   "source": [
    "### Task 1: Personal Information\n",
    "Create variables to store information about yourself."
   ]
  },
  {
   "cell_type": "code",
   "execution_count": 8,
   "id": "786ff03d-4af9-4d3b-a340-e6e713d01903",
   "metadata": {},
   "outputs": [],
   "source": [
    "name = 'Matthew Virgin'\n",
    "pmajor = 'Computer Science and Engineering'\n",
    "fgame = 'basketball'\n",
    "hometown = 'Eminence'"
   ]
  },
  {
   "cell_type": "markdown",
   "id": "b42f9d24-10a3-4c30-b5b9-24010baeb91d",
   "metadata": {},
   "source": [
    "Print message that includes all of the information variables."
   ]
  },
  {
   "cell_type": "code",
   "execution_count": 7,
   "id": "92b81b60-cba9-41b3-9d94-f134cd3c2d3b",
   "metadata": {},
   "outputs": [
    {
     "name": "stdout",
     "output_type": "stream",
     "text": [
      "My name is Matthew Virgin, I am pursuing a degree in Computer Science and Engineering, my favorite sport is basketball, and my hometown is Eminence.\n"
     ]
    }
   ],
   "source": [
    "print('My name is ' + name + ', I am pursuing a degree in ' + pmajor + ', my favorite sport is ' + fgame + ', and my hometown is ' + hometown + '.')"
   ]
  },
  {
   "cell_type": "markdown",
   "id": "a58d5355-3087-4e88-ab89-d4afc2962079",
   "metadata": {},
   "source": [
    "### Task 2: Tempature Conversion\n",
    "Create a variable for tempature in Farenheit."
   ]
  },
  {
   "cell_type": "code",
   "execution_count": 2,
   "id": "59842ba1-6cce-4c57-b9da-493443e5eea4",
   "metadata": {},
   "outputs": [],
   "source": [
    "farenheit_temp = 86"
   ]
  },
  {
   "cell_type": "markdown",
   "id": "0f733a43-7aca-4855-a385-e015e55d6f5d",
   "metadata": {},
   "source": [
    "Convert Farenheit temperature to Celsius temperature."
   ]
  },
  {
   "cell_type": "code",
   "execution_count": 3,
   "id": "f8ddad95-4d8e-4a41-bc45-ac0bf0daf634",
   "metadata": {},
   "outputs": [],
   "source": [
    "celcuis_temp = (farenheit_temp-32)*5/9"
   ]
  },
  {
   "cell_type": "code",
   "execution_count": 4,
   "id": "78b7b3b8-8ec5-4894-995c-10f48a8e4a83",
   "metadata": {},
   "outputs": [
    {
     "name": "stdout",
     "output_type": "stream",
     "text": [
      "30.0\n"
     ]
    }
   ],
   "source": [
    "print(celcuis_temp)"
   ]
  },
  {
   "cell_type": "markdown",
   "id": "d9e75e92-eeb8-48dc-a98a-c6e484921750",
   "metadata": {},
   "source": [
    "Print a message that includes both temperatures."
   ]
  },
  {
   "cell_type": "code",
   "execution_count": 6,
   "id": "062fc813-539c-464a-bfd9-d0c025f64917",
   "metadata": {},
   "outputs": [
    {
     "name": "stdout",
     "output_type": "stream",
     "text": [
      "The temperature in Farenheit is 86°, which equals 30.0° in Celcuis.\n"
     ]
    }
   ],
   "source": [
    "print(\"The temperature in Farenheit is \" + str(farenheit_temp) + '°' + ', which equals ' + str(celcuis_temp) + '°' + ' in Celcuis.')"
   ]
  },
  {
   "cell_type": "markdown",
   "id": "5219f491-e383-4709-94ea-6f84f0551c70",
   "metadata": {},
   "source": [
    "### Task 3: Simple Calculator\n",
    "Create variables num1 and num2 and assign them numeric values. "
   ]
  },
  {
   "cell_type": "code",
   "execution_count": 8,
   "id": "b95f7f73-5ffb-4eb6-a0c3-0be4cc53b668",
   "metadata": {},
   "outputs": [],
   "source": [
    "num1 = 76\n",
    "num2 = 9"
   ]
  },
  {
   "cell_type": "markdown",
   "id": "c1529800-20c7-4a6e-8076-363e2d7374bf",
   "metadata": {},
   "source": [
    "Perform the operations and print the results"
   ]
  },
  {
   "cell_type": "code",
   "execution_count": 9,
   "id": "e8c8682c-5bd0-49d7-8b41-a915a76ffb4e",
   "metadata": {},
   "outputs": [
    {
     "name": "stdout",
     "output_type": "stream",
     "text": [
      "85\n"
     ]
    }
   ],
   "source": [
    "print(num1 + num2)"
   ]
  },
  {
   "cell_type": "code",
   "execution_count": 10,
   "id": "92fa5bb1-7559-4da4-9e37-7220bd66d987",
   "metadata": {},
   "outputs": [
    {
     "name": "stdout",
     "output_type": "stream",
     "text": [
      "67\n"
     ]
    }
   ],
   "source": [
    "print(num1 - num2)"
   ]
  },
  {
   "cell_type": "code",
   "execution_count": 11,
   "id": "7f63516c-b001-45f8-b701-4cccb56bee94",
   "metadata": {},
   "outputs": [
    {
     "name": "stdout",
     "output_type": "stream",
     "text": [
      "684\n"
     ]
    }
   ],
   "source": [
    "print(num1*num2)"
   ]
  },
  {
   "cell_type": "code",
   "execution_count": 12,
   "id": "eb8e7f73-4093-41b6-bd65-cca0a6bedafc",
   "metadata": {},
   "outputs": [
    {
     "name": "stdout",
     "output_type": "stream",
     "text": [
      "8.444444444444445\n"
     ]
    }
   ],
   "source": [
    "print(num1/num2)"
   ]
  },
  {
   "cell_type": "markdown",
   "id": "d600fae0-3c74-4a78-8434-e9b327cba6ab",
   "metadata": {},
   "source": [
    "### Task 4: String Manipulation\n",
    "Create a variable for a famous quote."
   ]
  },
  {
   "cell_type": "code",
   "execution_count": 13,
   "id": "3edb5799-2e82-4ce0-8489-e20c6b507595",
   "metadata": {},
   "outputs": [
    {
     "name": "stdout",
     "output_type": "stream",
     "text": [
      "You only live once, but if you do it right, once is enough.\n"
     ]
    }
   ],
   "source": [
    "quote = 'You only live once, but if you do it right, once is enough.'\n",
    "print(quote)"
   ]
  },
  {
   "cell_type": "markdown",
   "id": "4b89e3ad-47d7-4096-9d04-1a021db41314",
   "metadata": {},
   "source": [
    "Print the length of the qoute."
   ]
  },
  {
   "cell_type": "code",
   "execution_count": 14,
   "id": "dca33110-c791-4414-a1be-cce09a631d75",
   "metadata": {},
   "outputs": [
    {
     "name": "stdout",
     "output_type": "stream",
     "text": [
      "59\n"
     ]
    }
   ],
   "source": [
    "print(len(quote))"
   ]
  },
  {
   "cell_type": "markdown",
   "id": "5950f61f-f9cc-48a5-b460-8d02b7990f43",
   "metadata": {},
   "source": [
    "Print the in uppercase, lowercase, and split it into a list."
   ]
  },
  {
   "cell_type": "code",
   "execution_count": 18,
   "id": "07d5e7ee-4bda-4d0f-a492-965450908acf",
   "metadata": {},
   "outputs": [
    {
     "name": "stdout",
     "output_type": "stream",
     "text": [
      "YOU ONLY LIVE ONCE, BUT IF YOU DO IT RIGHT, ONCE IS ENOUGH.\n"
     ]
    }
   ],
   "source": [
    "print(quote.upper())"
   ]
  },
  {
   "cell_type": "code",
   "execution_count": 19,
   "id": "a9f23f96-c400-4bf6-bd79-304b3706dec0",
   "metadata": {},
   "outputs": [
    {
     "name": "stdout",
     "output_type": "stream",
     "text": [
      "you only live once, but if you do it right, once is enough.\n"
     ]
    }
   ],
   "source": [
    "print(quote.lower())"
   ]
  },
  {
   "cell_type": "code",
   "execution_count": 20,
   "id": "9ad81a11-cfce-4716-a36b-1e8a77cbc071",
   "metadata": {},
   "outputs": [
    {
     "name": "stdout",
     "output_type": "stream",
     "text": [
      "['You', 'only', 'live', 'once,', 'but', 'if', 'you', 'do', 'it', 'right,', 'once', 'is', 'enough.']\n"
     ]
    }
   ],
   "source": [
    "print(quote.split())"
   ]
  },
  {
   "cell_type": "markdown",
   "id": "080b8425-26ce-4a66-b189-539d08ffd745",
   "metadata": {},
   "source": [
    "### Task 5: User Inputs and Operations\n",
    "Prompt the user to enter the  length, width, and height of the cuboid."
   ]
  },
  {
   "cell_type": "code",
   "execution_count": 21,
   "id": "c9f199be-98ec-4929-9a25-8cfc356a1d0d",
   "metadata": {},
   "outputs": [
    {
     "name": "stdin",
     "output_type": "stream",
     "text": [
      "Please input the length of the cuboid:  10\n",
      "Please input the width of the cuboid:  3\n",
      "Please input the height of the cuboid:  78\n"
     ]
    }
   ],
   "source": [
    "length = float(input('Please input the length of the cuboid: '))\n",
    "width = float(input('Please input the width of the cuboid: '))\n",
    "height = float(input('Please input the height of the cuboid: '))"
   ]
  },
  {
   "cell_type": "markdown",
   "id": "aff5d93b-dfaf-40bc-80ca-dee371beeb48",
   "metadata": {},
   "source": [
    "Use the formula above to compute the shape’s volume."
   ]
  },
  {
   "cell_type": "code",
   "execution_count": 22,
   "id": "beebc7ef-cb25-4e0c-8a7f-0fe6272fb518",
   "metadata": {},
   "outputs": [],
   "source": [
    "volume = (length*width*height)"
   ]
  },
  {
   "cell_type": "markdown",
   "id": "341a24e7-c9cf-408c-b247-3f6b89528271",
   "metadata": {},
   "source": [
    "Print the statement to calculate the volume of the cuboid."
   ]
  },
  {
   "cell_type": "code",
   "execution_count": 25,
   "id": "9dadb3e0-be2b-4012-8558-dfee1ab08ee2",
   "metadata": {},
   "outputs": [
    {
     "name": "stdin",
     "output_type": "stream",
     "text": [
      "Please input the length of the cuboid:  10\n",
      "Please input the width of the cuboid:  4\n",
      "Please input the height of the cuboid:  90\n"
     ]
    },
    {
     "name": "stdout",
     "output_type": "stream",
     "text": [
      "The volume of your cuboid is 3600.0 units\n"
     ]
    }
   ],
   "source": [
    "length = float(input('Please input the length of the cuboid: '))\n",
    "width = float(input('Please input the width of the cuboid: '))\n",
    "height = float(input('Please input the height of the cuboid: '))\n",
    "volume = (length*width*height)\n",
    "print(\"The volume of your cuboid is \" + str(volume) + \" units\")"
   ]
  }
 ],
 "metadata": {
  "kernelspec": {
   "display_name": "Python 3 (ipykernel)",
   "language": "python",
   "name": "python3"
  },
  "language_info": {
   "codemirror_mode": {
    "name": "ipython",
    "version": 3
   },
   "file_extension": ".py",
   "mimetype": "text/x-python",
   "name": "python",
   "nbconvert_exporter": "python",
   "pygments_lexer": "ipython3",
   "version": "3.12.7"
  }
 },
 "nbformat": 4,
 "nbformat_minor": 5
}
