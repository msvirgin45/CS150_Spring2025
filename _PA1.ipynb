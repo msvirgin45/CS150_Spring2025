{
 "cells": [
  {
   "cell_type": "markdown",
   "id": "82dd470a-65d6-459b-b591-8c60feb9c46c",
   "metadata": {},
   "source": [
    "# Matthew Virgin - Markdown Practice"
   ]
  },
  {
   "cell_type": "markdown",
   "id": "dda8bcd6-5c41-4c94-bbfe-8489137c84ee",
   "metadata": {},
   "source": [
    "### My name is Matthew Virgin and I am a dual-credit highschool student. I am a senior this year and plan to pursue a degree in computer science and engineering. I am taking this course to learn how to code. I have always wanted to code and program something to function so this class will hopefully help me learn basics to pursue my interest."
   ]
  },
  {
   "cell_type": "markdown",
   "id": "931c6711-9b92-4c6d-bf0f-e654fabb7c53",
   "metadata": {},
   "source": [
    "### Course Activities:\n",
    "#### - 5 Programming Assignments\n",
    "#### - 4 Quizzes\n",
    "#### - Class participation\n",
    "#### - Midterm Exam\n",
    "#### - 2 Projects\n",
    "#### - 2-part Final Exam"
   ]
  },
  {
   "cell_type": "markdown",
   "id": "53420816-b094-462d-8012-b2fecdd35f9a",
   "metadata": {},
   "source": [
    "### List of Modules in this course:\n",
    "#### - Module 1: Course Introduction, Variables and Simple Data Types\n",
    "#### - Module 2: Lists and Tuples Part 1\n",
    "#### - Module 3: If Statements \n",
    "#### - Module 4: Loops\n",
    "#### - Module 5: Lists and Tuples Part 2 \n",
    "#### - Module 6: Dictionaries \n",
    "#### - Module 7: Sets, Functions, Libraries \n",
    "#### - Module 8: Class Datatypes and Exceptions\n",
    "#### - Module 9: NumPy Arrays\n",
    "#### - Module 10: Pandas and Files Excerpt"
   ]
  },
  {
   "cell_type": "markdown",
   "id": "29981044-ca0f-4611-a1c7-ca684e689756",
   "metadata": {},
   "source": [
    "#### Primary Language: **Phython**"
   ]
  },
  {
   "cell_type": "markdown",
   "id": "ff958b56-dee8-499c-8209-a94a8ca86c10",
   "metadata": {},
   "source": [
    "### Software used to create/edit: *Jupyter Notebook*"
   ]
  },
  {
   "cell_type": "markdown",
   "id": "7a8d2800-86e0-4957-9e46-d7754bbc115d",
   "metadata": {},
   "source": [
    "### What I have done today:\n",
    "##### I <mark style="background: yellow" >studied</mark> for my history class on the <mark>Industrial Revolution.</mark>"
   ]
  },
  {
   "cell_type": "markdown",
   "id": "e8d3636e-9bb7-460e-856e-acea070d84d7",
   "metadata": {},
   "source": [
    "### Github CS150_Spring2025 Hyperlink: *https://github.com/msvirgin45/CS150_Spring2025.git*"
   ]
  },
  {
   "attachments": {
    "b6e6e4ca-1daa-4a75-b388-f752ad2d2682.png": {
     "image/png": "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"
    }
   },
   "cell_type": "markdown",
   "id": "f6a6d992-db0c-4e47-8ec2-b7fb254eb0d4",
   "metadata": {},
   "source": [
    "![download.png](attachment:b6e6e4ca-1daa-4a75-b388-f752ad2d2682.png)"
   ]
  },
  {
   "cell_type": "markdown",
   "id": "47081890-6cf7-47e4-ab96-d58303f37374",
   "metadata": {},
   "source": [
    "I learned how to use more parts of Markdown such as, bolding words, italics, highlight words, and being able to change text size of words."
   ]
  },
  {
   "cell_type": "code",
   "execution_count": null,
   "id": "1fa28674-4c94-465a-b72c-e9c4958301d9",
   "metadata": {},
   "outputs": [],
   "source": []
  }
 ],
 "metadata": {
  "kernelspec": {
   "display_name": "Python 3 (ipykernel)",
   "language": "python",
   "name": "python3"
  },
  "language_info": {
   "codemirror_mode": {
    "name": "ipython",
    "version": 3
   },
   "file_extension": ".py",
   "mimetype": "text/x-python",
   "name": "python",
   "nbconvert_exporter": "python",
   "pygments_lexer": "ipython3",
   "version": "3.12.7"
  }
 },
 "nbformat": 4,
 "nbformat_minor": 5
}
