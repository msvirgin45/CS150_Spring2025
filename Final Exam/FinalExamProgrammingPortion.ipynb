{
 "cells": [
  {
   "cell_type": "markdown",
   "id": "4dad1e94-3706-410f-b3d5-4ed22d779551",
   "metadata": {},
   "source": [
    "Problem 1: You are to write function **game_summary(team1score,team2score)**, which is to take as input the scores for two teams who have competed in a game and _prints_ the following information about the game:\n",
    "1. Who won (Should be \"Team 1 wins\" if team1score > team2score, \"Team 2 wins\" if team1score < team2score, or \"Tie\" if the scores are equal.\n",
    "2. Score differential (difference between the two scores, must be positive)\n",
    "3. Cumulative Score (combined score of the two teams)\n",
    "4. Whether or not either or both teams were shut out (a team is shut out if it scores 0 points\n",
    "\n",
    "Ex 1: game_summary(17, 22) should print the following: <br> _Team1 wins_<br> _Score Differential of 5_<br> _Cumulative Score of 39_ <br> _No teams were shut out._ <br>\n",
    "\n",
    "Ex 2: game_summary(0, 0) should print the following: <br> _Tie_<br> _Score Differential of 0_<br> _Cumulative Score of 0_ <br> _Both teams were shut out._\n"
   ]
  },
  {
   "cell_type": "code",
   "execution_count": 19,
   "id": "a70db339-5d59-4393-a686-450e79791671",
   "metadata": {},
   "outputs": [
    {
     "name": "stdout",
     "output_type": "stream",
     "text": [
      "Team 2 wins\n",
      "Score Differntial of 3.\n",
      "Cumulative score of 3.\n",
      "One team was shut out.\n",
      "\n",
      "Team 1 wins\n",
      "Score Differntial of 5.\n",
      "Cumulative score of 41.\n",
      "No teams were shut out.\n",
      "\n",
      "Example 1:\n",
      "Team 2 wins\n",
      "Score Differntial of 5.\n",
      "Cumulative score of 39.\n",
      "No teams were shut out.\n",
      "\n",
      "Example 2:\n",
      "Tie\n",
      "Score Differntial of 0.\n",
      "Cumulative score of 0.\n",
      "Both teams were shut out.\n"
     ]
    }
   ],
   "source": [
    "def game_summary(team1score,team2score):\n",
    "    if team1score > team2score:\n",
    "        print('Team 1 wins')\n",
    "    elif team2score > team1score:\n",
    "        print('Team 2 wins')\n",
    "    else:\n",
    "        print('Tie')\n",
    "\n",
    "    score_diff = abs(team1score - team2score)\n",
    "    print(f'Score Differntial of {score_diff}.')\n",
    "    \n",
    "    cumulative_score = team1score + team2score\n",
    "    print(f'Cumulative score of {cumulative_score}.')\n",
    "\n",
    "    if team1score == 0 and team2score == 0:\n",
    "        print('Both teams were shut out.')\n",
    "    elif team1score == 0 or team2score == 0:\n",
    "        print('One team was shut out.')\n",
    "    else:\n",
    "        print('No teams were shut out.')\n",
    "\n",
    "game_summary(0,3)\n",
    "print()\n",
    "game_summary(23,18)\n",
    "print()\n",
    "print('Example 1:')\n",
    "game_summary(17, 22)\n",
    "print()\n",
    "print('Example 2:')\n",
    "game_summary(0, 0)"
   ]
  },
  {
   "cell_type": "markdown",
   "id": "a65e086b-cb74-4040-893f-f69c905fa520",
   "metadata": {},
   "source": [
    "Problem 2: You are to write code to do the following (Note: you _can_ use a function here, but it's not necessary to do so):<br>\n",
    "Take as keyboard input _up to 7_ strings from a user (the user can enter \"Q\" or similar to stop early) and print the following:\n",
    "1. The total sum of characters _across all of the strings_\n",
    "2. The shortest of the strings\n",
    "3. The longest of the strings\n",
    "4. The number of times the string \"Hello\" appears among the ones that are entered. \n",
    "<br> <br> Ex: Assume the following strings are entered from the keyboard:\n",
    "<br>_Please input up to 7 strings (\"Q\" to stop early): Hello_\n",
    "<br>_Please input up to 7 strings (\"Q\" to stop early): Investments_\n",
    "<br>_Please input up to 7 strings (\"Q\" to stop early): Hello_\n",
    "<br>_Please input up to 7 strings (\"Q\" to stop early): Retirement_\n",
    "<br>_Please input up to 7 strings (\"Q\" to stop early): Gold_\n",
    "<br>_Please input up to 7 strings (\"Q\" to stop early): Q_\n",
    "<br><br> The output will be:\n",
    "<br> _A total of 35 characters were input_\n",
    "<br> _The shortest string is \"Gold\"_\n",
    "<br> _The longest string is \"Investments\"_\n",
    "<br> _\"Hello\" appears twice among the input strings._"
   ]
  },
  {
   "cell_type": "code",
   "execution_count": 20,
   "id": "57fccdf8-be50-41cf-93d6-b7e7f97002e2",
   "metadata": {},
   "outputs": [
    {
     "name": "stdin",
     "output_type": "stream",
     "text": [
      "Please input up to 7 strings (\"Q\" to stop early): Hello\n",
      "Please input up to 7 strings (\"Q\" to stop early): Investments\n",
      "Please input up to 7 strings (\"Q\" to stop early): Hello\n",
      "Please input up to 7 strings (\"Q\" to stop early): Retirement\n",
      "Please input up to 7 strings (\"Q\" to stop early): Gold\n",
      "Please input up to 7 strings (\"Q\" to stop early): Q\n"
     ]
    },
    {
     "name": "stdout",
     "output_type": "stream",
     "text": [
      "A total of 35 characters were input.\n",
      "The shortest string is \"Gold\".\n",
      "The longest string is \"Investments.\n",
      "The string \"Hello\" appears a total of 2 times.\n"
     ]
    }
   ],
   "source": [
    "inputs = []\n",
    "\n",
    "for i in range(7):\n",
    "    user_input = input('Please input up to 7 strings (\"Q\" to stop early):').strip()\n",
    "    if user_input.upper() == 'Q':\n",
    "        break;\n",
    "    inputs.append(user_input)\n",
    "\n",
    "total_char = sum(len(user_input) for user_input in inputs)\n",
    "print(f'A total of {total_char} characters were input.')\n",
    "\n",
    "shortest_str = min(inputs, key = len)\n",
    "print(f'The shortest string is \"{shortest_str}\".')\n",
    "\n",
    "longest_str = max(inputs, key = len)\n",
    "print(f'The longest string is \"{longest_str}.')\n",
    "\n",
    "num_Hello = inputs.count('Hello')\n",
    "print(f'The string \"Hello\" appears a total of {num_Hello} times.')"
   ]
  },
  {
   "cell_type": "code",
   "execution_count": null,
   "id": "9f837a9b-8fef-484d-ac73-1c0bd098b5a3",
   "metadata": {},
   "outputs": [],
   "source": []
  }
 ],
 "metadata": {
  "kernelspec": {
   "display_name": "Python 3 (ipykernel)",
   "language": "python",
   "name": "python3"
  },
  "language_info": {
   "codemirror_mode": {
    "name": "ipython",
    "version": 3
   },
   "file_extension": ".py",
   "mimetype": "text/x-python",
   "name": "python",
   "nbconvert_exporter": "python",
   "pygments_lexer": "ipython3",
   "version": "3.12.7"
  }
 },
 "nbformat": 4,
 "nbformat_minor": 5
}
